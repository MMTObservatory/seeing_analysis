{
 "cells": [
  {
   "cell_type": "code",
   "execution_count": 1,
   "metadata": {},
   "outputs": [],
   "source": [
    "from datetime import datetime\n",
    "\n",
    "import time\n",
    "import os\n",
    "import sys\n",
    "from pathlib import Path\n",
    "\n",
    "import numpy as np\n",
    "from scipy.stats import lognorm\n",
    "import pandas as pd\n",
    "\n",
    "from astropy import stats\n",
    "import astropy.units as u\n",
    "\n",
    "import matplotlib\n",
    "#matplotlib.use('nbagg')\n",
    "\n",
    "from matplotlib import style\n",
    "style.use('ggplot')\n",
    "import matplotlib.pyplot as plt\n",
    "\n",
    "%load_ext autoreload\n",
    "%autoreload 2\n",
    "%matplotlib widget"
   ]
  },
  {
   "cell_type": "code",
   "execution_count": 2,
   "metadata": {},
   "outputs": [],
   "source": [
    "rootdir = Path(\"/Volumes/LaCie 8TB/wfsdat\")\n",
    "# use find to make this csv list\n",
    "with open(rootdir / \"reanalyze_csvs_2019_q2.txt\") as f:\n",
    "    csvs = f.readlines()\n",
    "\n",
    "# loop through the csv files and read them with pandas\n",
    "frames = []\n",
    "for csv in csvs:\n",
    "    frames.append(pd.read_csv(rootdir / csv.rstrip()))\n",
    "\n",
    "# now concat each frame into one big frame containing all of the data\n",
    "data = pd.concat(frames)"
   ]
  },
  {
   "cell_type": "code",
   "execution_count": 3,
   "metadata": {},
   "outputs": [
    {
     "data": {
      "text/html": [
       "<div>\n",
       "<style scoped>\n",
       "    .dataframe tbody tr th:only-of-type {\n",
       "        vertical-align: middle;\n",
       "    }\n",
       "\n",
       "    .dataframe tbody tr th {\n",
       "        vertical-align: top;\n",
       "    }\n",
       "\n",
       "    .dataframe thead th {\n",
       "        text-align: right;\n",
       "    }\n",
       "</style>\n",
       "<table border=\"1\" class=\"dataframe\">\n",
       "  <thead>\n",
       "    <tr style=\"text-align: right;\">\n",
       "      <th></th>\n",
       "      <th>count</th>\n",
       "      <th>unique</th>\n",
       "      <th>top</th>\n",
       "      <th>freq</th>\n",
       "    </tr>\n",
       "    <tr>\n",
       "      <th>wfs</th>\n",
       "      <th></th>\n",
       "      <th></th>\n",
       "      <th></th>\n",
       "      <th></th>\n",
       "    </tr>\n",
       "  </thead>\n",
       "  <tbody>\n",
       "    <tr>\n",
       "      <td>binospec</td>\n",
       "      <td>6877</td>\n",
       "      <td>1</td>\n",
       "      <td>binospec</td>\n",
       "      <td>6877</td>\n",
       "    </tr>\n",
       "    <tr>\n",
       "      <td>f5</td>\n",
       "      <td>701</td>\n",
       "      <td>1</td>\n",
       "      <td>f5</td>\n",
       "      <td>701</td>\n",
       "    </tr>\n",
       "    <tr>\n",
       "      <td>mmirs</td>\n",
       "      <td>1892</td>\n",
       "      <td>1</td>\n",
       "      <td>mmirs</td>\n",
       "      <td>1892</td>\n",
       "    </tr>\n",
       "    <tr>\n",
       "      <td>newf9</td>\n",
       "      <td>253</td>\n",
       "      <td>1</td>\n",
       "      <td>newf9</td>\n",
       "      <td>253</td>\n",
       "    </tr>\n",
       "  </tbody>\n",
       "</table>\n",
       "</div>"
      ],
      "text/plain": [
       "         count unique       top  freq\n",
       "wfs                                  \n",
       "binospec  6877      1  binospec  6877\n",
       "f5         701      1        f5   701\n",
       "mmirs     1892      1     mmirs  1892\n",
       "newf9      253      1     newf9   253"
      ]
     },
     "execution_count": 3,
     "metadata": {},
     "output_type": "execute_result"
    }
   ],
   "source": [
    "g = data.groupby('wfs')\n",
    "g.wfs.describe()"
   ]
  },
  {
   "cell_type": "code",
   "execution_count": 4,
   "metadata": {},
   "outputs": [],
   "source": [
    "# re-calculate the seeing using updated spot FWHM for binospec. filter out any NaN values...\n",
    "#fixed_list = []\n",
    "#for wfskey, group in g:\n",
    "#    wfs = wfs_systems[wfskey]\n",
    "#    group = g.get_group(wfskey)\n",
    "#    #group.apply(seeing, axis=1, args=(wfs,))\n",
    "#    group['fixed_raw_seeing'], group['fixed_seeing'] = seeing(group, wfs)\n",
    "#    fixed_list.append(group)\n",
    "#fixed = pd.concat(fixed_list)\n",
    "#fixed.rename(index=str, columns={\"seeing\": \"orig_seeing\", \"raw seeing\": \"orig_raw_seeing\"}, inplace=True)\n",
    "#fixed.rename(index=str, columns={\"fixed_seeing\": \"seeing\", \"fixed_raw_seeing\": \"raw seeing\"}, inplace=True)\n",
    "fixed = data[np.isfinite(data['seeing'])]\n",
    "fixed = fixed[fixed['fwhm'] > 0.]\n",
    "fixed = fixed[fixed['seeing'] > 0.]\n",
    "fixed = fixed[fixed['seeing'] < 4.]\n",
    "fixed = fixed[fixed['time'] > \"2019-01\"]"
   ]
  },
  {
   "cell_type": "code",
   "execution_count": 5,
   "metadata": {},
   "outputs": [
    {
     "data": {
      "text/html": [
       "<div>\n",
       "<style scoped>\n",
       "    .dataframe tbody tr th:only-of-type {\n",
       "        vertical-align: middle;\n",
       "    }\n",
       "\n",
       "    .dataframe tbody tr th {\n",
       "        vertical-align: top;\n",
       "    }\n",
       "\n",
       "    .dataframe thead th {\n",
       "        text-align: right;\n",
       "    }\n",
       "</style>\n",
       "<table border=\"1\" class=\"dataframe\">\n",
       "  <thead>\n",
       "    <tr style=\"text-align: right;\">\n",
       "      <th></th>\n",
       "      <th>time</th>\n",
       "      <th>wfs</th>\n",
       "      <th>file</th>\n",
       "      <th>exptime</th>\n",
       "      <th>airmass</th>\n",
       "      <th>az</th>\n",
       "      <th>el</th>\n",
       "      <th>osst</th>\n",
       "      <th>outt</th>\n",
       "      <th>chamt</th>\n",
       "      <th>...</th>\n",
       "      <th>focerr</th>\n",
       "      <th>cc_x_err</th>\n",
       "      <th>cc_y_err</th>\n",
       "      <th>xcen</th>\n",
       "      <th>ycen</th>\n",
       "      <th>seeing</th>\n",
       "      <th>raw_seeing</th>\n",
       "      <th>fwhm</th>\n",
       "      <th>wavefront_rms</th>\n",
       "      <th>residual_rms</th>\n",
       "    </tr>\n",
       "  </thead>\n",
       "  <tbody>\n",
       "    <tr>\n",
       "      <td>0</td>\n",
       "      <td>2019-04-01T02:39:23.141000</td>\n",
       "      <td>binospec</td>\n",
       "      <td>wfs_ff_cal_img_2019.0401.023923.fits</td>\n",
       "      <td>10.0</td>\n",
       "      <td>1.3061</td>\n",
       "      <td>216.504173</td>\n",
       "      <td>49.963706</td>\n",
       "      <td>7.55</td>\n",
       "      <td>4.5</td>\n",
       "      <td>4.620</td>\n",
       "      <td>...</td>\n",
       "      <td>-2.90</td>\n",
       "      <td>4.492</td>\n",
       "      <td>-2.471</td>\n",
       "      <td>260.494779</td>\n",
       "      <td>255.002666</td>\n",
       "      <td>1.258967</td>\n",
       "      <td>1.477748</td>\n",
       "      <td>7.097846</td>\n",
       "      <td>693.999854</td>\n",
       "      <td>1437.663124</td>\n",
       "    </tr>\n",
       "    <tr>\n",
       "      <td>1</td>\n",
       "      <td>2019-04-01T02:40:46.887000</td>\n",
       "      <td>binospec</td>\n",
       "      <td>wfs_ff_cal_img_2019.0401.024046.fits</td>\n",
       "      <td>10.0</td>\n",
       "      <td>1.3096</td>\n",
       "      <td>216.981413</td>\n",
       "      <td>49.783590</td>\n",
       "      <td>7.42</td>\n",
       "      <td>4.4</td>\n",
       "      <td>4.636</td>\n",
       "      <td>...</td>\n",
       "      <td>-7.25</td>\n",
       "      <td>0.108</td>\n",
       "      <td>0.000</td>\n",
       "      <td>258.997989</td>\n",
       "      <td>254.012775</td>\n",
       "      <td>1.341088</td>\n",
       "      <td>1.576669</td>\n",
       "      <td>7.472574</td>\n",
       "      <td>607.197684</td>\n",
       "      <td>1442.069504</td>\n",
       "    </tr>\n",
       "    <tr>\n",
       "      <td>2</td>\n",
       "      <td>2019-04-01T02:41:56.710000</td>\n",
       "      <td>binospec</td>\n",
       "      <td>wfs_ff_cal_img_2019.0401.024156.fits</td>\n",
       "      <td>30.0</td>\n",
       "      <td>1.3124</td>\n",
       "      <td>217.360817</td>\n",
       "      <td>49.637828</td>\n",
       "      <td>7.35</td>\n",
       "      <td>4.5</td>\n",
       "      <td>4.528</td>\n",
       "      <td>...</td>\n",
       "      <td>1.89</td>\n",
       "      <td>-0.000</td>\n",
       "      <td>-1.585</td>\n",
       "      <td>258.498706</td>\n",
       "      <td>254.498693</td>\n",
       "      <td>1.250797</td>\n",
       "      <td>1.472402</td>\n",
       "      <td>7.077508</td>\n",
       "      <td>227.487082</td>\n",
       "      <td>1411.248586</td>\n",
       "    </tr>\n",
       "    <tr>\n",
       "      <td>3</td>\n",
       "      <td>2019-04-01T02:42:31.125000</td>\n",
       "      <td>binospec</td>\n",
       "      <td>wfs_ff_cal_img_2019.0401.024231.fits</td>\n",
       "      <td>30.0</td>\n",
       "      <td>1.3139</td>\n",
       "      <td>217.555245</td>\n",
       "      <td>49.561363</td>\n",
       "      <td>7.33</td>\n",
       "      <td>4.5</td>\n",
       "      <td>4.544</td>\n",
       "      <td>...</td>\n",
       "      <td>0.63</td>\n",
       "      <td>-0.332</td>\n",
       "      <td>0.000</td>\n",
       "      <td>259.495068</td>\n",
       "      <td>254.499556</td>\n",
       "      <td>1.350594</td>\n",
       "      <td>1.590970</td>\n",
       "      <td>7.526497</td>\n",
       "      <td>334.123869</td>\n",
       "      <td>1483.614695</td>\n",
       "    </tr>\n",
       "    <tr>\n",
       "      <td>4</td>\n",
       "      <td>2019-04-01T02:43:04.503000</td>\n",
       "      <td>binospec</td>\n",
       "      <td>wfs_ff_cal_img_2019.0401.024304.fits</td>\n",
       "      <td>30.0</td>\n",
       "      <td>1.3153</td>\n",
       "      <td>217.740961</td>\n",
       "      <td>49.488676</td>\n",
       "      <td>7.35</td>\n",
       "      <td>4.5</td>\n",
       "      <td>4.534</td>\n",
       "      <td>...</td>\n",
       "      <td>-0.00</td>\n",
       "      <td>0.490</td>\n",
       "      <td>-0.025</td>\n",
       "      <td>258.997940</td>\n",
       "      <td>254.006411</td>\n",
       "      <td>1.348826</td>\n",
       "      <td>1.589904</td>\n",
       "      <td>7.522480</td>\n",
       "      <td>274.113596</td>\n",
       "      <td>1364.566279</td>\n",
       "    </tr>\n",
       "    <tr>\n",
       "      <td>...</td>\n",
       "      <td>...</td>\n",
       "      <td>...</td>\n",
       "      <td>...</td>\n",
       "      <td>...</td>\n",
       "      <td>...</td>\n",
       "      <td>...</td>\n",
       "      <td>...</td>\n",
       "      <td>...</td>\n",
       "      <td>...</td>\n",
       "      <td>...</td>\n",
       "      <td>...</td>\n",
       "      <td>...</td>\n",
       "      <td>...</td>\n",
       "      <td>...</td>\n",
       "      <td>...</td>\n",
       "      <td>...</td>\n",
       "      <td>...</td>\n",
       "      <td>...</td>\n",
       "      <td>...</td>\n",
       "      <td>...</td>\n",
       "      <td>...</td>\n",
       "    </tr>\n",
       "    <tr>\n",
       "      <td>103</td>\n",
       "      <td>2019-06-29T08:27:30.328000</td>\n",
       "      <td>binospec</td>\n",
       "      <td>wfs_ff_cal_img_2019.0629.082730.fits</td>\n",
       "      <td>40.0</td>\n",
       "      <td>1.3731</td>\n",
       "      <td>135.103391</td>\n",
       "      <td>46.738650</td>\n",
       "      <td>19.00</td>\n",
       "      <td>18.8</td>\n",
       "      <td>19.453</td>\n",
       "      <td>...</td>\n",
       "      <td>-4.64</td>\n",
       "      <td>-0.000</td>\n",
       "      <td>-0.848</td>\n",
       "      <td>287.013328</td>\n",
       "      <td>247.992468</td>\n",
       "      <td>1.476899</td>\n",
       "      <td>1.786373</td>\n",
       "      <td>8.257109</td>\n",
       "      <td>270.688331</td>\n",
       "      <td>1257.579326</td>\n",
       "    </tr>\n",
       "    <tr>\n",
       "      <td>104</td>\n",
       "      <td>2019-06-29T08:28:13.571000</td>\n",
       "      <td>binospec</td>\n",
       "      <td>wfs_ff_cal_img_2019.0629.082813.fits</td>\n",
       "      <td>40.0</td>\n",
       "      <td>1.3707</td>\n",
       "      <td>135.314191</td>\n",
       "      <td>46.847826</td>\n",
       "      <td>19.00</td>\n",
       "      <td>18.8</td>\n",
       "      <td>19.457</td>\n",
       "      <td>...</td>\n",
       "      <td>0.00</td>\n",
       "      <td>-0.000</td>\n",
       "      <td>-0.000</td>\n",
       "      <td>286.991534</td>\n",
       "      <td>248.002485</td>\n",
       "      <td>1.730431</td>\n",
       "      <td>2.090835</td>\n",
       "      <td>9.374293</td>\n",
       "      <td>425.365219</td>\n",
       "      <td>1227.116916</td>\n",
       "    </tr>\n",
       "    <tr>\n",
       "      <td>105</td>\n",
       "      <td>2019-06-29T08:28:56.815000</td>\n",
       "      <td>binospec</td>\n",
       "      <td>wfs_ff_cal_img_2019.0629.082856.fits</td>\n",
       "      <td>40.0</td>\n",
       "      <td>1.3683</td>\n",
       "      <td>135.522577</td>\n",
       "      <td>46.954879</td>\n",
       "      <td>19.00</td>\n",
       "      <td>18.8</td>\n",
       "      <td>19.250</td>\n",
       "      <td>...</td>\n",
       "      <td>4.16</td>\n",
       "      <td>0.000</td>\n",
       "      <td>-0.000</td>\n",
       "      <td>285.998008</td>\n",
       "      <td>248.014144</td>\n",
       "      <td>1.657968</td>\n",
       "      <td>2.001175</td>\n",
       "      <td>9.047824</td>\n",
       "      <td>446.157100</td>\n",
       "      <td>1581.625990</td>\n",
       "    </tr>\n",
       "    <tr>\n",
       "      <td>106</td>\n",
       "      <td>2019-06-29T08:29:40.167000</td>\n",
       "      <td>binospec</td>\n",
       "      <td>wfs_ff_cal_img_2019.0629.082940.fits</td>\n",
       "      <td>40.0</td>\n",
       "      <td>1.3659</td>\n",
       "      <td>135.735201</td>\n",
       "      <td>47.065235</td>\n",
       "      <td>19.00</td>\n",
       "      <td>18.8</td>\n",
       "      <td>19.086</td>\n",
       "      <td>...</td>\n",
       "      <td>-31.63</td>\n",
       "      <td>0.926</td>\n",
       "      <td>-1.884</td>\n",
       "      <td>287.991329</td>\n",
       "      <td>246.991772</td>\n",
       "      <td>1.598373</td>\n",
       "      <td>1.927212</td>\n",
       "      <td>8.776958</td>\n",
       "      <td>849.285028</td>\n",
       "      <td>1389.882239</td>\n",
       "    </tr>\n",
       "    <tr>\n",
       "      <td>107</td>\n",
       "      <td>2019-06-29T08:30:23.375000</td>\n",
       "      <td>binospec</td>\n",
       "      <td>wfs_ff_cal_img_2019.0629.083023.fits</td>\n",
       "      <td>40.0</td>\n",
       "      <td>1.3635</td>\n",
       "      <td>135.948866</td>\n",
       "      <td>47.173328</td>\n",
       "      <td>19.00</td>\n",
       "      <td>18.8</td>\n",
       "      <td>19.189</td>\n",
       "      <td>...</td>\n",
       "      <td>-14.99</td>\n",
       "      <td>-0.000</td>\n",
       "      <td>-0.894</td>\n",
       "      <td>285.989598</td>\n",
       "      <td>246.984673</td>\n",
       "      <td>1.680875</td>\n",
       "      <td>2.024550</td>\n",
       "      <td>9.133133</td>\n",
       "      <td>460.788066</td>\n",
       "      <td>1390.499572</td>\n",
       "    </tr>\n",
       "  </tbody>\n",
       "</table>\n",
       "<p>9709 rows × 25 columns</p>\n",
       "</div>"
      ],
      "text/plain": [
       "                           time       wfs  \\\n",
       "0    2019-04-01T02:39:23.141000  binospec   \n",
       "1    2019-04-01T02:40:46.887000  binospec   \n",
       "2    2019-04-01T02:41:56.710000  binospec   \n",
       "3    2019-04-01T02:42:31.125000  binospec   \n",
       "4    2019-04-01T02:43:04.503000  binospec   \n",
       "..                          ...       ...   \n",
       "103  2019-06-29T08:27:30.328000  binospec   \n",
       "104  2019-06-29T08:28:13.571000  binospec   \n",
       "105  2019-06-29T08:28:56.815000  binospec   \n",
       "106  2019-06-29T08:29:40.167000  binospec   \n",
       "107  2019-06-29T08:30:23.375000  binospec   \n",
       "\n",
       "                                     file  exptime  airmass          az  \\\n",
       "0    wfs_ff_cal_img_2019.0401.023923.fits     10.0   1.3061  216.504173   \n",
       "1    wfs_ff_cal_img_2019.0401.024046.fits     10.0   1.3096  216.981413   \n",
       "2    wfs_ff_cal_img_2019.0401.024156.fits     30.0   1.3124  217.360817   \n",
       "3    wfs_ff_cal_img_2019.0401.024231.fits     30.0   1.3139  217.555245   \n",
       "4    wfs_ff_cal_img_2019.0401.024304.fits     30.0   1.3153  217.740961   \n",
       "..                                    ...      ...      ...         ...   \n",
       "103  wfs_ff_cal_img_2019.0629.082730.fits     40.0   1.3731  135.103391   \n",
       "104  wfs_ff_cal_img_2019.0629.082813.fits     40.0   1.3707  135.314191   \n",
       "105  wfs_ff_cal_img_2019.0629.082856.fits     40.0   1.3683  135.522577   \n",
       "106  wfs_ff_cal_img_2019.0629.082940.fits     40.0   1.3659  135.735201   \n",
       "107  wfs_ff_cal_img_2019.0629.083023.fits     40.0   1.3635  135.948866   \n",
       "\n",
       "            el   osst  outt   chamt  ...  focerr  cc_x_err  cc_y_err  \\\n",
       "0    49.963706   7.55   4.5   4.620  ...   -2.90     4.492    -2.471   \n",
       "1    49.783590   7.42   4.4   4.636  ...   -7.25     0.108     0.000   \n",
       "2    49.637828   7.35   4.5   4.528  ...    1.89    -0.000    -1.585   \n",
       "3    49.561363   7.33   4.5   4.544  ...    0.63    -0.332     0.000   \n",
       "4    49.488676   7.35   4.5   4.534  ...   -0.00     0.490    -0.025   \n",
       "..         ...    ...   ...     ...  ...     ...       ...       ...   \n",
       "103  46.738650  19.00  18.8  19.453  ...   -4.64    -0.000    -0.848   \n",
       "104  46.847826  19.00  18.8  19.457  ...    0.00    -0.000    -0.000   \n",
       "105  46.954879  19.00  18.8  19.250  ...    4.16     0.000    -0.000   \n",
       "106  47.065235  19.00  18.8  19.086  ...  -31.63     0.926    -1.884   \n",
       "107  47.173328  19.00  18.8  19.189  ...  -14.99    -0.000    -0.894   \n",
       "\n",
       "           xcen        ycen    seeing  raw_seeing      fwhm  wavefront_rms  \\\n",
       "0    260.494779  255.002666  1.258967    1.477748  7.097846     693.999854   \n",
       "1    258.997989  254.012775  1.341088    1.576669  7.472574     607.197684   \n",
       "2    258.498706  254.498693  1.250797    1.472402  7.077508     227.487082   \n",
       "3    259.495068  254.499556  1.350594    1.590970  7.526497     334.123869   \n",
       "4    258.997940  254.006411  1.348826    1.589904  7.522480     274.113596   \n",
       "..          ...         ...       ...         ...       ...            ...   \n",
       "103  287.013328  247.992468  1.476899    1.786373  8.257109     270.688331   \n",
       "104  286.991534  248.002485  1.730431    2.090835  9.374293     425.365219   \n",
       "105  285.998008  248.014144  1.657968    2.001175  9.047824     446.157100   \n",
       "106  287.991329  246.991772  1.598373    1.927212  8.776958     849.285028   \n",
       "107  285.989598  246.984673  1.680875    2.024550  9.133133     460.788066   \n",
       "\n",
       "     residual_rms  \n",
       "0     1437.663124  \n",
       "1     1442.069504  \n",
       "2     1411.248586  \n",
       "3     1483.614695  \n",
       "4     1364.566279  \n",
       "..            ...  \n",
       "103   1257.579326  \n",
       "104   1227.116916  \n",
       "105   1581.625990  \n",
       "106   1389.882239  \n",
       "107   1390.499572  \n",
       "\n",
       "[9709 rows x 25 columns]"
      ]
     },
     "execution_count": 5,
     "metadata": {},
     "output_type": "execute_result"
    }
   ],
   "source": [
    "fixed.sort_values(by='time')"
   ]
  },
  {
   "cell_type": "code",
   "execution_count": 6,
   "metadata": {},
   "outputs": [],
   "source": [
    "# create a date-time index so we can group and analyze the data by timestamps\n",
    "fixed = fixed.set_index(pd.DatetimeIndex(fixed['time'], name='ut'))"
   ]
  },
  {
   "cell_type": "code",
   "execution_count": 8,
   "metadata": {},
   "outputs": [
    {
     "data": {
      "image/png": "[encoded data removed]",
      "text/plain": [
       "<Figure size 432x288 with 1 Axes>"
      ]
     },
     "metadata": {
      "needs_background": "light"
     },
     "output_type": "display_data"
    }
   ],
   "source": [
    "# make raw histogram of the zenith-corrected seeing column\n",
    "fixed.hist(column='seeing', bins=100, range=(0.0, 4.0), alpha=0.6)\n",
    "plt.title(\"2019-04-01 through 2019-06-30\")\n",
    "plt.xlabel(\"Seeing (arcsec)\")\n",
    "plt.ylabel(\"N\")\n",
    "plt.show()"
   ]
  },
  {
   "cell_type": "code",
   "execution_count": 9,
   "metadata": {},
   "outputs": [
    {
     "name": "stdout",
     "output_type": "stream",
     "text": [
      "0.20483437012416683 -0.5560871108270198 1.7333298681709928\n"
     ]
    }
   ],
   "source": [
    "# fit a log-normal distribution to the seeing data\n",
    "sigma, loc, exp_mu = lognorm.fit(fixed['seeing'])\n",
    "print(sigma, loc, exp_mu)\n",
    "x = np.arange(0.0, 4.0, 0.01)\n",
    "p = lognorm.pdf(x, sigma, loc=loc, scale=exp_mu)\n",
    "mu = np.log(exp_mu)\n",
    "mode = np.exp(mu - sigma**2) + loc\n",
    "median = np.nanmedian(fixed['seeing'])\n",
    "fit_median = exp_mu + loc"
   ]
  },
  {
   "cell_type": "code",
   "execution_count": 10,
   "metadata": {},
   "outputs": [
    {
     "data": {
      "image/png": "[encoded data removed]",
      "text/plain": [
       "<Figure size 432x288 with 1 Axes>"
      ]
     },
     "metadata": {
      "needs_background": "light"
     },
     "output_type": "display_data"
    }
   ],
   "source": [
    "# plot normalized histogram with the fit and the median/mode calculated from the fit.\n",
    "plt.hist(fixed['seeing'], density=True, bins=100, range=(0.0, 4.0), label=\"hist\", alpha=0.6)\n",
    "logp = plt.plot(x, p, label=\"logp\")\n",
    "plt.xlabel(\"Seeing (arcsec)\")\n",
    "plt.ylabel(\"Number Density\")\n",
    "plt.title(\"2019-04-01 through 2019-06-30\")\n",
    "plt.legend([\"median=%.2f\\\", mode=%.2f\\\"\" % (fit_median, mode), \"median=%.2f\\\"\" % (\n",
    "    median\n",
    ")])\n",
    "plt.savefig(\"2019q2_hist.png\")\n",
    "plt.show()"
   ]
  },
  {
   "cell_type": "code",
   "execution_count": 11,
   "metadata": {},
   "outputs": [
    {
     "data": {
      "image/png": "[encoded data removed]",
      "text/plain": [
       "<Figure size 432x288 with 1 Axes>"
      ]
     },
     "metadata": {
      "needs_background": "light"
     },
     "output_type": "display_data"
    }
   ],
   "source": [
    "# panda time indexing makes it easy to group by month\n",
    "months = {}\n",
    "legends = []\n",
    "months['April'] = fixed['2019-04']\n",
    "months['May'] = fixed['2019-05']\n",
    "months['June'] = fixed['2019-06']\n",
    "for m in months:\n",
    "    plt.hist(months[m]['seeing'], bins=100, range=(0.0, 4.0), label=m, alpha=0.6)\n",
    "    legend = \"%s: %.2f\\\"\" % (m, np.median(months[m]['seeing']))\n",
    "    legends.append(legend)\n",
    "plt.legend(legends)\n",
    "plt.xlabel(\"Seeing (arcsec)\")\n",
    "plt.ylabel(\"N\")\n",
    "#plt.title(\"Data and median seeing values grouped by month\")\n",
    "plt.savefig(\"2019q2_monthly.png\")\n",
    "plt.show()"
   ]
  },
  {
   "cell_type": "code",
   "execution_count": 13,
   "metadata": {},
   "outputs": [
    {
     "data": {
      "text/plain": [
       "(1856, 4179, 3674)"
      ]
     },
     "execution_count": 13,
     "metadata": {},
     "output_type": "execute_result"
    }
   ],
   "source": [
    "len(months['April']), len(months['May']), len(months['June'])"
   ]
  },
  {
   "cell_type": "code",
   "execution_count": 14,
   "metadata": {},
   "outputs": [],
   "source": [
    "# now use the between_time() method to split the data into first and second halves of the night.\n",
    "first_half = fixed.between_time(start_time='00:00', end_time='07:00')\n",
    "second_half = fixed.between_time(start_time='07:00', end_time='14:00')\n",
    "#first_half = months['December'].between_time(start_time='00:00', end_time='07:00')\n",
    "#second_half = months['December'].between_time(start_time='07:00', end_time='14:00')\n",
    "med_1st = np.median(first_half['seeing'])\n",
    "med_2nd = np.median(second_half['seeing'])"
   ]
  },
  {
   "cell_type": "code",
   "execution_count": 15,
   "metadata": {},
   "outputs": [
    {
     "data": {
      "image/png": "[encoded data removed]",
      "text/plain": [
       "<Figure size 432x288 with 1 Axes>"
      ]
     },
     "metadata": {
      "needs_background": "light"
     },
     "output_type": "display_data"
    }
   ],
   "source": [
    "# plot the results and show that the seeing is better later in the night...\n",
    "plt.hist(first_half['seeing'], bins=100, range=(0.0, 4.0), label=\"1st\", alpha=0.6)\n",
    "plt.hist(second_half['seeing'], bins=100, range=(0.0, 4.0), label=\"2nd\", alpha=0.6)\n",
    "plt.legend([\"1st Half: %.2f\\\"\" % med_1st, \"2nd Half: %.2f\\\"\" % med_2nd])\n",
    "plt.xlabel(\"Seeing (arcsec)\")\n",
    "plt.ylabel(\"N\")\n",
    "#plt.title(\"Data and median seeing values grouped by half of the night\")\n",
    "plt.savefig(\"2019q2_1st2nd.png\")\n",
    "plt.show()"
   ]
  },
  {
   "cell_type": "code",
   "execution_count": 16,
   "metadata": {},
   "outputs": [
    {
     "data": {
      "image/png": "[encoded data removed]",
      "text/plain": [
       "<Figure size 432x288 with 1 Axes>"
      ]
     },
     "metadata": {
      "needs_background": "light"
     },
     "output_type": "display_data"
    }
   ],
   "source": [
    "import matplotlib.dates as mdates\n",
    "\n",
    "# make a new data frame that resamples the WFS data daily into the median, min, and max seeing for each day.\n",
    "#fixed = fixed[\"2018-06-30\":\"2018-10-01\"]\n",
    "fig, ax = plt.subplots()\n",
    "daily = pd.DataFrame()\n",
    "daily['seeing'] = fixed.seeing.resample('D').median()\n",
    "daily['max'] = fixed.seeing.resample('D').max()\n",
    "daily['min'] = fixed.seeing.resample('D').min()\n",
    "lowb = daily['seeing'] - daily['min']\n",
    "upb = daily['max'] - daily['seeing']\n",
    "plt.errorbar(daily.index, daily['seeing'], yerr=[lowb, upb], fmt='o')\n",
    "ax.xaxis.set_major_locator(mdates.MonthLocator())\n",
    "ax.xaxis.set_major_formatter(mdates.DateFormatter(\"%m-%d-%Y\"))\n",
    "fig.autofmt_xdate()\n",
    "plt.ylabel(\"Seeing (arcsec)\")\n",
    "#plt.title(\"Nightly median seeing\")\n",
    "plt.savefig(\"2019q2_nightly.pdf\")\n",
    "plt.show()"
   ]
  },
  {
   "cell_type": "code",
   "execution_count": 17,
   "metadata": {},
   "outputs": [],
   "source": [
    "date_list = list(daily.index.strftime('%Y-%m-%d'))\n",
    "data = [np.array(fixed[date]['seeing']) for date in date_list]\n",
    "clean_data = {}\n",
    "for d, arr in zip(date_list, data):\n",
    "    if len(arr) > 0:\n",
    "        clean_data[d] = arr\n",
    "date_labels = [datetime.strptime(d, \"%Y-%m-%d\").date() for d in clean_data.keys()]"
   ]
  },
  {
   "cell_type": "code",
   "execution_count": 23,
   "metadata": {},
   "outputs": [
    {
     "data": {
      "image/png": "[encoded data removed]",
      "text/plain": [
       "<Figure size 720x360 with 1 Axes>"
      ]
     },
     "metadata": {
      "needs_background": "light"
     },
     "output_type": "display_data"
    }
   ],
   "source": [
    "fig, ax = plt.subplots(figsize=(10,5))\n",
    "plt.violinplot(clean_data.values(), mdates.date2num(date_labels), points=50, widths=1.5,\n",
    "               showextrema=True, showmedians=True, bw_method='silverman')\n",
    "\n",
    "ax.xaxis.set_major_locator(mdates.MonthLocator())\n",
    "ax.xaxis.set_major_formatter(mdates.ConciseDateFormatter(\"%m-%d-%Y\"))\n",
    "fig.autofmt_xdate()\n",
    "plt.ylabel(\"Seeing (arcsec)\")\n",
    "plt.savefig(\"2019q2_violin.pdf\")\n",
    "plt.show()"
   ]
  },
  {
   "cell_type": "code",
   "execution_count": 40,
   "metadata": {},
   "outputs": [
    {
     "data": {
      "image/png": "[encoded data removed]",
      "text/plain": [
       "<Figure size 432x288 with 1 Axes>"
      ]
     },
     "metadata": {
      "needs_background": "light"
     },
     "output_type": "display_data"
    }
   ],
   "source": [
    "fig, ax = plt.subplots()\n",
    "ax.scatter(fixed['2019-06-16'].index, fixed['2019-06-16']['seeing'])\n",
    "ax.set_xlabel(\"UT\")\n",
    "ax.set_ylabel(\"Seeing (arcsec)\")\n",
    "ax.set_title(\"2019-06-16\")\n",
    "fig.autofmt_xdate()\n",
    "ax.xaxis.set_major_locator(mdates.HourLocator())\n",
    "ax.xaxis.set_major_formatter(mdates.DateFormatter(\"%H:%M\"))\n",
    "ax.set_xlim([datetime(2019, 6, 16, 2, 30, 0), datetime(2019, 6, 16, 10, 30, 0)])\n",
    "plt.savefig(\"2019_06_16.pdf\")\n",
    "plt.show()"
   ]
  },
  {
   "cell_type": "code",
   "execution_count": 39,
   "metadata": {},
   "outputs": [
    {
     "data": {
      "text/plain": [
       "Index(['time', 'wfs', 'file', 'exptime', 'airmass', 'az', 'el', 'osst', 'outt',\n",
       "       'chamt', 'tiltx', 'tilty', 'transx', 'transy', 'focus', 'focerr',\n",
       "       'cc_x_err', 'cc_y_err', 'xcen', 'ycen', 'seeing', 'raw_seeing', 'fwhm',\n",
       "       'wavefront_rms', 'residual_rms'],\n",
       "      dtype='object')"
      ]
     },
     "execution_count": 39,
     "metadata": {},
     "output_type": "execute_result"
    }
   ],
   "source": [
    "fixed.columns"
   ]
  },
  {
   "cell_type": "code",
   "execution_count": 24,
   "metadata": {},
   "outputs": [],
   "source": [
    "fixed.to_csv(\"june2019_seeing.csv\")"
   ]
  },
  {
   "cell_type": "code",
   "execution_count": 34,
   "metadata": {},
   "outputs": [
    {
     "data": {
      "text/plain": [
       "ut\n",
       "2019-06-16 02:55:31    309.385732\n",
       "2019-06-16 02:56:03    309.321670\n",
       "2019-06-16 02:56:36    309.259700\n",
       "2019-06-16 03:00:09    308.863485\n",
       "2019-06-16 03:01:11    308.752666\n",
       "2019-06-16 03:02:13    308.644359\n",
       "2019-06-16 03:30:47    280.241633\n",
       "2019-06-16 03:32:14    280.371141\n",
       "2019-06-16 03:33:25    280.479180\n",
       "2019-06-16 03:34:36    280.582316\n",
       "2019-06-16 03:35:47    280.690914\n",
       "2019-06-16 03:37:01    280.798706\n",
       "2019-06-16 03:38:13    280.910297\n",
       "2019-06-16 03:39:24    281.011749\n",
       "2019-06-16 03:41:05    281.166340\n",
       "2019-06-16 03:42:07    281.259231\n",
       "2019-06-16 03:43:41    281.395487\n",
       "2019-06-16 03:44:43    281.488592\n",
       "2019-06-16 03:45:50    281.590741\n",
       "2019-06-16 03:46:53    281.684318\n",
       "2019-06-16 03:48:32    281.828739\n",
       "2019-06-16 03:49:35    281.921597\n",
       "2019-06-16 03:50:37    282.013843\n",
       "2019-06-16 03:51:40    282.108761\n",
       "2019-06-16 03:52:42    282.200697\n",
       "2019-06-16 03:53:45    282.294177\n",
       "2019-06-16 03:54:47    282.386306\n",
       "2019-06-16 03:55:50    282.479647\n",
       "2019-06-16 03:56:52    282.572902\n",
       "2019-06-16 03:57:55    282.666275\n",
       "                          ...    \n",
       "2019-06-16 09:45:01    -90.422231\n",
       "2019-06-16 09:45:33    -90.351829\n",
       "2019-06-16 09:46:06    -90.276287\n",
       "2019-06-16 09:46:38    -90.203084\n",
       "2019-06-16 09:47:11    -90.129162\n",
       "2019-06-16 09:47:44    -90.053706\n",
       "2019-06-16 09:48:16    -89.982832\n",
       "2019-06-16 09:48:49    -89.910294\n",
       "2019-06-16 09:49:41    -89.794433\n",
       "2019-06-16 09:50:13    -89.722775\n",
       "2019-06-16 09:50:46    -89.650538\n",
       "2019-06-16 09:51:18    -89.580200\n",
       "2019-06-16 09:51:51    -89.508381\n",
       "2019-06-16 09:52:24    -89.438193\n",
       "2019-06-16 09:52:57    -89.366492\n",
       "2019-06-16 09:53:29    -89.297195\n",
       "2019-06-16 09:54:01    -89.226202\n",
       "2019-06-16 09:54:34    -89.158911\n",
       "2019-06-16 09:55:06    -89.088733\n",
       "2019-06-16 09:55:38    -89.020069\n",
       "2019-06-16 09:56:11    -88.952381\n",
       "2019-06-16 09:56:43    -88.882053\n",
       "2019-06-16 09:57:16    -88.814783\n",
       "2019-06-16 09:57:48    -88.747106\n",
       "2019-06-16 09:58:22    -88.676178\n",
       "2019-06-16 10:01:17    -23.983122\n",
       "2019-06-16 10:01:49    -24.025243\n",
       "2019-06-16 10:02:21    -24.066635\n",
       "2019-06-16 10:02:54    -24.108273\n",
       "2019-06-16 10:03:26    -24.150609\n",
       "Name: az, Length: 315, dtype: float64"
      ]
     },
     "execution_count": 34,
     "metadata": {},
     "output_type": "execute_result"
    }
   ],
   "source": [
    "fixed['2019-06-16']['az']"
   ]
  },
  {
   "cell_type": "code",
   "execution_count": null,
   "metadata": {},
   "outputs": [],
   "source": []
  }
 ],
 "metadata": {
  "kernelspec": {
   "display_name": "Python 3",
   "language": "python",
   "name": "python3"
  },
  "language_info": {
   "codemirror_mode": {
    "name": "ipython",
    "version": 3
   },
   "file_extension": ".py",
   "mimetype": "text/x-python",
   "name": "python",
   "nbconvert_exporter": "python",
   "pygments_lexer": "ipython3",
   "version": "3.7.4"
  }
 },
 "nbformat": 4,
 "nbformat_minor": 4
}
