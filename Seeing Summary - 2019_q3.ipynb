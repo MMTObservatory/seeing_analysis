{
 "cells": [
  {
   "cell_type": "code",
   "execution_count": 2,
   "metadata": {},
   "outputs": [],
   "source": [
    "from datetime import datetime\n",
    "\n",
    "import time\n",
    "import os\n",
    "import sys\n",
    "from pathlib import Path\n",
    "\n",
    "import numpy as np\n",
    "from scipy.stats import lognorm\n",
    "import pandas as pd\n",
    "\n",
    "from astropy import stats\n",
    "import astropy.units as u\n",
    "\n",
    "import matplotlib\n",
    "#matplotlib.use('nbagg')\n",
    "\n",
    "from matplotlib import style\n",
    "style.use('ggplot')\n",
    "import matplotlib.pyplot as plt\n",
    "\n",
    "%load_ext autoreload\n",
    "%autoreload 2\n",
    "%matplotlib widget"
   ]
  },
  {
   "cell_type": "code",
   "execution_count": 3,
   "metadata": {},
   "outputs": [],
   "source": [
    "rootdir = Path(\"/Volumes/LaCie 8TB/wfsdat\")\n",
    "# use find to make this csv list\n",
    "with open(rootdir / \"reanalyze_csvs_2019_q3.txt\") as f:\n",
    "    csvs = f.readlines()\n",
    "\n",
    "# loop through the csv files and read them with pandas\n",
    "frames = []\n",
    "for csv in csvs:\n",
    "    frames.append(pd.read_csv(rootdir / csv.rstrip()))\n",
    "\n",
    "# now concat each frame into one big frame containing all of the data\n",
    "data = pd.concat(frames)"
   ]
  },
  {
   "cell_type": "code",
   "execution_count": 4,
   "metadata": {},
   "outputs": [
    {
     "data": {
      "text/html": [
       "<div>\n",
       "<style scoped>\n",
       "    .dataframe tbody tr th:only-of-type {\n",
       "        vertical-align: middle;\n",
       "    }\n",
       "\n",
       "    .dataframe tbody tr th {\n",
       "        vertical-align: top;\n",
       "    }\n",
       "\n",
       "    .dataframe thead th {\n",
       "        text-align: right;\n",
       "    }\n",
       "</style>\n",
       "<table border=\"1\" class=\"dataframe\">\n",
       "  <thead>\n",
       "    <tr style=\"text-align: right;\">\n",
       "      <th></th>\n",
       "      <th>count</th>\n",
       "      <th>unique</th>\n",
       "      <th>top</th>\n",
       "      <th>freq</th>\n",
       "    </tr>\n",
       "    <tr>\n",
       "      <th>wfs</th>\n",
       "      <th></th>\n",
       "      <th></th>\n",
       "      <th></th>\n",
       "      <th></th>\n",
       "    </tr>\n",
       "  </thead>\n",
       "  <tbody>\n",
       "    <tr>\n",
       "      <td>binospec</td>\n",
       "      <td>5016</td>\n",
       "      <td>1</td>\n",
       "      <td>binospec</td>\n",
       "      <td>5016</td>\n",
       "    </tr>\n",
       "    <tr>\n",
       "      <td>f5</td>\n",
       "      <td>74</td>\n",
       "      <td>1</td>\n",
       "      <td>f5</td>\n",
       "      <td>74</td>\n",
       "    </tr>\n",
       "    <tr>\n",
       "      <td>mmirs</td>\n",
       "      <td>1701</td>\n",
       "      <td>1</td>\n",
       "      <td>mmirs</td>\n",
       "      <td>1701</td>\n",
       "    </tr>\n",
       "  </tbody>\n",
       "</table>\n",
       "</div>"
      ],
      "text/plain": [
       "         count unique       top  freq\n",
       "wfs                                  \n",
       "binospec  5016      1  binospec  5016\n",
       "f5          74      1        f5    74\n",
       "mmirs     1701      1     mmirs  1701"
      ]
     },
     "execution_count": 4,
     "metadata": {},
     "output_type": "execute_result"
    }
   ],
   "source": [
    "g = data.groupby('wfs')\n",
    "g.wfs.describe()"
   ]
  },
  {
   "cell_type": "code",
   "execution_count": 8,
   "metadata": {},
   "outputs": [],
   "source": [
    "# re-calculate the seeing using updated spot FWHM for binospec. filter out any NaN values...\n",
    "#fixed_list = []\n",
    "#for wfskey, group in g:\n",
    "#    wfs = wfs_systems[wfskey]\n",
    "#    group = g.get_group(wfskey)\n",
    "#    #group.apply(seeing, axis=1, args=(wfs,))\n",
    "#    group['fixed_raw_seeing'], group['fixed_seeing'] = seeing(group, wfs)\n",
    "#    fixed_list.append(group)\n",
    "#fixed = pd.concat(fixed_list)\n",
    "#fixed.rename(index=str, columns={\"seeing\": \"orig_seeing\", \"raw seeing\": \"orig_raw_seeing\"}, inplace=True)\n",
    "#fixed.rename(index=str, columns={\"fixed_seeing\": \"seeing\", \"fixed_raw_seeing\": \"raw seeing\"}, inplace=True)\n",
    "fixed = data[np.isfinite(data['seeing'])]\n",
    "fixed = fixed[fixed['fwhm'] > 0.]\n",
    "fixed = fixed[fixed['seeing'] > 0.]\n",
    "fixed = fixed[fixed['seeing'] < 4.]\n",
    "fixed = fixed[fixed['time'] > \"2019-06\"]"
   ]
  },
  {
   "cell_type": "code",
   "execution_count": 9,
   "metadata": {},
   "outputs": [
    {
     "data": {
      "text/html": [
       "<div>\n",
       "<style scoped>\n",
       "    .dataframe tbody tr th:only-of-type {\n",
       "        vertical-align: middle;\n",
       "    }\n",
       "\n",
       "    .dataframe tbody tr th {\n",
       "        vertical-align: top;\n",
       "    }\n",
       "\n",
       "    .dataframe thead th {\n",
       "        text-align: right;\n",
       "    }\n",
       "</style>\n",
       "<table border=\"1\" class=\"dataframe\">\n",
       "  <thead>\n",
       "    <tr style=\"text-align: right;\">\n",
       "      <th></th>\n",
       "      <th>time</th>\n",
       "      <th>wfs</th>\n",
       "      <th>file</th>\n",
       "      <th>exptime</th>\n",
       "      <th>airmass</th>\n",
       "      <th>az</th>\n",
       "      <th>el</th>\n",
       "      <th>osst</th>\n",
       "      <th>outt</th>\n",
       "      <th>chamt</th>\n",
       "      <th>...</th>\n",
       "      <th>focerr</th>\n",
       "      <th>cc_x_err</th>\n",
       "      <th>cc_y_err</th>\n",
       "      <th>xcen</th>\n",
       "      <th>ycen</th>\n",
       "      <th>seeing</th>\n",
       "      <th>raw_seeing</th>\n",
       "      <th>fwhm</th>\n",
       "      <th>wavefront_rms</th>\n",
       "      <th>residual_rms</th>\n",
       "    </tr>\n",
       "  </thead>\n",
       "  <tbody>\n",
       "    <tr>\n",
       "      <td>0</td>\n",
       "      <td>2019-07-01T07:28:51.424000</td>\n",
       "      <td>binospec</td>\n",
       "      <td>wfs_ff_cal_img_2019.0701.072851.fits</td>\n",
       "      <td>30.0</td>\n",
       "      <td>1.4728</td>\n",
       "      <td>230.896005</td>\n",
       "      <td>42.763970</td>\n",
       "      <td>22.5</td>\n",
       "      <td>18.4</td>\n",
       "      <td>19.184</td>\n",
       "      <td>...</td>\n",
       "      <td>-6.19</td>\n",
       "      <td>-18.290</td>\n",
       "      <td>13.052</td>\n",
       "      <td>269.006085</td>\n",
       "      <td>249.014485</td>\n",
       "      <td>1.451212</td>\n",
       "      <td>1.830700</td>\n",
       "      <td>8.421312</td>\n",
       "      <td>1261.033893</td>\n",
       "      <td>1940.970145</td>\n",
       "    </tr>\n",
       "    <tr>\n",
       "      <td>1</td>\n",
       "      <td>2019-07-01T07:29:49.213000</td>\n",
       "      <td>binospec</td>\n",
       "      <td>wfs_ff_cal_img_2019.0701.072949.fits</td>\n",
       "      <td>30.0</td>\n",
       "      <td>1.4773</td>\n",
       "      <td>231.147757</td>\n",
       "      <td>42.601911</td>\n",
       "      <td>22.5</td>\n",
       "      <td>18.4</td>\n",
       "      <td>19.166</td>\n",
       "      <td>...</td>\n",
       "      <td>-10.50</td>\n",
       "      <td>-22.414</td>\n",
       "      <td>5.125</td>\n",
       "      <td>248.008361</td>\n",
       "      <td>257.988205</td>\n",
       "      <td>1.320815</td>\n",
       "      <td>1.669257</td>\n",
       "      <td>7.820568</td>\n",
       "      <td>1592.444915</td>\n",
       "      <td>1915.106615</td>\n",
       "    </tr>\n",
       "    <tr>\n",
       "      <td>2</td>\n",
       "      <td>2019-07-01T07:30:22.427000</td>\n",
       "      <td>binospec</td>\n",
       "      <td>wfs_ff_cal_img_2019.0701.073022.fits</td>\n",
       "      <td>30.0</td>\n",
       "      <td>1.4799</td>\n",
       "      <td>231.288916</td>\n",
       "      <td>42.510405</td>\n",
       "      <td>22.5</td>\n",
       "      <td>18.4</td>\n",
       "      <td>19.206</td>\n",
       "      <td>...</td>\n",
       "      <td>-4.51</td>\n",
       "      <td>-21.867</td>\n",
       "      <td>6.263</td>\n",
       "      <td>246.013361</td>\n",
       "      <td>257.993706</td>\n",
       "      <td>1.414862</td>\n",
       "      <td>1.790002</td>\n",
       "      <td>8.270572</td>\n",
       "      <td>1453.431613</td>\n",
       "      <td>2004.379377</td>\n",
       "    </tr>\n",
       "    <tr>\n",
       "      <td>3</td>\n",
       "      <td>2019-07-01T07:30:55.641000</td>\n",
       "      <td>binospec</td>\n",
       "      <td>wfs_ff_cal_img_2019.0701.073055.fits</td>\n",
       "      <td>30.0</td>\n",
       "      <td>1.4825</td>\n",
       "      <td>231.429979</td>\n",
       "      <td>42.418480</td>\n",
       "      <td>22.5</td>\n",
       "      <td>18.4</td>\n",
       "      <td>19.214</td>\n",
       "      <td>...</td>\n",
       "      <td>2.20</td>\n",
       "      <td>-10.584</td>\n",
       "      <td>3.876</td>\n",
       "      <td>249.984383</td>\n",
       "      <td>258.986437</td>\n",
       "      <td>1.439103</td>\n",
       "      <td>1.822589</td>\n",
       "      <td>8.391307</td>\n",
       "      <td>651.056493</td>\n",
       "      <td>1903.704734</td>\n",
       "    </tr>\n",
       "    <tr>\n",
       "      <td>4</td>\n",
       "      <td>2019-07-01T07:31:28.878000</td>\n",
       "      <td>binospec</td>\n",
       "      <td>wfs_ff_cal_img_2019.0701.073128.fits</td>\n",
       "      <td>30.0</td>\n",
       "      <td>1.4851</td>\n",
       "      <td>231.570570</td>\n",
       "      <td>42.326276</td>\n",
       "      <td>22.5</td>\n",
       "      <td>18.4</td>\n",
       "      <td>19.211</td>\n",
       "      <td>...</td>\n",
       "      <td>-0.00</td>\n",
       "      <td>-0.649</td>\n",
       "      <td>1.978</td>\n",
       "      <td>248.989546</td>\n",
       "      <td>257.004804</td>\n",
       "      <td>1.222809</td>\n",
       "      <td>1.550286</td>\n",
       "      <td>7.372936</td>\n",
       "      <td>385.103620</td>\n",
       "      <td>1731.295321</td>\n",
       "    </tr>\n",
       "    <tr>\n",
       "      <td>...</td>\n",
       "      <td>...</td>\n",
       "      <td>...</td>\n",
       "      <td>...</td>\n",
       "      <td>...</td>\n",
       "      <td>...</td>\n",
       "      <td>...</td>\n",
       "      <td>...</td>\n",
       "      <td>...</td>\n",
       "      <td>...</td>\n",
       "      <td>...</td>\n",
       "      <td>...</td>\n",
       "      <td>...</td>\n",
       "      <td>...</td>\n",
       "      <td>...</td>\n",
       "      <td>...</td>\n",
       "      <td>...</td>\n",
       "      <td>...</td>\n",
       "      <td>...</td>\n",
       "      <td>...</td>\n",
       "      <td>...</td>\n",
       "      <td>...</td>\n",
       "    </tr>\n",
       "    <tr>\n",
       "      <td>759</td>\n",
       "      <td>2019-09-30T12:02:17.644000</td>\n",
       "      <td>binospec</td>\n",
       "      <td>wfs_ff_cal_img_2019.0930.120217.fits</td>\n",
       "      <td>30.0</td>\n",
       "      <td>1.1438</td>\n",
       "      <td>232.401003</td>\n",
       "      <td>60.956396</td>\n",
       "      <td>12.0</td>\n",
       "      <td>13.1</td>\n",
       "      <td>12.621</td>\n",
       "      <td>...</td>\n",
       "      <td>-1.47</td>\n",
       "      <td>-2.114</td>\n",
       "      <td>-0.000</td>\n",
       "      <td>248.985195</td>\n",
       "      <td>255.017303</td>\n",
       "      <td>1.060449</td>\n",
       "      <td>1.149476</td>\n",
       "      <td>5.831014</td>\n",
       "      <td>203.720284</td>\n",
       "      <td>941.074195</td>\n",
       "    </tr>\n",
       "    <tr>\n",
       "      <td>760</td>\n",
       "      <td>2019-09-30T12:02:50.936000</td>\n",
       "      <td>binospec</td>\n",
       "      <td>wfs_ff_cal_img_2019.0930.120250.fits</td>\n",
       "      <td>30.0</td>\n",
       "      <td>1.1449</td>\n",
       "      <td>232.605141</td>\n",
       "      <td>60.862561</td>\n",
       "      <td>12.0</td>\n",
       "      <td>13.1</td>\n",
       "      <td>12.601</td>\n",
       "      <td>...</td>\n",
       "      <td>-1.43</td>\n",
       "      <td>-2.641</td>\n",
       "      <td>-0.000</td>\n",
       "      <td>248.011811</td>\n",
       "      <td>256.003946</td>\n",
       "      <td>1.060689</td>\n",
       "      <td>1.150399</td>\n",
       "      <td>5.834631</td>\n",
       "      <td>210.522686</td>\n",
       "      <td>958.138059</td>\n",
       "    </tr>\n",
       "    <tr>\n",
       "      <td>761</td>\n",
       "      <td>2019-09-30T12:03:24.187000</td>\n",
       "      <td>binospec</td>\n",
       "      <td>wfs_ff_cal_img_2019.0930.120324.fits</td>\n",
       "      <td>30.0</td>\n",
       "      <td>1.1459</td>\n",
       "      <td>232.806478</td>\n",
       "      <td>60.771688</td>\n",
       "      <td>12.0</td>\n",
       "      <td>13.1</td>\n",
       "      <td>12.614</td>\n",
       "      <td>...</td>\n",
       "      <td>-2.45</td>\n",
       "      <td>-2.091</td>\n",
       "      <td>-0.468</td>\n",
       "      <td>247.994560</td>\n",
       "      <td>256.985771</td>\n",
       "      <td>1.068543</td>\n",
       "      <td>1.159524</td>\n",
       "      <td>5.870350</td>\n",
       "      <td>215.702625</td>\n",
       "      <td>909.687136</td>\n",
       "    </tr>\n",
       "    <tr>\n",
       "      <td>762</td>\n",
       "      <td>2019-09-30T12:03:57.480000</td>\n",
       "      <td>binospec</td>\n",
       "      <td>wfs_ff_cal_img_2019.0930.120357.fits</td>\n",
       "      <td>30.0</td>\n",
       "      <td>1.1470</td>\n",
       "      <td>233.003824</td>\n",
       "      <td>60.677231</td>\n",
       "      <td>12.0</td>\n",
       "      <td>13.1</td>\n",
       "      <td>12.613</td>\n",
       "      <td>...</td>\n",
       "      <td>-3.18</td>\n",
       "      <td>-2.214</td>\n",
       "      <td>-0.000</td>\n",
       "      <td>248.987653</td>\n",
       "      <td>255.985778</td>\n",
       "      <td>1.042564</td>\n",
       "      <td>1.131985</td>\n",
       "      <td>5.762460</td>\n",
       "      <td>229.005222</td>\n",
       "      <td>941.078085</td>\n",
       "    </tr>\n",
       "    <tr>\n",
       "      <td>763</td>\n",
       "      <td>2019-09-30T12:04:30.737000</td>\n",
       "      <td>binospec</td>\n",
       "      <td>wfs_ff_cal_img_2019.0930.120430.fits</td>\n",
       "      <td>30.0</td>\n",
       "      <td>1.1480</td>\n",
       "      <td>233.207264</td>\n",
       "      <td>60.581455</td>\n",
       "      <td>12.0</td>\n",
       "      <td>13.1</td>\n",
       "      <td>12.622</td>\n",
       "      <td>...</td>\n",
       "      <td>-2.51</td>\n",
       "      <td>-2.162</td>\n",
       "      <td>-0.253</td>\n",
       "      <td>248.981753</td>\n",
       "      <td>255.993682</td>\n",
       "      <td>1.058889</td>\n",
       "      <td>1.150311</td>\n",
       "      <td>5.834287</td>\n",
       "      <td>225.474288</td>\n",
       "      <td>915.356220</td>\n",
       "    </tr>\n",
       "  </tbody>\n",
       "</table>\n",
       "<p>6788 rows × 25 columns</p>\n",
       "</div>"
      ],
      "text/plain": [
       "                           time       wfs  \\\n",
       "0    2019-07-01T07:28:51.424000  binospec   \n",
       "1    2019-07-01T07:29:49.213000  binospec   \n",
       "2    2019-07-01T07:30:22.427000  binospec   \n",
       "3    2019-07-01T07:30:55.641000  binospec   \n",
       "4    2019-07-01T07:31:28.878000  binospec   \n",
       "..                          ...       ...   \n",
       "759  2019-09-30T12:02:17.644000  binospec   \n",
       "760  2019-09-30T12:02:50.936000  binospec   \n",
       "761  2019-09-30T12:03:24.187000  binospec   \n",
       "762  2019-09-30T12:03:57.480000  binospec   \n",
       "763  2019-09-30T12:04:30.737000  binospec   \n",
       "\n",
       "                                     file  exptime  airmass          az  \\\n",
       "0    wfs_ff_cal_img_2019.0701.072851.fits     30.0   1.4728  230.896005   \n",
       "1    wfs_ff_cal_img_2019.0701.072949.fits     30.0   1.4773  231.147757   \n",
       "2    wfs_ff_cal_img_2019.0701.073022.fits     30.0   1.4799  231.288916   \n",
       "3    wfs_ff_cal_img_2019.0701.073055.fits     30.0   1.4825  231.429979   \n",
       "4    wfs_ff_cal_img_2019.0701.073128.fits     30.0   1.4851  231.570570   \n",
       "..                                    ...      ...      ...         ...   \n",
       "759  wfs_ff_cal_img_2019.0930.120217.fits     30.0   1.1438  232.401003   \n",
       "760  wfs_ff_cal_img_2019.0930.120250.fits     30.0   1.1449  232.605141   \n",
       "761  wfs_ff_cal_img_2019.0930.120324.fits     30.0   1.1459  232.806478   \n",
       "762  wfs_ff_cal_img_2019.0930.120357.fits     30.0   1.1470  233.003824   \n",
       "763  wfs_ff_cal_img_2019.0930.120430.fits     30.0   1.1480  233.207264   \n",
       "\n",
       "            el  osst  outt   chamt  ...  focerr  cc_x_err  cc_y_err  \\\n",
       "0    42.763970  22.5  18.4  19.184  ...   -6.19   -18.290    13.052   \n",
       "1    42.601911  22.5  18.4  19.166  ...  -10.50   -22.414     5.125   \n",
       "2    42.510405  22.5  18.4  19.206  ...   -4.51   -21.867     6.263   \n",
       "3    42.418480  22.5  18.4  19.214  ...    2.20   -10.584     3.876   \n",
       "4    42.326276  22.5  18.4  19.211  ...   -0.00    -0.649     1.978   \n",
       "..         ...   ...   ...     ...  ...     ...       ...       ...   \n",
       "759  60.956396  12.0  13.1  12.621  ...   -1.47    -2.114    -0.000   \n",
       "760  60.862561  12.0  13.1  12.601  ...   -1.43    -2.641    -0.000   \n",
       "761  60.771688  12.0  13.1  12.614  ...   -2.45    -2.091    -0.468   \n",
       "762  60.677231  12.0  13.1  12.613  ...   -3.18    -2.214    -0.000   \n",
       "763  60.581455  12.0  13.1  12.622  ...   -2.51    -2.162    -0.253   \n",
       "\n",
       "           xcen        ycen    seeing  raw_seeing      fwhm  wavefront_rms  \\\n",
       "0    269.006085  249.014485  1.451212    1.830700  8.421312    1261.033893   \n",
       "1    248.008361  257.988205  1.320815    1.669257  7.820568    1592.444915   \n",
       "2    246.013361  257.993706  1.414862    1.790002  8.270572    1453.431613   \n",
       "3    249.984383  258.986437  1.439103    1.822589  8.391307     651.056493   \n",
       "4    248.989546  257.004804  1.222809    1.550286  7.372936     385.103620   \n",
       "..          ...         ...       ...         ...       ...            ...   \n",
       "759  248.985195  255.017303  1.060449    1.149476  5.831014     203.720284   \n",
       "760  248.011811  256.003946  1.060689    1.150399  5.834631     210.522686   \n",
       "761  247.994560  256.985771  1.068543    1.159524  5.870350     215.702625   \n",
       "762  248.987653  255.985778  1.042564    1.131985  5.762460     229.005222   \n",
       "763  248.981753  255.993682  1.058889    1.150311  5.834287     225.474288   \n",
       "\n",
       "     residual_rms  \n",
       "0     1940.970145  \n",
       "1     1915.106615  \n",
       "2     2004.379377  \n",
       "3     1903.704734  \n",
       "4     1731.295321  \n",
       "..            ...  \n",
       "759    941.074195  \n",
       "760    958.138059  \n",
       "761    909.687136  \n",
       "762    941.078085  \n",
       "763    915.356220  \n",
       "\n",
       "[6788 rows x 25 columns]"
      ]
     },
     "execution_count": 9,
     "metadata": {},
     "output_type": "execute_result"
    }
   ],
   "source": [
    "fixed.sort_values(by='time')"
   ]
  },
  {
   "cell_type": "code",
   "execution_count": 10,
   "metadata": {},
   "outputs": [],
   "source": [
    "# create a date-time index so we can group and analyze the data by timestamps\n",
    "fixed = fixed.set_index(pd.DatetimeIndex(fixed['time'], name='ut'))"
   ]
  },
  {
   "cell_type": "code",
   "execution_count": 11,
   "metadata": {},
   "outputs": [
    {
     "data": {
      "image/png": "[encoded data removed]",
      "text/plain": [
       "<Figure size 432x288 with 1 Axes>"
      ]
     },
     "metadata": {
      "needs_background": "light"
     },
     "output_type": "display_data"
    }
   ],
   "source": [
    "# make raw histogram of the zenith-corrected seeing column\n",
    "fixed.hist(column='seeing', bins=100, range=(0.0, 4.0), alpha=0.6)\n",
    "plt.title(\"2019-07-01 through 2019-09-30\")\n",
    "plt.xlabel(\"Seeing (arcsec)\")\n",
    "plt.ylabel(\"N\")\n",
    "plt.show()"
   ]
  },
  {
   "cell_type": "code",
   "execution_count": 12,
   "metadata": {},
   "outputs": [
    {
     "name": "stdout",
     "output_type": "stream",
     "text": [
      "0.11445157553072427 -2.178883946848136 3.304871131753563\n"
     ]
    }
   ],
   "source": [
    "# fit a log-normal distribution to the seeing data\n",
    "sigma, loc, exp_mu = lognorm.fit(fixed['seeing'])\n",
    "print(sigma, loc, exp_mu)\n",
    "x = np.arange(0.0, 4.0, 0.01)\n",
    "p = lognorm.pdf(x, sigma, loc=loc, scale=exp_mu)\n",
    "mu = np.log(exp_mu)\n",
    "mode = np.exp(mu - sigma**2) + loc\n",
    "median = np.nanmedian(fixed['seeing'])\n",
    "fit_median = exp_mu + loc"
   ]
  },
  {
   "cell_type": "code",
   "execution_count": 13,
   "metadata": {},
   "outputs": [
    {
     "data": {
      "image/png": "[encoded data removed]",
      "text/plain": [
       "<Figure size 432x288 with 1 Axes>"
      ]
     },
     "metadata": {
      "needs_background": "light"
     },
     "output_type": "display_data"
    }
   ],
   "source": [
    "# plot normalized histogram with the fit and the median/mode calculated from the fit.\n",
    "plt.hist(fixed['seeing'], density=True, bins=100, range=(0.0, 4.0), label=\"hist\", alpha=0.6)\n",
    "logp = plt.plot(x, p, label=\"logp\")\n",
    "plt.xlabel(\"Seeing (arcsec)\")\n",
    "plt.ylabel(\"Number Density\")\n",
    "plt.title(\"2019-07-01 through 2019-09-30\")\n",
    "plt.legend([\"median=%.2f\\\", mode=%.2f\\\"\" % (fit_median, mode), \"median=%.2f\\\"\" % (\n",
    "    median\n",
    ")])\n",
    "plt.savefig(\"2019q3_hist.png\")\n",
    "plt.show()"
   ]
  },
  {
   "cell_type": "code",
   "execution_count": 14,
   "metadata": {},
   "outputs": [
    {
     "data": {
      "image/png": "[encoded data removed]",
      "text/plain": [
       "<Figure size 432x288 with 1 Axes>"
      ]
     },
     "metadata": {
      "needs_background": "light"
     },
     "output_type": "display_data"
    }
   ],
   "source": [
    "# panda time indexing makes it easy to group by month\n",
    "months = {}\n",
    "legends = []\n",
    "months['July'] = fixed['2019-07']\n",
    "months['August'] = fixed['2019-08']\n",
    "months['September'] = fixed['2019-09']\n",
    "for m in months:\n",
    "    plt.hist(months[m]['seeing'], bins=100, range=(0.0, 4.0), label=m, alpha=0.6)\n",
    "    legend = \"%s: %.2f\\\"\" % (m, np.median(months[m]['seeing']))\n",
    "    legends.append(legend)\n",
    "plt.legend(legends)\n",
    "plt.xlabel(\"Seeing (arcsec)\")\n",
    "plt.ylabel(\"N\")\n",
    "#plt.title(\"Data and median seeing values grouped by month\")\n",
    "plt.savefig(\"2019q3_monthly.png\")\n",
    "plt.show()"
   ]
  },
  {
   "cell_type": "code",
   "execution_count": 15,
   "metadata": {},
   "outputs": [
    {
     "data": {
      "text/plain": [
       "(3760, 16, 3012)"
      ]
     },
     "execution_count": 15,
     "metadata": {},
     "output_type": "execute_result"
    }
   ],
   "source": [
    "len(months['July']), len(months['August']), len(months['September'])"
   ]
  },
  {
   "cell_type": "code",
   "execution_count": 16,
   "metadata": {},
   "outputs": [],
   "source": [
    "# now use the between_time() method to split the data into first and second halves of the night.\n",
    "first_half = fixed.between_time(start_time='00:00', end_time='07:00')\n",
    "second_half = fixed.between_time(start_time='07:00', end_time='14:00')\n",
    "#first_half = months['December'].between_time(start_time='00:00', end_time='07:00')\n",
    "#second_half = months['December'].between_time(start_time='07:00', end_time='14:00')\n",
    "med_1st = np.median(first_half['seeing'])\n",
    "med_2nd = np.median(second_half['seeing'])"
   ]
  },
  {
   "cell_type": "code",
   "execution_count": 17,
   "metadata": {},
   "outputs": [
    {
     "data": {
      "image/png": "[encoded data removed]",
      "text/plain": [
       "<Figure size 432x288 with 1 Axes>"
      ]
     },
     "metadata": {
      "needs_background": "light"
     },
     "output_type": "display_data"
    }
   ],
   "source": [
    "# plot the results and show that the seeing is better later in the night...\n",
    "plt.hist(first_half['seeing'], bins=100, range=(0.0, 4.0), label=\"1st\", alpha=0.6)\n",
    "plt.hist(second_half['seeing'], bins=100, range=(0.0, 4.0), label=\"2nd\", alpha=0.6)\n",
    "plt.legend([\"1st Half: %.2f\\\"\" % med_1st, \"2nd Half: %.2f\\\"\" % med_2nd])\n",
    "plt.xlabel(\"Seeing (arcsec)\")\n",
    "plt.ylabel(\"N\")\n",
    "#plt.title(\"Data and median seeing values grouped by half of the night\")\n",
    "plt.savefig(\"2019q3_1st2nd.png\")\n",
    "plt.show()"
   ]
  },
  {
   "cell_type": "code",
   "execution_count": 18,
   "metadata": {},
   "outputs": [
    {
     "data": {
      "image/png": "[encoded data removed]",
      "text/plain": [
       "<Figure size 432x288 with 1 Axes>"
      ]
     },
     "metadata": {
      "needs_background": "light"
     },
     "output_type": "display_data"
    }
   ],
   "source": [
    "import matplotlib.dates as mdates\n",
    "\n",
    "# make a new data frame that resamples the WFS data daily into the median, min, and max seeing for each day.\n",
    "#fixed = fixed[\"2018-06-30\":\"2018-10-01\"]\n",
    "fig, ax = plt.subplots()\n",
    "daily = pd.DataFrame()\n",
    "daily['seeing'] = fixed.seeing.resample('D').median()\n",
    "daily['max'] = fixed.seeing.resample('D').max()\n",
    "daily['min'] = fixed.seeing.resample('D').min()\n",
    "lowb = daily['seeing'] - daily['min']\n",
    "upb = daily['max'] - daily['seeing']\n",
    "plt.errorbar(daily.index, daily['seeing'], yerr=[lowb, upb], fmt='o')\n",
    "ax.xaxis.set_major_locator(mdates.MonthLocator())\n",
    "ax.xaxis.set_major_formatter(mdates.DateFormatter(\"%m-%d-%Y\"))\n",
    "fig.autofmt_xdate()\n",
    "plt.ylabel(\"Seeing (arcsec)\")\n",
    "#plt.title(\"Nightly median seeing\")\n",
    "plt.savefig(\"2019q3_nightly.pdf\")\n",
    "plt.show()"
   ]
  },
  {
   "cell_type": "code",
   "execution_count": 19,
   "metadata": {},
   "outputs": [],
   "source": [
    "date_list = list(daily.index.strftime('%Y-%m-%d'))\n",
    "data = [np.array(fixed[date]['seeing']) for date in date_list]\n",
    "clean_data = {}\n",
    "for d, arr in zip(date_list, data):\n",
    "    if len(arr) > 0:\n",
    "        clean_data[d] = arr\n",
    "date_labels = [datetime.strptime(d, \"%Y-%m-%d\").date() for d in clean_data.keys()]"
   ]
  },
  {
   "cell_type": "code",
   "execution_count": 20,
   "metadata": {},
   "outputs": [
    {
     "data": {
      "image/png": "[encoded data removed]",
      "text/plain": [
       "<Figure size 720x360 with 1 Axes>"
      ]
     },
     "metadata": {
      "needs_background": "light"
     },
     "output_type": "display_data"
    }
   ],
   "source": [
    "fig, ax = plt.subplots(figsize=(10,5))\n",
    "plt.violinplot(clean_data.values(), mdates.date2num(date_labels), points=50, widths=1.5,\n",
    "               showextrema=True, showmedians=True, bw_method='silverman')\n",
    "\n",
    "ax.xaxis.set_major_locator(mdates.MonthLocator())\n",
    "ax.xaxis.set_major_formatter(mdates.ConciseDateFormatter(\"%m-%d-%Y\"))\n",
    "fig.autofmt_xdate()\n",
    "plt.ylabel(\"Seeing (arcsec)\")\n",
    "plt.savefig(\"2019q3_violin.pdf\")\n",
    "plt.show()"
   ]
  },
  {
   "cell_type": "code",
   "execution_count": 26,
   "metadata": {},
   "outputs": [
    {
     "data": {
      "image/png": "[encoded data removed]",
      "text/plain": [
       "<Figure size 432x288 with 1 Axes>"
      ]
     },
     "metadata": {
      "needs_background": "light"
     },
     "output_type": "display_data"
    }
   ],
   "source": [
    "fig, ax = plt.subplots()\n",
    "ax.scatter(fixed['2019-09-13'].index, fixed['2019-09-13']['seeing'])\n",
    "ax.set_xlabel(\"UT\")\n",
    "ax.set_ylabel(\"Seeing (arcsec)\")\n",
    "ax.set_title(\"2019-09-13\")\n",
    "fig.autofmt_xdate()\n",
    "ax.xaxis.set_major_locator(mdates.HourLocator())\n",
    "ax.xaxis.set_major_formatter(mdates.DateFormatter(\"%H:%M\"))\n",
    "ax.set_xlim([datetime(2019, 9, 13, 2, 0, 0), datetime(2019, 9, 13, 11, 0, 0)])\n",
    "plt.savefig(\"2019_09_13.pdf\")\n",
    "plt.show()"
   ]
  },
  {
   "cell_type": "code",
   "execution_count": 39,
   "metadata": {},
   "outputs": [
    {
     "data": {
      "text/plain": [
       "Index(['time', 'wfs', 'file', 'exptime', 'airmass', 'az', 'el', 'osst', 'outt',\n",
       "       'chamt', 'tiltx', 'tilty', 'transx', 'transy', 'focus', 'focerr',\n",
       "       'cc_x_err', 'cc_y_err', 'xcen', 'ycen', 'seeing', 'raw_seeing', 'fwhm',\n",
       "       'wavefront_rms', 'residual_rms'],\n",
       "      dtype='object')"
      ]
     },
     "execution_count": 39,
     "metadata": {},
     "output_type": "execute_result"
    }
   ],
   "source": [
    "fixed.columns"
   ]
  },
  {
   "cell_type": "code",
   "execution_count": 25,
   "metadata": {},
   "outputs": [
    {
     "data": {
      "text/plain": [
       "Timestamp('2019-09-13 10:28:13')"
      ]
     },
     "execution_count": 25,
     "metadata": {},
     "output_type": "execute_result"
    }
   ],
   "source": [
    "fixed['seeing'].idxmin()"
   ]
  },
  {
   "cell_type": "code",
   "execution_count": null,
   "metadata": {},
   "outputs": [],
   "source": []
  }
 ],
 "metadata": {
  "kernelspec": {
   "display_name": "Python 3",
   "language": "python",
   "name": "python3"
  },
  "language_info": {
   "codemirror_mode": {
    "name": "ipython",
    "version": 3
   },
   "file_extension": ".py",
   "mimetype": "text/x-python",
   "name": "python",
   "nbconvert_exporter": "python",
   "pygments_lexer": "ipython3",
   "version": "3.7.4"
  }
 },
 "nbformat": 4,
 "nbformat_minor": 4
}
