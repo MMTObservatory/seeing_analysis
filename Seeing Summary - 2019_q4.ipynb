{
 "cells": [
  {
   "cell_type": "code",
   "execution_count": 1,
   "metadata": {},
   "outputs": [],
   "source": [
    "from datetime import datetime\n",
    "\n",
    "import time\n",
    "import os\n",
    "import sys\n",
    "from pathlib import Path\n",
    "\n",
    "import numpy as np\n",
    "from scipy.stats import lognorm\n",
    "import pandas as pd\n",
    "\n",
    "from astropy import stats\n",
    "import astropy.units as u\n",
    "\n",
    "import matplotlib\n",
    "#matplotlib.use('nbagg')\n",
    "\n",
    "from matplotlib import style\n",
    "style.use('ggplot')\n",
    "import matplotlib.pyplot as plt\n",
    "\n",
    "%load_ext autoreload\n",
    "%autoreload 2\n",
    "%matplotlib widget"
   ]
  },
  {
   "cell_type": "code",
   "execution_count": 2,
   "metadata": {},
   "outputs": [],
   "source": [
    "rootdir = Path(\"/Volumes/LaCie 8TB/wfsdat\")\n",
    "# use find to make this csv list\n",
    "with open(rootdir / \"reanalyze_csvs_2019_q4.txt\") as f:\n",
    "    csvs = f.readlines()\n",
    "\n",
    "# loop through the csv files and read them with pandas\n",
    "frames = []\n",
    "for csv in csvs:\n",
    "    frames.append(pd.read_csv(rootdir / csv.rstrip()))\n",
    "\n",
    "# now concat each frame into one big frame containing all of the data\n",
    "data = pd.concat(frames)"
   ]
  },
  {
   "cell_type": "code",
   "execution_count": 3,
   "metadata": {},
   "outputs": [
    {
     "data": {
      "text/html": [
       "<div>\n",
       "<style scoped>\n",
       "    .dataframe tbody tr th:only-of-type {\n",
       "        vertical-align: middle;\n",
       "    }\n",
       "\n",
       "    .dataframe tbody tr th {\n",
       "        vertical-align: top;\n",
       "    }\n",
       "\n",
       "    .dataframe thead th {\n",
       "        text-align: right;\n",
       "    }\n",
       "</style>\n",
       "<table border=\"1\" class=\"dataframe\">\n",
       "  <thead>\n",
       "    <tr style=\"text-align: right;\">\n",
       "      <th></th>\n",
       "      <th>count</th>\n",
       "      <th>unique</th>\n",
       "      <th>top</th>\n",
       "      <th>freq</th>\n",
       "    </tr>\n",
       "    <tr>\n",
       "      <th>wfs</th>\n",
       "      <th></th>\n",
       "      <th></th>\n",
       "      <th></th>\n",
       "      <th></th>\n",
       "    </tr>\n",
       "  </thead>\n",
       "  <tbody>\n",
       "    <tr>\n",
       "      <th>binospec</th>\n",
       "      <td>7664</td>\n",
       "      <td>1</td>\n",
       "      <td>binospec</td>\n",
       "      <td>7664</td>\n",
       "    </tr>\n",
       "    <tr>\n",
       "      <th>f5</th>\n",
       "      <td>530</td>\n",
       "      <td>1</td>\n",
       "      <td>f5</td>\n",
       "      <td>530</td>\n",
       "    </tr>\n",
       "    <tr>\n",
       "      <th>mmirs</th>\n",
       "      <td>3648</td>\n",
       "      <td>1</td>\n",
       "      <td>mmirs</td>\n",
       "      <td>3648</td>\n",
       "    </tr>\n",
       "    <tr>\n",
       "      <th>newf9</th>\n",
       "      <td>181</td>\n",
       "      <td>1</td>\n",
       "      <td>newf9</td>\n",
       "      <td>181</td>\n",
       "    </tr>\n",
       "  </tbody>\n",
       "</table>\n",
       "</div>"
      ],
      "text/plain": [
       "         count unique       top  freq\n",
       "wfs                                  \n",
       "binospec  7664      1  binospec  7664\n",
       "f5         530      1        f5   530\n",
       "mmirs     3648      1     mmirs  3648\n",
       "newf9      181      1     newf9   181"
      ]
     },
     "execution_count": 3,
     "metadata": {},
     "output_type": "execute_result"
    }
   ],
   "source": [
    "g = data.groupby('wfs')\n",
    "g.wfs.describe()"
   ]
  },
  {
   "cell_type": "code",
   "execution_count": 4,
   "metadata": {},
   "outputs": [],
   "source": [
    "# re-calculate the seeing using updated spot FWHM for binospec. filter out any NaN values...\n",
    "#fixed_list = []\n",
    "#for wfskey, group in g:\n",
    "#    wfs = wfs_systems[wfskey]\n",
    "#    group = g.get_group(wfskey)\n",
    "#    #group.apply(seeing, axis=1, args=(wfs,))\n",
    "#    group['fixed_raw_seeing'], group['fixed_seeing'] = seeing(group, wfs)\n",
    "#    fixed_list.append(group)\n",
    "#fixed = pd.concat(fixed_list)\n",
    "#fixed.rename(index=str, columns={\"seeing\": \"orig_seeing\", \"raw seeing\": \"orig_raw_seeing\"}, inplace=True)\n",
    "#fixed.rename(index=str, columns={\"fixed_seeing\": \"seeing\", \"fixed_raw_seeing\": \"raw seeing\"}, inplace=True)\n",
    "fixed = data[np.isfinite(data['seeing'])]\n",
    "fixed = fixed[fixed['fwhm'] > 0.]\n",
    "fixed = fixed[fixed['seeing'] > 0.]\n",
    "fixed = fixed[fixed['seeing'] < 4.]\n",
    "fixed = fixed[fixed['time'] > \"2019-09\"]"
   ]
  },
  {
   "cell_type": "code",
   "execution_count": 5,
   "metadata": {},
   "outputs": [
    {
     "data": {
      "text/html": [
       "<div>\n",
       "<style scoped>\n",
       "    .dataframe tbody tr th:only-of-type {\n",
       "        vertical-align: middle;\n",
       "    }\n",
       "\n",
       "    .dataframe tbody tr th {\n",
       "        vertical-align: top;\n",
       "    }\n",
       "\n",
       "    .dataframe thead th {\n",
       "        text-align: right;\n",
       "    }\n",
       "</style>\n",
       "<table border=\"1\" class=\"dataframe\">\n",
       "  <thead>\n",
       "    <tr style=\"text-align: right;\">\n",
       "      <th></th>\n",
       "      <th>time</th>\n",
       "      <th>wfs</th>\n",
       "      <th>file</th>\n",
       "      <th>exptime</th>\n",
       "      <th>airmass</th>\n",
       "      <th>az</th>\n",
       "      <th>el</th>\n",
       "      <th>osst</th>\n",
       "      <th>outt</th>\n",
       "      <th>chamt</th>\n",
       "      <th>...</th>\n",
       "      <th>focerr</th>\n",
       "      <th>cc_x_err</th>\n",
       "      <th>cc_y_err</th>\n",
       "      <th>xcen</th>\n",
       "      <th>ycen</th>\n",
       "      <th>seeing</th>\n",
       "      <th>raw_seeing</th>\n",
       "      <th>fwhm</th>\n",
       "      <th>wavefront_rms</th>\n",
       "      <th>residual_rms</th>\n",
       "    </tr>\n",
       "  </thead>\n",
       "  <tbody>\n",
       "    <tr>\n",
       "      <th>0</th>\n",
       "      <td>2019-10-07T14:53:00.779000</td>\n",
       "      <td>newf9</td>\n",
       "      <td>f9wfs_20191219-191152.fits</td>\n",
       "      <td>10.0</td>\n",
       "      <td>1.6710</td>\n",
       "      <td>327.159583</td>\n",
       "      <td>36.759234</td>\n",
       "      <td>5.20</td>\n",
       "      <td>3.0</td>\n",
       "      <td>2.834</td>\n",
       "      <td>...</td>\n",
       "      <td>307.98</td>\n",
       "      <td>4.642</td>\n",
       "      <td>-0.000</td>\n",
       "      <td>356.008883</td>\n",
       "      <td>512.987211</td>\n",
       "      <td>0.955672</td>\n",
       "      <td>1.300453</td>\n",
       "      <td>10.855109</td>\n",
       "      <td>6238.997503</td>\n",
       "      <td>1749.137313</td>\n",
       "    </tr>\n",
       "    <tr>\n",
       "      <th>1</th>\n",
       "      <td>2019-10-07T14:53:18.450000</td>\n",
       "      <td>newf9</td>\n",
       "      <td>f9wfs_20191219-191230.fits</td>\n",
       "      <td>30.0</td>\n",
       "      <td>1.6738</td>\n",
       "      <td>327.158682</td>\n",
       "      <td>36.686149</td>\n",
       "      <td>5.12</td>\n",
       "      <td>3.0</td>\n",
       "      <td>2.824</td>\n",
       "      <td>...</td>\n",
       "      <td>309.47</td>\n",
       "      <td>5.551</td>\n",
       "      <td>-2.450</td>\n",
       "      <td>352.994335</td>\n",
       "      <td>515.987496</td>\n",
       "      <td>0.917782</td>\n",
       "      <td>1.250149</td>\n",
       "      <td>10.526787</td>\n",
       "      <td>6264.103940</td>\n",
       "      <td>1656.709511</td>\n",
       "    </tr>\n",
       "    <tr>\n",
       "      <th>2</th>\n",
       "      <td>2019-10-07T14:54:14.340000</td>\n",
       "      <td>newf9</td>\n",
       "      <td>f9wfs_20191219-191326.fits</td>\n",
       "      <td>30.0</td>\n",
       "      <td>1.6781</td>\n",
       "      <td>327.157770</td>\n",
       "      <td>36.577852</td>\n",
       "      <td>5.03</td>\n",
       "      <td>3.0</td>\n",
       "      <td>2.834</td>\n",
       "      <td>...</td>\n",
       "      <td>234.87</td>\n",
       "      <td>7.009</td>\n",
       "      <td>-0.826</td>\n",
       "      <td>353.003787</td>\n",
       "      <td>510.994430</td>\n",
       "      <td>0.948543</td>\n",
       "      <td>1.294041</td>\n",
       "      <td>10.813336</td>\n",
       "      <td>4787.567571</td>\n",
       "      <td>1627.946835</td>\n",
       "    </tr>\n",
       "    <tr>\n",
       "      <th>3</th>\n",
       "      <td>2019-10-07T14:55:20.279000</td>\n",
       "      <td>newf9</td>\n",
       "      <td>f9wfs_20191219-191432.fits</td>\n",
       "      <td>30.0</td>\n",
       "      <td>1.6832</td>\n",
       "      <td>327.157308</td>\n",
       "      <td>36.449396</td>\n",
       "      <td>5.03</td>\n",
       "      <td>3.0</td>\n",
       "      <td>2.785</td>\n",
       "      <td>...</td>\n",
       "      <td>245.47</td>\n",
       "      <td>6.226</td>\n",
       "      <td>-3.423</td>\n",
       "      <td>354.008256</td>\n",
       "      <td>506.012693</td>\n",
       "      <td>0.860165</td>\n",
       "      <td>1.175609</td>\n",
       "      <td>10.037601</td>\n",
       "      <td>4972.810982</td>\n",
       "      <td>1622.251359</td>\n",
       "    </tr>\n",
       "    <tr>\n",
       "      <th>4</th>\n",
       "      <td>2019-10-07T16:37:47.735000</td>\n",
       "      <td>newf9</td>\n",
       "      <td>f9wfs_20191219-205659.fits</td>\n",
       "      <td>30.0</td>\n",
       "      <td>1.1371</td>\n",
       "      <td>257.715283</td>\n",
       "      <td>61.573336</td>\n",
       "      <td>2.60</td>\n",
       "      <td>2.8</td>\n",
       "      <td>2.617</td>\n",
       "      <td>...</td>\n",
       "      <td>412.12</td>\n",
       "      <td>0.000</td>\n",
       "      <td>-11.380</td>\n",
       "      <td>351.998414</td>\n",
       "      <td>473.000345</td>\n",
       "      <td>0.697778</td>\n",
       "      <td>0.753697</td>\n",
       "      <td>7.208289</td>\n",
       "      <td>8304.133937</td>\n",
       "      <td>1458.093345</td>\n",
       "    </tr>\n",
       "    <tr>\n",
       "      <th>...</th>\n",
       "      <td>...</td>\n",
       "      <td>...</td>\n",
       "      <td>...</td>\n",
       "      <td>...</td>\n",
       "      <td>...</td>\n",
       "      <td>...</td>\n",
       "      <td>...</td>\n",
       "      <td>...</td>\n",
       "      <td>...</td>\n",
       "      <td>...</td>\n",
       "      <td>...</td>\n",
       "      <td>...</td>\n",
       "      <td>...</td>\n",
       "      <td>...</td>\n",
       "      <td>...</td>\n",
       "      <td>...</td>\n",
       "      <td>...</td>\n",
       "      <td>...</td>\n",
       "      <td>...</td>\n",
       "      <td>...</td>\n",
       "      <td>...</td>\n",
       "    </tr>\n",
       "    <tr>\n",
       "      <th>348</th>\n",
       "      <td>2019-12-19T09:43:12</td>\n",
       "      <td>mmirs</td>\n",
       "      <td>mmirs_wfs_0352.fits</td>\n",
       "      <td>30.0</td>\n",
       "      <td>1.2659</td>\n",
       "      <td>173.515455</td>\n",
       "      <td>52.178459</td>\n",
       "      <td>3.28</td>\n",
       "      <td>4.4</td>\n",
       "      <td>3.936</td>\n",
       "      <td>...</td>\n",
       "      <td>-590.78</td>\n",
       "      <td>0.000</td>\n",
       "      <td>-0.000</td>\n",
       "      <td>255.003257</td>\n",
       "      <td>224.500238</td>\n",
       "      <td>1.328342</td>\n",
       "      <td>1.530205</td>\n",
       "      <td>7.566990</td>\n",
       "      <td>14399.669816</td>\n",
       "      <td>12385.111899</td>\n",
       "    </tr>\n",
       "    <tr>\n",
       "      <th>349</th>\n",
       "      <td>2019-12-19T10:04:54</td>\n",
       "      <td>mmirs</td>\n",
       "      <td>mmirs_wfs_0353.fits</td>\n",
       "      <td>30.0</td>\n",
       "      <td>1.5982</td>\n",
       "      <td>72.568054</td>\n",
       "      <td>38.733136</td>\n",
       "      <td>3.70</td>\n",
       "      <td>4.4</td>\n",
       "      <td>3.580</td>\n",
       "      <td>...</td>\n",
       "      <td>65.97</td>\n",
       "      <td>-9.198</td>\n",
       "      <td>-9.696</td>\n",
       "      <td>221.003689</td>\n",
       "      <td>237.000389</td>\n",
       "      <td>1.125104</td>\n",
       "      <td>1.490636</td>\n",
       "      <td>7.501624</td>\n",
       "      <td>1687.463942</td>\n",
       "      <td>1134.358492</td>\n",
       "    </tr>\n",
       "    <tr>\n",
       "      <th>350</th>\n",
       "      <td>2019-12-19T10:05:26</td>\n",
       "      <td>mmirs</td>\n",
       "      <td>mmirs_wfs_0354.fits</td>\n",
       "      <td>30.0</td>\n",
       "      <td>1.5945</td>\n",
       "      <td>72.609724</td>\n",
       "      <td>38.839737</td>\n",
       "      <td>3.60</td>\n",
       "      <td>4.4</td>\n",
       "      <td>3.503</td>\n",
       "      <td>...</td>\n",
       "      <td>61.01</td>\n",
       "      <td>-9.031</td>\n",
       "      <td>-9.733</td>\n",
       "      <td>224.003013</td>\n",
       "      <td>234.985162</td>\n",
       "      <td>1.131014</td>\n",
       "      <td>1.496383</td>\n",
       "      <td>7.524049</td>\n",
       "      <td>1560.401715</td>\n",
       "      <td>1048.376966</td>\n",
       "    </tr>\n",
       "    <tr>\n",
       "      <th>351</th>\n",
       "      <td>2019-12-19T10:05:59</td>\n",
       "      <td>mmirs</td>\n",
       "      <td>mmirs_wfs_0355.fits</td>\n",
       "      <td>30.0</td>\n",
       "      <td>1.5908</td>\n",
       "      <td>72.651975</td>\n",
       "      <td>38.947702</td>\n",
       "      <td>3.68</td>\n",
       "      <td>4.4</td>\n",
       "      <td>3.440</td>\n",
       "      <td>...</td>\n",
       "      <td>22.75</td>\n",
       "      <td>-2.558</td>\n",
       "      <td>-4.771</td>\n",
       "      <td>224.006865</td>\n",
       "      <td>235.006172</td>\n",
       "      <td>1.173772</td>\n",
       "      <td>1.550791</td>\n",
       "      <td>7.735867</td>\n",
       "      <td>656.071369</td>\n",
       "      <td>1260.934151</td>\n",
       "    </tr>\n",
       "    <tr>\n",
       "      <th>352</th>\n",
       "      <td>2019-12-19T10:06:31</td>\n",
       "      <td>mmirs</td>\n",
       "      <td>mmirs_wfs_0356.fits</td>\n",
       "      <td>30.0</td>\n",
       "      <td>1.5870</td>\n",
       "      <td>72.694879</td>\n",
       "      <td>39.057672</td>\n",
       "      <td>3.60</td>\n",
       "      <td>4.5</td>\n",
       "      <td>3.397</td>\n",
       "      <td>...</td>\n",
       "      <td>-0.00</td>\n",
       "      <td>-0.000</td>\n",
       "      <td>0.000</td>\n",
       "      <td>222.991616</td>\n",
       "      <td>233.993779</td>\n",
       "      <td>1.189100</td>\n",
       "      <td>1.568789</td>\n",
       "      <td>7.805752</td>\n",
       "      <td>196.475395</td>\n",
       "      <td>1123.404860</td>\n",
       "    </tr>\n",
       "  </tbody>\n",
       "</table>\n",
       "<p>11926 rows × 25 columns</p>\n",
       "</div>"
      ],
      "text/plain": [
       "                           time    wfs                        file  exptime  \\\n",
       "0    2019-10-07T14:53:00.779000  newf9  f9wfs_20191219-191152.fits     10.0   \n",
       "1    2019-10-07T14:53:18.450000  newf9  f9wfs_20191219-191230.fits     30.0   \n",
       "2    2019-10-07T14:54:14.340000  newf9  f9wfs_20191219-191326.fits     30.0   \n",
       "3    2019-10-07T14:55:20.279000  newf9  f9wfs_20191219-191432.fits     30.0   \n",
       "4    2019-10-07T16:37:47.735000  newf9  f9wfs_20191219-205659.fits     30.0   \n",
       "..                          ...    ...                         ...      ...   \n",
       "348         2019-12-19T09:43:12  mmirs         mmirs_wfs_0352.fits     30.0   \n",
       "349         2019-12-19T10:04:54  mmirs         mmirs_wfs_0353.fits     30.0   \n",
       "350         2019-12-19T10:05:26  mmirs         mmirs_wfs_0354.fits     30.0   \n",
       "351         2019-12-19T10:05:59  mmirs         mmirs_wfs_0355.fits     30.0   \n",
       "352         2019-12-19T10:06:31  mmirs         mmirs_wfs_0356.fits     30.0   \n",
       "\n",
       "     airmass          az         el  osst  outt  chamt  ...  focerr  cc_x_err  \\\n",
       "0     1.6710  327.159583  36.759234  5.20   3.0  2.834  ...  307.98     4.642   \n",
       "1     1.6738  327.158682  36.686149  5.12   3.0  2.824  ...  309.47     5.551   \n",
       "2     1.6781  327.157770  36.577852  5.03   3.0  2.834  ...  234.87     7.009   \n",
       "3     1.6832  327.157308  36.449396  5.03   3.0  2.785  ...  245.47     6.226   \n",
       "4     1.1371  257.715283  61.573336  2.60   2.8  2.617  ...  412.12     0.000   \n",
       "..       ...         ...        ...   ...   ...    ...  ...     ...       ...   \n",
       "348   1.2659  173.515455  52.178459  3.28   4.4  3.936  ... -590.78     0.000   \n",
       "349   1.5982   72.568054  38.733136  3.70   4.4  3.580  ...   65.97    -9.198   \n",
       "350   1.5945   72.609724  38.839737  3.60   4.4  3.503  ...   61.01    -9.031   \n",
       "351   1.5908   72.651975  38.947702  3.68   4.4  3.440  ...   22.75    -2.558   \n",
       "352   1.5870   72.694879  39.057672  3.60   4.5  3.397  ...   -0.00    -0.000   \n",
       "\n",
       "     cc_y_err        xcen        ycen    seeing  raw_seeing       fwhm  \\\n",
       "0      -0.000  356.008883  512.987211  0.955672    1.300453  10.855109   \n",
       "1      -2.450  352.994335  515.987496  0.917782    1.250149  10.526787   \n",
       "2      -0.826  353.003787  510.994430  0.948543    1.294041  10.813336   \n",
       "3      -3.423  354.008256  506.012693  0.860165    1.175609  10.037601   \n",
       "4     -11.380  351.998414  473.000345  0.697778    0.753697   7.208289   \n",
       "..        ...         ...         ...       ...         ...        ...   \n",
       "348    -0.000  255.003257  224.500238  1.328342    1.530205   7.566990   \n",
       "349    -9.696  221.003689  237.000389  1.125104    1.490636   7.501624   \n",
       "350    -9.733  224.003013  234.985162  1.131014    1.496383   7.524049   \n",
       "351    -4.771  224.006865  235.006172  1.173772    1.550791   7.735867   \n",
       "352     0.000  222.991616  233.993779  1.189100    1.568789   7.805752   \n",
       "\n",
       "     wavefront_rms  residual_rms  \n",
       "0      6238.997503   1749.137313  \n",
       "1      6264.103940   1656.709511  \n",
       "2      4787.567571   1627.946835  \n",
       "3      4972.810982   1622.251359  \n",
       "4      8304.133937   1458.093345  \n",
       "..             ...           ...  \n",
       "348   14399.669816  12385.111899  \n",
       "349    1687.463942   1134.358492  \n",
       "350    1560.401715   1048.376966  \n",
       "351     656.071369   1260.934151  \n",
       "352     196.475395   1123.404860  \n",
       "\n",
       "[11926 rows x 25 columns]"
      ]
     },
     "execution_count": 5,
     "metadata": {},
     "output_type": "execute_result"
    }
   ],
   "source": [
    "fixed.sort_values(by='time')"
   ]
  },
  {
   "cell_type": "code",
   "execution_count": 6,
   "metadata": {},
   "outputs": [],
   "source": [
    "# create a date-time index so we can group and analyze the data by timestamps\n",
    "fixed = fixed.set_index(pd.DatetimeIndex(fixed['time'], name='ut'))"
   ]
  },
  {
   "cell_type": "code",
   "execution_count": 7,
   "metadata": {},
   "outputs": [
    {
     "data": {
      "application/vnd.jupyter.widget-view+json": {
       "model_id": "",
       "version_major": 2,
       "version_minor": 0
      },
      "text/plain": [
       "Canvas(toolbar=Toolbar(toolitems=[('Home', 'Reset original view', 'home', 'home'), ('Back', 'Back to previous …"
      ]
     },
     "metadata": {},
     "output_type": "display_data"
    }
   ],
   "source": [
    "# make raw histogram of the zenith-corrected seeing column\n",
    "fixed.hist(column='seeing', bins=100, range=(0.0, 4.0), alpha=0.6)\n",
    "plt.title(\"2019-10-01 through 2019-12-31\")\n",
    "plt.xlabel(\"Seeing (arcsec)\")\n",
    "plt.ylabel(\"N\")\n",
    "plt.show()"
   ]
  },
  {
   "cell_type": "code",
   "execution_count": 8,
   "metadata": {},
   "outputs": [
    {
     "name": "stdout",
     "output_type": "stream",
     "text": [
      "0.36641251979928346 0.17538081652552157 0.8540924491916178\n"
     ]
    }
   ],
   "source": [
    "# fit a log-normal distribution to the seeing data\n",
    "sigma, loc, exp_mu = lognorm.fit(fixed['seeing'])\n",
    "print(sigma, loc, exp_mu)\n",
    "x = np.arange(0.0, 4.0, 0.01)\n",
    "p = lognorm.pdf(x, sigma, loc=loc, scale=exp_mu)\n",
    "mu = np.log(exp_mu)\n",
    "mode = np.exp(mu - sigma**2) + loc\n",
    "median = np.nanmedian(fixed['seeing'])\n",
    "fit_median = exp_mu + loc"
   ]
  },
  {
   "cell_type": "code",
   "execution_count": 21,
   "metadata": {},
   "outputs": [
    {
     "data": {
      "application/vnd.jupyter.widget-view+json": {
       "model_id": "4915c80fb91f4feaa7cb75c9eb193063",
       "version_major": 2,
       "version_minor": 0
      },
      "text/plain": [
       "Canvas(toolbar=Toolbar(toolitems=[('Home', 'Reset original view', 'home', 'home'), ('Back', 'Back to previous …"
      ]
     },
     "metadata": {},
     "output_type": "display_data"
    }
   ],
   "source": [
    "# plot normalized histogram with the fit and the median/mode calculated from the fit.\n",
    "fig = plt.figure(figsize=(8, 5))\n",
    "plt.hist(fixed['seeing'], density=True, bins=100, range=(0.0, 4.0), label=\"hist\", alpha=0.6)\n",
    "logp = plt.plot(x, p, label=\"logp\")\n",
    "plt.xlabel(\"Seeing (arcsec)\")\n",
    "plt.ylabel(\"Number Density\")\n",
    "plt.title(\"2019-10-01 through 2019-12-31\")\n",
    "plt.legend([\"median=%.2f\\\", mode=%.2f\\\"\" % (fit_median, mode), \"median=%.2f\\\"\" % (\n",
    "    median\n",
    ")])\n",
    "plt.savefig(\"2019q4_hist.png\")\n",
    "plt.show()"
   ]
  },
  {
   "cell_type": "code",
   "execution_count": 22,
   "metadata": {},
   "outputs": [
    {
     "data": {
      "application/vnd.jupyter.widget-view+json": {
       "model_id": "0f6bef60328343c3b65dbc535792489f",
       "version_major": 2,
       "version_minor": 0
      },
      "text/plain": [
       "Canvas(toolbar=Toolbar(toolitems=[('Home', 'Reset original view', 'home', 'home'), ('Back', 'Back to previous …"
      ]
     },
     "metadata": {},
     "output_type": "display_data"
    }
   ],
   "source": [
    "# panda time indexing makes it easy to group by month\n",
    "fig = plt.figure(figsize=(8, 5))\n",
    "months = {}\n",
    "legends = []\n",
    "months['October'] = fixed['2019-10']\n",
    "months['November'] = fixed['2019-11']\n",
    "months['December'] = fixed['2019-12']\n",
    "for m in months:\n",
    "    plt.hist(months[m]['seeing'], bins=100, range=(0.0, 4.0), label=m, alpha=0.6)\n",
    "    legend = \"%s: %.2f\\\"\" % (m, np.median(months[m]['seeing']))\n",
    "    legends.append(legend)\n",
    "plt.legend(legends)\n",
    "plt.xlabel(\"Seeing (arcsec)\")\n",
    "plt.ylabel(\"N\")\n",
    "#plt.title(\"Data and median seeing values grouped by month\")\n",
    "plt.savefig(\"2019q4_monthly.png\")\n",
    "plt.show()"
   ]
  },
  {
   "cell_type": "code",
   "execution_count": 23,
   "metadata": {},
   "outputs": [
    {
     "data": {
      "text/plain": [
       "(3456, 3945, 4525)"
      ]
     },
     "execution_count": 23,
     "metadata": {},
     "output_type": "execute_result"
    }
   ],
   "source": [
    "len(months['October']), len(months['November']), len(months['December'])"
   ]
  },
  {
   "cell_type": "code",
   "execution_count": 24,
   "metadata": {},
   "outputs": [],
   "source": [
    "# now use the between_time() method to split the data into first and second halves of the night.\n",
    "first_half = fixed.between_time(start_time='00:00', end_time='07:00')\n",
    "second_half = fixed.between_time(start_time='07:00', end_time='14:00')\n",
    "#first_half = months['December'].between_time(start_time='00:00', end_time='07:00')\n",
    "#second_half = months['December'].between_time(start_time='07:00', end_time='14:00')\n",
    "med_1st = np.median(first_half['seeing'])\n",
    "med_2nd = np.median(second_half['seeing'])"
   ]
  },
  {
   "cell_type": "code",
   "execution_count": 25,
   "metadata": {},
   "outputs": [
    {
     "data": {
      "application/vnd.jupyter.widget-view+json": {
       "model_id": "049fcf3229da450693cbf86246faf1c9",
       "version_major": 2,
       "version_minor": 0
      },
      "text/plain": [
       "Canvas(toolbar=Toolbar(toolitems=[('Home', 'Reset original view', 'home', 'home'), ('Back', 'Back to previous …"
      ]
     },
     "metadata": {},
     "output_type": "display_data"
    }
   ],
   "source": [
    "# plot the results and show that the seeing is better later in the night...\n",
    "fig = plt.figure(figsize=(8, 5))\n",
    "plt.hist(first_half['seeing'], bins=100, range=(0.0, 4.0), label=\"1st\", alpha=0.6)\n",
    "plt.hist(second_half['seeing'], bins=100, range=(0.0, 4.0), label=\"2nd\", alpha=0.6)\n",
    "plt.legend([\"1st Half: %.2f\\\"\" % med_1st, \"2nd Half: %.2f\\\"\" % med_2nd])\n",
    "plt.xlabel(\"Seeing (arcsec)\")\n",
    "plt.ylabel(\"N\")\n",
    "#plt.title(\"Data and median seeing values grouped by half of the night\")\n",
    "plt.savefig(\"2019q4_1st2nd.png\")\n",
    "plt.show()"
   ]
  },
  {
   "cell_type": "code",
   "execution_count": 26,
   "metadata": {},
   "outputs": [
    {
     "data": {
      "application/vnd.jupyter.widget-view+json": {
       "model_id": "c483cbfc35624891a927c5b56635d493",
       "version_major": 2,
       "version_minor": 0
      },
      "text/plain": [
       "Canvas(toolbar=Toolbar(toolitems=[('Home', 'Reset original view', 'home', 'home'), ('Back', 'Back to previous …"
      ]
     },
     "metadata": {},
     "output_type": "display_data"
    }
   ],
   "source": [
    "import matplotlib.dates as mdates\n",
    "\n",
    "# make a new data frame that resamples the WFS data daily into the median, min, and max seeing for each day.\n",
    "#fixed = fixed[\"2018-06-30\":\"2018-10-01\"]\n",
    "fig, ax = plt.subplots(figsize=(8, 5))\n",
    "daily = pd.DataFrame()\n",
    "daily['seeing'] = fixed.seeing.resample('D').median()\n",
    "daily['max'] = fixed.seeing.resample('D').max()\n",
    "daily['min'] = fixed.seeing.resample('D').min()\n",
    "lowb = daily['seeing'] - daily['min']\n",
    "upb = daily['max'] - daily['seeing']\n",
    "plt.errorbar(daily.index, daily['seeing'], yerr=[lowb, upb], fmt='o')\n",
    "ax.xaxis.set_major_locator(mdates.MonthLocator())\n",
    "ax.xaxis.set_major_formatter(mdates.DateFormatter(\"%m-%d-%Y\"))\n",
    "fig.autofmt_xdate()\n",
    "plt.ylabel(\"Seeing (arcsec)\")\n",
    "#plt.title(\"Nightly median seeing\")\n",
    "plt.savefig(\"2019q4_nightly.pdf\")\n",
    "plt.show()"
   ]
  },
  {
   "cell_type": "code",
   "execution_count": 27,
   "metadata": {},
   "outputs": [],
   "source": [
    "date_list = list(daily.index.strftime('%Y-%m-%d'))\n",
    "data = [np.array(fixed[date]['seeing']) for date in date_list]\n",
    "clean_data = {}\n",
    "for d, arr in zip(date_list, data):\n",
    "    if len(arr) > 0:\n",
    "        clean_data[d] = arr\n",
    "date_labels = [datetime.strptime(d, \"%Y-%m-%d\").date() for d in clean_data.keys()]"
   ]
  },
  {
   "cell_type": "code",
   "execution_count": 29,
   "metadata": {},
   "outputs": [
    {
     "data": {
      "application/vnd.jupyter.widget-view+json": {
       "model_id": "8bb2f23db93947ce94c91807813084c8",
       "version_major": 2,
       "version_minor": 0
      },
      "text/plain": [
       "Canvas(toolbar=Toolbar(toolitems=[('Home', 'Reset original view', 'home', 'home'), ('Back', 'Back to previous …"
      ]
     },
     "metadata": {},
     "output_type": "display_data"
    }
   ],
   "source": [
    "fig, ax = plt.subplots(figsize=(10,5))\n",
    "plt.violinplot(clean_data.values(), mdates.date2num(date_labels), points=50, widths=1.5,\n",
    "               showextrema=True, showmedians=True, bw_method='silverman')\n",
    "\n",
    "ax.xaxis.set_major_locator(mdates.MonthLocator())\n",
    "ax.xaxis.set_major_formatter(mdates.DateFormatter(\"%m-%d-%Y\"))\n",
    "#ax.xaxis.set_major_formatter(mdates.ConciseDateFormatter(\"%m-%d-%Y\"))\n",
    "fig.autofmt_xdate()\n",
    "plt.ylabel(\"Seeing (arcsec)\")\n",
    "plt.savefig(\"2019q4_violin.pdf\")\n",
    "plt.show()"
   ]
  },
  {
   "cell_type": "code",
   "execution_count": 33,
   "metadata": {},
   "outputs": [
    {
     "data": {
      "application/vnd.jupyter.widget-view+json": {
       "model_id": "b22af733ebf6447ab2d08bd6b11e6f47",
       "version_major": 2,
       "version_minor": 0
      },
      "text/plain": [
       "Canvas(toolbar=Toolbar(toolitems=[('Home', 'Reset original view', 'home', 'home'), ('Back', 'Back to previous …"
      ]
     },
     "metadata": {},
     "output_type": "display_data"
    }
   ],
   "source": [
    "fig, ax = plt.subplots(figsize=(8, 5))\n",
    "ax.scatter(fixed['2019-11-23'].index, fixed['2019-11-23']['seeing'])\n",
    "ax.set_xlabel(\"UT\")\n",
    "ax.set_ylabel(\"Seeing (arcsec)\")\n",
    "ax.set_title(\"2019-11-22\")\n",
    "fig.autofmt_xdate()\n",
    "ax.xaxis.set_major_locator(mdates.HourLocator())\n",
    "ax.xaxis.set_major_formatter(mdates.DateFormatter(\"%H:%M\"))\n",
    "ax.set_xlim([datetime(2019, 11, 23, 4, 0, 0), datetime(2019, 11, 23, 11, 0, 0)])\n",
    "plt.savefig(\"2019_11_22.pdf\")\n",
    "plt.show()"
   ]
  },
  {
   "cell_type": "code",
   "execution_count": null,
   "metadata": {},
   "outputs": [],
   "source": []
  }
 ],
 "metadata": {
  "kernelspec": {
   "display_name": "Python 3",
   "language": "python",
   "name": "python3"
  },
  "language_info": {
   "codemirror_mode": {
    "name": "ipython",
    "version": 3
   },
   "file_extension": ".py",
   "mimetype": "text/x-python",
   "name": "python",
   "nbconvert_exporter": "python",
   "pygments_lexer": "ipython3",
   "version": "3.7.6"
  }
 },
 "nbformat": 4,
 "nbformat_minor": 4
}
