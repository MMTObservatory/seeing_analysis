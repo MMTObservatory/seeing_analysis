{
 "cells": [
  {
   "cell_type": "code",
   "execution_count": 1,
   "metadata": {},
   "outputs": [],
   "source": [
    "from datetime import datetime\n",
    "\n",
    "import time\n",
    "import os\n",
    "import sys\n",
    "from pathlib import Path\n",
    "\n",
    "import numpy as np\n",
    "from scipy.stats import lognorm\n",
    "import pandas as pd\n",
    "\n",
    "from astropy import stats\n",
    "import astropy.units as u\n",
    "from astropy.io import fits\n",
    "\n",
    "import matplotlib\n",
    "#matplotlib.use('nbagg')\n",
    "\n",
    "from matplotlib import style\n",
    "style.use('ggplot')\n",
    "import matplotlib.pyplot as plt\n",
    "\n",
    "%load_ext autoreload\n",
    "%autoreload 2\n",
    "%matplotlib widget"
   ]
  },
  {
   "cell_type": "code",
   "execution_count": 2,
   "metadata": {},
   "outputs": [],
   "source": [
    "rootdir = Path(\"/Volumes/LaCie 8TB/wfsdat\")\n",
    "# use find to make this csv list\n",
    "with open(rootdir / \"reanalyze_csvs_2020q1.txt\") as f:\n",
    "    csvs = f.readlines()\n",
    "\n",
    "# loop through the csv files and read them with pandas\n",
    "frames = []\n",
    "for csv in csvs:\n",
    "    frames.append(pd.read_csv(rootdir / csv.rstrip()))\n",
    "\n",
    "# now concat each frame into one big frame containing all of the data\n",
    "data = pd.concat(frames)"
   ]
  },
  {
   "cell_type": "code",
   "execution_count": 3,
   "metadata": {},
   "outputs": [
    {
     "data": {
      "text/html": [
       "<div>\n",
       "<style scoped>\n",
       "    .dataframe tbody tr th:only-of-type {\n",
       "        vertical-align: middle;\n",
       "    }\n",
       "\n",
       "    .dataframe tbody tr th {\n",
       "        vertical-align: top;\n",
       "    }\n",
       "\n",
       "    .dataframe thead th {\n",
       "        text-align: right;\n",
       "    }\n",
       "</style>\n",
       "<table border=\"1\" class=\"dataframe\">\n",
       "  <thead>\n",
       "    <tr style=\"text-align: right;\">\n",
       "      <th></th>\n",
       "      <th>count</th>\n",
       "      <th>unique</th>\n",
       "      <th>top</th>\n",
       "      <th>freq</th>\n",
       "    </tr>\n",
       "    <tr>\n",
       "      <th>wfs</th>\n",
       "      <th></th>\n",
       "      <th></th>\n",
       "      <th></th>\n",
       "      <th></th>\n",
       "    </tr>\n",
       "  </thead>\n",
       "  <tbody>\n",
       "    <tr>\n",
       "      <th>binospec</th>\n",
       "      <td>8754</td>\n",
       "      <td>1</td>\n",
       "      <td>binospec</td>\n",
       "      <td>8754</td>\n",
       "    </tr>\n",
       "    <tr>\n",
       "      <th>f5</th>\n",
       "      <td>298</td>\n",
       "      <td>1</td>\n",
       "      <td>f5</td>\n",
       "      <td>298</td>\n",
       "    </tr>\n",
       "    <tr>\n",
       "      <th>mmirs</th>\n",
       "      <td>4524</td>\n",
       "      <td>1</td>\n",
       "      <td>mmirs</td>\n",
       "      <td>4524</td>\n",
       "    </tr>\n",
       "    <tr>\n",
       "      <th>newf9</th>\n",
       "      <td>142</td>\n",
       "      <td>1</td>\n",
       "      <td>newf9</td>\n",
       "      <td>142</td>\n",
       "    </tr>\n",
       "  </tbody>\n",
       "</table>\n",
       "</div>"
      ],
      "text/plain": [
       "         count unique       top  freq\n",
       "wfs                                  \n",
       "binospec  8754      1  binospec  8754\n",
       "f5         298      1        f5   298\n",
       "mmirs     4524      1     mmirs  4524\n",
       "newf9      142      1     newf9   142"
      ]
     },
     "execution_count": 3,
     "metadata": {},
     "output_type": "execute_result"
    }
   ],
   "source": [
    "g = data.groupby('wfs')\n",
    "g.wfs.describe()"
   ]
  },
  {
   "cell_type": "code",
   "execution_count": 4,
   "metadata": {},
   "outputs": [],
   "source": [
    "# re-calculate the seeing using updated spot FWHM for binospec. filter out any NaN values...\n",
    "#fixed_list = []\n",
    "#for wfskey, group in g:\n",
    "#    wfs = wfs_systems[wfskey]\n",
    "#    group = g.get_group(wfskey)\n",
    "#    #group.apply(seeing, axis=1, args=(wfs,))\n",
    "#    group['fixed_raw_seeing'], group['fixed_seeing'] = seeing(group, wfs)\n",
    "#    fixed_list.append(group)\n",
    "#fixed = pd.concat(fixed_list)\n",
    "#fixed.rename(index=str, columns={\"seeing\": \"orig_seeing\", \"raw seeing\": \"orig_raw_seeing\"}, inplace=True)\n",
    "#fixed.rename(index=str, columns={\"fixed_seeing\": \"seeing\", \"fixed_raw_seeing\": \"raw seeing\"}, inplace=True)\n",
    "fixed = data[np.isfinite(data['seeing'])]\n",
    "fixed = fixed[fixed['fwhm'] > 0.]\n",
    "fixed = fixed[fixed['seeing'] > 0.]\n",
    "fixed = fixed[fixed['seeing'] < 4.]\n",
    "fixed = fixed[fixed['time'] > \"2019-12-30\"]"
   ]
  },
  {
   "cell_type": "code",
   "execution_count": 5,
   "metadata": {},
   "outputs": [
    {
     "data": {
      "text/html": [
       "<div>\n",
       "<style scoped>\n",
       "    .dataframe tbody tr th:only-of-type {\n",
       "        vertical-align: middle;\n",
       "    }\n",
       "\n",
       "    .dataframe tbody tr th {\n",
       "        vertical-align: top;\n",
       "    }\n",
       "\n",
       "    .dataframe thead th {\n",
       "        text-align: right;\n",
       "    }\n",
       "</style>\n",
       "<table border=\"1\" class=\"dataframe\">\n",
       "  <thead>\n",
       "    <tr style=\"text-align: right;\">\n",
       "      <th></th>\n",
       "      <th>time</th>\n",
       "      <th>wfs</th>\n",
       "      <th>file</th>\n",
       "      <th>exptime</th>\n",
       "      <th>airmass</th>\n",
       "      <th>az</th>\n",
       "      <th>el</th>\n",
       "      <th>osst</th>\n",
       "      <th>outt</th>\n",
       "      <th>chamt</th>\n",
       "      <th>...</th>\n",
       "      <th>focerr</th>\n",
       "      <th>cc_x_err</th>\n",
       "      <th>cc_y_err</th>\n",
       "      <th>xcen</th>\n",
       "      <th>ycen</th>\n",
       "      <th>seeing</th>\n",
       "      <th>raw_seeing</th>\n",
       "      <th>fwhm</th>\n",
       "      <th>wavefront_rms</th>\n",
       "      <th>residual_rms</th>\n",
       "    </tr>\n",
       "  </thead>\n",
       "  <tbody>\n",
       "    <tr>\n",
       "      <th>0</th>\n",
       "      <td>2020-01-04T01:12:43</td>\n",
       "      <td>mmirs</td>\n",
       "      <td>mmirs_wfs_0001.fits</td>\n",
       "      <td>30.0</td>\n",
       "      <td>1.2576</td>\n",
       "      <td>29.393019</td>\n",
       "      <td>52.668359</td>\n",
       "      <td>5.50</td>\n",
       "      <td>5.4</td>\n",
       "      <td>4.920</td>\n",
       "      <td>...</td>\n",
       "      <td>125.12</td>\n",
       "      <td>-2.158</td>\n",
       "      <td>14.861</td>\n",
       "      <td>249.978195</td>\n",
       "      <td>231.025116</td>\n",
       "      <td>0.930706</td>\n",
       "      <td>1.067918</td>\n",
       "      <td>5.762206</td>\n",
       "      <td>3263.580812</td>\n",
       "      <td>2040.409899</td>\n",
       "    </tr>\n",
       "    <tr>\n",
       "      <th>1</th>\n",
       "      <td>2020-01-04T01:13:15</td>\n",
       "      <td>mmirs</td>\n",
       "      <td>mmirs_wfs_0002.fits</td>\n",
       "      <td>30.0</td>\n",
       "      <td>1.2568</td>\n",
       "      <td>29.336671</td>\n",
       "      <td>52.720308</td>\n",
       "      <td>5.55</td>\n",
       "      <td>5.4</td>\n",
       "      <td>4.935</td>\n",
       "      <td>...</td>\n",
       "      <td>135.33</td>\n",
       "      <td>-3.470</td>\n",
       "      <td>13.988</td>\n",
       "      <td>248.984176</td>\n",
       "      <td>230.993890</td>\n",
       "      <td>0.995059</td>\n",
       "      <td>1.141323</td>\n",
       "      <td>6.052717</td>\n",
       "      <td>3490.000772</td>\n",
       "      <td>2026.399889</td>\n",
       "    </tr>\n",
       "    <tr>\n",
       "      <th>2</th>\n",
       "      <td>2020-01-04T01:13:47</td>\n",
       "      <td>mmirs</td>\n",
       "      <td>mmirs_wfs_0003.fits</td>\n",
       "      <td>30.0</td>\n",
       "      <td>1.2558</td>\n",
       "      <td>29.272974</td>\n",
       "      <td>52.777997</td>\n",
       "      <td>5.50</td>\n",
       "      <td>5.4</td>\n",
       "      <td>4.948</td>\n",
       "      <td>...</td>\n",
       "      <td>135.36</td>\n",
       "      <td>21.483</td>\n",
       "      <td>13.208</td>\n",
       "      <td>257.496459</td>\n",
       "      <td>230.021639</td>\n",
       "      <td>1.173518</td>\n",
       "      <td>1.345371</td>\n",
       "      <td>6.852543</td>\n",
       "      <td>3524.022654</td>\n",
       "      <td>2229.029122</td>\n",
       "    </tr>\n",
       "    <tr>\n",
       "      <th>3</th>\n",
       "      <td>2020-01-04T01:14:20</td>\n",
       "      <td>mmirs</td>\n",
       "      <td>mmirs_wfs_0004.fits</td>\n",
       "      <td>30.0</td>\n",
       "      <td>1.2549</td>\n",
       "      <td>29.210908</td>\n",
       "      <td>52.833851</td>\n",
       "      <td>5.57</td>\n",
       "      <td>5.4</td>\n",
       "      <td>4.943</td>\n",
       "      <td>...</td>\n",
       "      <td>124.28</td>\n",
       "      <td>-0.502</td>\n",
       "      <td>12.654</td>\n",
       "      <td>244.994788</td>\n",
       "      <td>231.012443</td>\n",
       "      <td>1.156066</td>\n",
       "      <td>1.324793</td>\n",
       "      <td>6.772409</td>\n",
       "      <td>3217.179567</td>\n",
       "      <td>3508.847341</td>\n",
       "    </tr>\n",
       "    <tr>\n",
       "      <th>4</th>\n",
       "      <td>2020-01-04T01:14:52</td>\n",
       "      <td>mmirs</td>\n",
       "      <td>mmirs_wfs_0005.fits</td>\n",
       "      <td>30.0</td>\n",
       "      <td>1.2540</td>\n",
       "      <td>29.148294</td>\n",
       "      <td>52.889856</td>\n",
       "      <td>5.53</td>\n",
       "      <td>5.3</td>\n",
       "      <td>4.990</td>\n",
       "      <td>...</td>\n",
       "      <td>-0.58</td>\n",
       "      <td>4.240</td>\n",
       "      <td>0.000</td>\n",
       "      <td>244.008077</td>\n",
       "      <td>231.996727</td>\n",
       "      <td>0.897753</td>\n",
       "      <td>1.028337</td>\n",
       "      <td>5.604984</td>\n",
       "      <td>543.768227</td>\n",
       "      <td>2034.476764</td>\n",
       "    </tr>\n",
       "    <tr>\n",
       "      <th>...</th>\n",
       "      <td>...</td>\n",
       "      <td>...</td>\n",
       "      <td>...</td>\n",
       "      <td>...</td>\n",
       "      <td>...</td>\n",
       "      <td>...</td>\n",
       "      <td>...</td>\n",
       "      <td>...</td>\n",
       "      <td>...</td>\n",
       "      <td>...</td>\n",
       "      <td>...</td>\n",
       "      <td>...</td>\n",
       "      <td>...</td>\n",
       "      <td>...</td>\n",
       "      <td>...</td>\n",
       "      <td>...</td>\n",
       "      <td>...</td>\n",
       "      <td>...</td>\n",
       "      <td>...</td>\n",
       "      <td>...</td>\n",
       "      <td>...</td>\n",
       "    </tr>\n",
       "    <tr>\n",
       "      <th>195</th>\n",
       "      <td>2020-03-17T05:20:40.576000</td>\n",
       "      <td>binospec</td>\n",
       "      <td>wfs_ff_cal_img_2020.0317.052040.fits</td>\n",
       "      <td>30.0</td>\n",
       "      <td>1.0185</td>\n",
       "      <td>-35.873204</td>\n",
       "      <td>79.060802</td>\n",
       "      <td>3.70</td>\n",
       "      <td>3.4</td>\n",
       "      <td>3.788</td>\n",
       "      <td>...</td>\n",
       "      <td>-0.14</td>\n",
       "      <td>-1.028</td>\n",
       "      <td>0.000</td>\n",
       "      <td>267.989422</td>\n",
       "      <td>254.994463</td>\n",
       "      <td>0.954460</td>\n",
       "      <td>0.965015</td>\n",
       "      <td>5.102466</td>\n",
       "      <td>147.700805</td>\n",
       "      <td>1371.931120</td>\n",
       "    </tr>\n",
       "    <tr>\n",
       "      <th>196</th>\n",
       "      <td>2020-03-17T05:21:13.882000</td>\n",
       "      <td>binospec</td>\n",
       "      <td>wfs_ff_cal_img_2020.0317.052113.fits</td>\n",
       "      <td>30.0</td>\n",
       "      <td>1.0188</td>\n",
       "      <td>-36.294697</td>\n",
       "      <td>78.990034</td>\n",
       "      <td>3.70</td>\n",
       "      <td>3.4</td>\n",
       "      <td>3.797</td>\n",
       "      <td>...</td>\n",
       "      <td>-140.85</td>\n",
       "      <td>0.000</td>\n",
       "      <td>0.000</td>\n",
       "      <td>267.983526</td>\n",
       "      <td>254.989442</td>\n",
       "      <td>0.915443</td>\n",
       "      <td>0.925731</td>\n",
       "      <td>4.945726</td>\n",
       "      <td>6160.723708</td>\n",
       "      <td>4771.516753</td>\n",
       "    </tr>\n",
       "    <tr>\n",
       "      <th>197</th>\n",
       "      <td>2020-03-17T05:21:47.193000</td>\n",
       "      <td>binospec</td>\n",
       "      <td>wfs_ff_cal_img_2020.0317.052147.fits</td>\n",
       "      <td>30.0</td>\n",
       "      <td>1.0190</td>\n",
       "      <td>-36.699817</td>\n",
       "      <td>78.920372</td>\n",
       "      <td>3.67</td>\n",
       "      <td>3.4</td>\n",
       "      <td>3.734</td>\n",
       "      <td>...</td>\n",
       "      <td>0.00</td>\n",
       "      <td>-0.124</td>\n",
       "      <td>-0.000</td>\n",
       "      <td>267.992294</td>\n",
       "      <td>255.981087</td>\n",
       "      <td>0.976311</td>\n",
       "      <td>0.987399</td>\n",
       "      <td>5.191528</td>\n",
       "      <td>152.739062</td>\n",
       "      <td>1294.483742</td>\n",
       "    </tr>\n",
       "    <tr>\n",
       "      <th>198</th>\n",
       "      <td>2020-03-17T05:22:20.451000</td>\n",
       "      <td>binospec</td>\n",
       "      <td>wfs_ff_cal_img_2020.0317.052220.fits</td>\n",
       "      <td>30.0</td>\n",
       "      <td>1.0193</td>\n",
       "      <td>-37.109756</td>\n",
       "      <td>78.848135</td>\n",
       "      <td>3.65</td>\n",
       "      <td>3.4</td>\n",
       "      <td>3.732</td>\n",
       "      <td>...</td>\n",
       "      <td>-0.00</td>\n",
       "      <td>-0.427</td>\n",
       "      <td>-0.000</td>\n",
       "      <td>267.980380</td>\n",
       "      <td>255.992346</td>\n",
       "      <td>0.959212</td>\n",
       "      <td>0.970277</td>\n",
       "      <td>5.123419</td>\n",
       "      <td>116.381207</td>\n",
       "      <td>1329.328221</td>\n",
       "    </tr>\n",
       "    <tr>\n",
       "      <th>199</th>\n",
       "      <td>2020-03-17T05:22:53.684000</td>\n",
       "      <td>binospec</td>\n",
       "      <td>wfs_ff_cal_img_2020.0317.052253.fits</td>\n",
       "      <td>30.0</td>\n",
       "      <td>1.0195</td>\n",
       "      <td>-37.523599</td>\n",
       "      <td>78.773387</td>\n",
       "      <td>3.67</td>\n",
       "      <td>3.5</td>\n",
       "      <td>3.703</td>\n",
       "      <td>...</td>\n",
       "      <td>0.00</td>\n",
       "      <td>-0.530</td>\n",
       "      <td>0.000</td>\n",
       "      <td>267.992981</td>\n",
       "      <td>255.005307</td>\n",
       "      <td>0.914593</td>\n",
       "      <td>0.925253</td>\n",
       "      <td>4.943815</td>\n",
       "      <td>112.868018</td>\n",
       "      <td>1282.631722</td>\n",
       "    </tr>\n",
       "  </tbody>\n",
       "</table>\n",
       "<p>13689 rows × 25 columns</p>\n",
       "</div>"
      ],
      "text/plain": [
       "                           time       wfs  \\\n",
       "0           2020-01-04T01:12:43     mmirs   \n",
       "1           2020-01-04T01:13:15     mmirs   \n",
       "2           2020-01-04T01:13:47     mmirs   \n",
       "3           2020-01-04T01:14:20     mmirs   \n",
       "4           2020-01-04T01:14:52     mmirs   \n",
       "..                          ...       ...   \n",
       "195  2020-03-17T05:20:40.576000  binospec   \n",
       "196  2020-03-17T05:21:13.882000  binospec   \n",
       "197  2020-03-17T05:21:47.193000  binospec   \n",
       "198  2020-03-17T05:22:20.451000  binospec   \n",
       "199  2020-03-17T05:22:53.684000  binospec   \n",
       "\n",
       "                                     file  exptime  airmass         az  \\\n",
       "0                     mmirs_wfs_0001.fits     30.0   1.2576  29.393019   \n",
       "1                     mmirs_wfs_0002.fits     30.0   1.2568  29.336671   \n",
       "2                     mmirs_wfs_0003.fits     30.0   1.2558  29.272974   \n",
       "3                     mmirs_wfs_0004.fits     30.0   1.2549  29.210908   \n",
       "4                     mmirs_wfs_0005.fits     30.0   1.2540  29.148294   \n",
       "..                                    ...      ...      ...        ...   \n",
       "195  wfs_ff_cal_img_2020.0317.052040.fits     30.0   1.0185 -35.873204   \n",
       "196  wfs_ff_cal_img_2020.0317.052113.fits     30.0   1.0188 -36.294697   \n",
       "197  wfs_ff_cal_img_2020.0317.052147.fits     30.0   1.0190 -36.699817   \n",
       "198  wfs_ff_cal_img_2020.0317.052220.fits     30.0   1.0193 -37.109756   \n",
       "199  wfs_ff_cal_img_2020.0317.052253.fits     30.0   1.0195 -37.523599   \n",
       "\n",
       "            el  osst  outt  chamt  ...  focerr  cc_x_err  cc_y_err  \\\n",
       "0    52.668359  5.50   5.4  4.920  ...  125.12    -2.158    14.861   \n",
       "1    52.720308  5.55   5.4  4.935  ...  135.33    -3.470    13.988   \n",
       "2    52.777997  5.50   5.4  4.948  ...  135.36    21.483    13.208   \n",
       "3    52.833851  5.57   5.4  4.943  ...  124.28    -0.502    12.654   \n",
       "4    52.889856  5.53   5.3  4.990  ...   -0.58     4.240     0.000   \n",
       "..         ...   ...   ...    ...  ...     ...       ...       ...   \n",
       "195  79.060802  3.70   3.4  3.788  ...   -0.14    -1.028     0.000   \n",
       "196  78.990034  3.70   3.4  3.797  ... -140.85     0.000     0.000   \n",
       "197  78.920372  3.67   3.4  3.734  ...    0.00    -0.124    -0.000   \n",
       "198  78.848135  3.65   3.4  3.732  ...   -0.00    -0.427    -0.000   \n",
       "199  78.773387  3.67   3.5  3.703  ...    0.00    -0.530     0.000   \n",
       "\n",
       "           xcen        ycen    seeing  raw_seeing      fwhm  wavefront_rms  \\\n",
       "0    249.978195  231.025116  0.930706    1.067918  5.762206    3263.580812   \n",
       "1    248.984176  230.993890  0.995059    1.141323  6.052717    3490.000772   \n",
       "2    257.496459  230.021639  1.173518    1.345371  6.852543    3524.022654   \n",
       "3    244.994788  231.012443  1.156066    1.324793  6.772409    3217.179567   \n",
       "4    244.008077  231.996727  0.897753    1.028337  5.604984     543.768227   \n",
       "..          ...         ...       ...         ...       ...            ...   \n",
       "195  267.989422  254.994463  0.954460    0.965015  5.102466     147.700805   \n",
       "196  267.983526  254.989442  0.915443    0.925731  4.945726    6160.723708   \n",
       "197  267.992294  255.981087  0.976311    0.987399  5.191528     152.739062   \n",
       "198  267.980380  255.992346  0.959212    0.970277  5.123419     116.381207   \n",
       "199  267.992981  255.005307  0.914593    0.925253  4.943815     112.868018   \n",
       "\n",
       "     residual_rms  \n",
       "0     2040.409899  \n",
       "1     2026.399889  \n",
       "2     2229.029122  \n",
       "3     3508.847341  \n",
       "4     2034.476764  \n",
       "..            ...  \n",
       "195   1371.931120  \n",
       "196   4771.516753  \n",
       "197   1294.483742  \n",
       "198   1329.328221  \n",
       "199   1282.631722  \n",
       "\n",
       "[13689 rows x 25 columns]"
      ]
     },
     "execution_count": 5,
     "metadata": {},
     "output_type": "execute_result"
    }
   ],
   "source": [
    "fixed.sort_values(by='time')"
   ]
  },
  {
   "cell_type": "code",
   "execution_count": 6,
   "metadata": {},
   "outputs": [],
   "source": [
    "# create a date-time index so we can group and analyze the data by timestamps\n",
    "fixed = fixed.set_index(pd.DatetimeIndex(fixed['time'], name='ut'))"
   ]
  },
  {
   "cell_type": "code",
   "execution_count": 8,
   "metadata": {},
   "outputs": [
    {
     "data": {
      "application/vnd.jupyter.widget-view+json": {
       "model_id": "d695fd42d5754f8ab9536e02f4dc1d0c",
       "version_major": 2,
       "version_minor": 0
      },
      "text/plain": [
       "Canvas(toolbar=Toolbar(toolitems=[('Home', 'Reset original view', 'home', 'home'), ('Back', 'Back to previous …"
      ]
     },
     "metadata": {},
     "output_type": "display_data"
    },
    {
     "data": {
      "application/vnd.jupyter.widget-view+json": {
       "model_id": "94df3cdc551149828b243dc68d9d3247",
       "version_major": 2,
       "version_minor": 0
      },
      "text/plain": [
       "Canvas(toolbar=Toolbar(toolitems=[('Home', 'Reset original view', 'home', 'home'), ('Back', 'Back to previous …"
      ]
     },
     "metadata": {},
     "output_type": "display_data"
    }
   ],
   "source": [
    "# make raw histogram of the zenith-corrected seeing column\n",
    "fig = plt.figure(figsize=(8, 5))\n",
    "fixed.hist(column='seeing', bins=100, range=(0.0, 4.0), alpha=0.6)\n",
    "plt.title(\"2020-01-01 through 2020-03-31\")\n",
    "plt.xlabel(\"Seeing (arcsec)\")\n",
    "plt.ylabel(\"N\")\n",
    "plt.show()"
   ]
  },
  {
   "cell_type": "code",
   "execution_count": 9,
   "metadata": {},
   "outputs": [
    {
     "name": "stdout",
     "output_type": "stream",
     "text": [
      "0.2958128805092861 -0.10924159146554159 1.1545214685464247\n"
     ]
    }
   ],
   "source": [
    "# fit a log-normal distribution to the seeing data\n",
    "sigma, loc, exp_mu = lognorm.fit(fixed['seeing'])\n",
    "print(sigma, loc, exp_mu)\n",
    "x = np.arange(0.0, 4.0, 0.01)\n",
    "p = lognorm.pdf(x, sigma, loc=loc, scale=exp_mu)\n",
    "mu = np.log(exp_mu)\n",
    "mode = np.exp(mu - sigma**2) + loc\n",
    "median = np.nanmedian(fixed['seeing'])\n",
    "fit_median = exp_mu + loc"
   ]
  },
  {
   "cell_type": "code",
   "execution_count": 10,
   "metadata": {},
   "outputs": [
    {
     "data": {
      "application/vnd.jupyter.widget-view+json": {
       "model_id": "67c14b9bac9c4455841dabd221483ff5",
       "version_major": 2,
       "version_minor": 0
      },
      "text/plain": [
       "Canvas(toolbar=Toolbar(toolitems=[('Home', 'Reset original view', 'home', 'home'), ('Back', 'Back to previous …"
      ]
     },
     "metadata": {},
     "output_type": "display_data"
    }
   ],
   "source": [
    "# plot normalized histogram with the fit and the median/mode calculated from the fit.\n",
    "fig = plt.figure(figsize=(8, 5))\n",
    "plt.hist(fixed['seeing'], density=True, bins=100, range=(0.0, 4.0), label=\"hist\", alpha=0.6)\n",
    "logp = plt.plot(x, p, label=\"logp\")\n",
    "plt.xlabel(\"Seeing (arcsec)\")\n",
    "plt.ylabel(\"Number Density\")\n",
    "plt.title(\"2020-01-01 through 2020-03-31\")\n",
    "plt.legend([\"median=%.2f\\\", mode=%.2f\\\"\" % (fit_median, mode), \"median=%.2f\\\"\" % (\n",
    "    median\n",
    ")])\n",
    "plt.savefig(\"2020q1_hist.png\")\n",
    "plt.show()"
   ]
  },
  {
   "cell_type": "code",
   "execution_count": 11,
   "metadata": {},
   "outputs": [
    {
     "data": {
      "application/vnd.jupyter.widget-view+json": {
       "model_id": "c2edb0d75dc34b2eb021684163d0a076",
       "version_major": 2,
       "version_minor": 0
      },
      "text/plain": [
       "Canvas(toolbar=Toolbar(toolitems=[('Home', 'Reset original view', 'home', 'home'), ('Back', 'Back to previous …"
      ]
     },
     "metadata": {},
     "output_type": "display_data"
    }
   ],
   "source": [
    "# panda time indexing makes it easy to group by month\n",
    "fig = plt.figure(figsize=(8, 5))\n",
    "months = {}\n",
    "legends = []\n",
    "months['January'] = fixed['2020-01']\n",
    "months['February'] = fixed['2020-02']\n",
    "months['March'] = fixed['2020-03']\n",
    "for m in months:\n",
    "    plt.hist(months[m]['seeing'], bins=100, range=(0.0, 4.0), label=m, alpha=0.6)\n",
    "    legend = \"%s: %.2f\\\"\" % (m, np.median(months[m]['seeing']))\n",
    "    legends.append(legend)\n",
    "plt.legend(legends)\n",
    "plt.xlabel(\"Seeing (arcsec)\")\n",
    "plt.ylabel(\"N\")\n",
    "#plt.title(\"Data and median seeing values grouped by month\")\n",
    "plt.savefig(\"2020q1_monthly.png\")\n",
    "plt.show()"
   ]
  },
  {
   "cell_type": "code",
   "execution_count": 12,
   "metadata": {},
   "outputs": [
    {
     "data": {
      "text/plain": [
       "(10630, 398, 2661)"
      ]
     },
     "execution_count": 12,
     "metadata": {},
     "output_type": "execute_result"
    }
   ],
   "source": [
    "len(months['January']), len(months['February']), len(months['March'])"
   ]
  },
  {
   "cell_type": "code",
   "execution_count": 13,
   "metadata": {},
   "outputs": [],
   "source": [
    "# now use the between_time() method to split the data into first and second halves of the night.\n",
    "first_half = fixed.between_time(start_time='00:00', end_time='07:00')\n",
    "second_half = fixed.between_time(start_time='07:00', end_time='14:00')\n",
    "#first_half = months['December'].between_time(start_time='00:00', end_time='07:00')\n",
    "#second_half = months['December'].between_time(start_time='07:00', end_time='14:00')\n",
    "med_1st = np.median(first_half['seeing'])\n",
    "med_2nd = np.median(second_half['seeing'])"
   ]
  },
  {
   "cell_type": "code",
   "execution_count": 14,
   "metadata": {},
   "outputs": [
    {
     "data": {
      "application/vnd.jupyter.widget-view+json": {
       "model_id": "71e9a518abac47a2a4dd278361936d76",
       "version_major": 2,
       "version_minor": 0
      },
      "text/plain": [
       "Canvas(toolbar=Toolbar(toolitems=[('Home', 'Reset original view', 'home', 'home'), ('Back', 'Back to previous …"
      ]
     },
     "metadata": {},
     "output_type": "display_data"
    }
   ],
   "source": [
    "# plot the results and show that the seeing is better later in the night...\n",
    "fig = plt.figure(figsize=(8, 5))\n",
    "plt.hist(first_half['seeing'], bins=100, range=(0.0, 4.0), label=\"1st\", alpha=0.6)\n",
    "plt.hist(second_half['seeing'], bins=100, range=(0.0, 4.0), label=\"2nd\", alpha=0.6)\n",
    "plt.legend([\"1st Half: %.2f\\\"\" % med_1st, \"2nd Half: %.2f\\\"\" % med_2nd])\n",
    "plt.xlabel(\"Seeing (arcsec)\")\n",
    "plt.ylabel(\"N\")\n",
    "#plt.title(\"Data and median seeing values grouped by half of the night\")\n",
    "plt.savefig(\"2020q1_1st2nd.png\")\n",
    "plt.show()"
   ]
  },
  {
   "cell_type": "code",
   "execution_count": 15,
   "metadata": {},
   "outputs": [
    {
     "data": {
      "application/vnd.jupyter.widget-view+json": {
       "model_id": "29d2d6ed01d24c3fb35f3d35a6c60649",
       "version_major": 2,
       "version_minor": 0
      },
      "text/plain": [
       "Canvas(toolbar=Toolbar(toolitems=[('Home', 'Reset original view', 'home', 'home'), ('Back', 'Back to previous …"
      ]
     },
     "metadata": {},
     "output_type": "display_data"
    }
   ],
   "source": [
    "import matplotlib.dates as mdates\n",
    "\n",
    "# make a new data frame that resamples the WFS data daily into the median, min, and max seeing for each day.\n",
    "#fixed = fixed[\"2018-06-30\":\"2018-10-01\"]\n",
    "fig, ax = plt.subplots()\n",
    "daily = pd.DataFrame()\n",
    "daily['seeing'] = fixed.seeing.resample('D').median()\n",
    "daily['max'] = fixed.seeing.resample('D').max()\n",
    "daily['min'] = fixed.seeing.resample('D').min()\n",
    "lowb = daily['seeing'] - daily['min']\n",
    "upb = daily['max'] - daily['seeing']\n",
    "plt.errorbar(daily.index, daily['seeing'], yerr=[lowb, upb], fmt='o')\n",
    "ax.xaxis.set_major_locator(mdates.MonthLocator())\n",
    "ax.xaxis.set_major_formatter(mdates.DateFormatter(\"%m-%d-%Y\"))\n",
    "fig.autofmt_xdate()\n",
    "plt.ylabel(\"Seeing (arcsec)\")\n",
    "#plt.title(\"Nightly median seeing\")\n",
    "plt.savefig(\"2020q1_nightly.pdf\")\n",
    "plt.show()"
   ]
  },
  {
   "cell_type": "code",
   "execution_count": 16,
   "metadata": {},
   "outputs": [],
   "source": [
    "date_list = list(daily.index.strftime('%Y-%m-%d'))\n",
    "data = [np.array(fixed[date]['seeing']) for date in date_list]\n",
    "clean_data = {}\n",
    "for d, arr in zip(date_list, data):\n",
    "    if len(arr) > 0:\n",
    "        clean_data[d] = arr\n",
    "date_labels = [datetime.strptime(d, \"%Y-%m-%d\").date() for d in clean_data.keys()]"
   ]
  },
  {
   "cell_type": "code",
   "execution_count": 18,
   "metadata": {},
   "outputs": [
    {
     "data": {
      "application/vnd.jupyter.widget-view+json": {
       "model_id": "6356fca7c4e24db28be6721344730069",
       "version_major": 2,
       "version_minor": 0
      },
      "text/plain": [
       "Canvas(toolbar=Toolbar(toolitems=[('Home', 'Reset original view', 'home', 'home'), ('Back', 'Back to previous …"
      ]
     },
     "metadata": {},
     "output_type": "display_data"
    }
   ],
   "source": [
    "fig, ax = plt.subplots(figsize=(11,5))\n",
    "plt.violinplot(clean_data.values(), mdates.date2num(date_labels), points=50, widths=1.5,\n",
    "               showextrema=False, showmedians=True, bw_method='silverman')\n",
    "\n",
    "ax.xaxis.set_major_locator(mdates.MonthLocator())\n",
    "ax.xaxis.set_major_formatter(mdates.DateFormatter(\"%m-%d-%Y\"))\n",
    "fig.autofmt_xdate()\n",
    "plt.ylabel(\"Seeing (arcsec)\")\n",
    "plt.savefig(\"2020q1_violin.pdf\")\n",
    "plt.show()"
   ]
  },
  {
   "cell_type": "code",
   "execution_count": 19,
   "metadata": {},
   "outputs": [],
   "source": [
    "bino = fixed[fixed['wfs'] == \"binospec\"]"
   ]
  },
  {
   "cell_type": "code",
   "execution_count": 20,
   "metadata": {},
   "outputs": [
    {
     "name": "stderr",
     "output_type": "stream",
     "text": [
      "/Users/tim/conda/envs/py37/lib/python3.7/site-packages/ipykernel_launcher.py:1: SettingWithCopyWarning: \n",
      "A value is trying to be set on a copy of a slice from a DataFrame.\n",
      "Try using .loc[row_indexer,col_indexer] = value instead\n",
      "\n",
      "See the caveats in the documentation: https://pandas.pydata.org/pandas-docs/stable/user_guide/indexing.html#returning-a-view-versus-a-copy\n",
      "  \"\"\"Entry point for launching an IPython kernel.\n"
     ]
    }
   ],
   "source": [
    "bino['dir'] = bino.index.strftime(\"/Volumes/LaCie 8TB/wfsdat/%Y%m%d\")"
   ]
  },
  {
   "cell_type": "code",
   "execution_count": 26,
   "metadata": {},
   "outputs": [],
   "source": [
    "xcen = []\n",
    "ycen = []\n",
    "starx = []\n",
    "stary = []\n",
    "filenames = []\n",
    "for i, row in bino.iterrows():\n",
    "    p = os.path.join(row['dir'], row['file'])\n",
    "    hdul = fits.open(p)\n",
    "    hdr = hdul[1].header\n",
    "    xcen.append(row['xcen'])\n",
    "    ycen.append(row['ycen'])\n",
    "    starx.append(hdr['STARXMM'])\n",
    "    stary.append(hdr['STARYMM'])\n",
    "    filenames.append(p)\n",
    "    hdul.close()"
   ]
  },
  {
   "cell_type": "code",
   "execution_count": 27,
   "metadata": {},
   "outputs": [],
   "source": [
    "xcen = np.array(xcen)\n",
    "ycen = np.array(ycen)\n",
    "starx = np.array(starx)\n",
    "stary = np.array(stary)"
   ]
  },
  {
   "cell_type": "code",
   "execution_count": 42,
   "metadata": {},
   "outputs": [
    {
     "data": {
      "application/vnd.jupyter.widget-view+json": {
       "model_id": "1d4221209cfd42bc9161ded9cc8c0b56",
       "version_major": 2,
       "version_minor": 0
      },
      "text/plain": [
       "Canvas(toolbar=Toolbar(toolitems=[('Home', 'Reset original view', 'home', 'home'), ('Back', 'Back to previous …"
      ]
     },
     "metadata": {},
     "output_type": "display_data"
    }
   ],
   "source": [
    "fig = plt.figure(figsize=(8, 5))\n",
    "plt.scatter(stary, ycen)\n",
    "plt.show()"
   ]
  },
  {
   "cell_type": "code",
   "execution_count": 40,
   "metadata": {},
   "outputs": [],
   "source": [
    "miny, maxy = np.argmin(stary), np.argmax(stary)\n",
    "minx, maxx = np.argmin(starx), np.argmax(starx)"
   ]
  },
  {
   "cell_type": "code",
   "execution_count": 30,
   "metadata": {},
   "outputs": [
    {
     "data": {
      "text/plain": [
       "('/Volumes/LaCie 8TB/wfsdat/20200127/wfs_ff_cal_img_2020.0127.041552.fits',\n",
       " '/Volumes/LaCie 8TB/wfsdat/20200126/wfs_ff_cal_img_2020.0126.061610.fits')"
      ]
     },
     "execution_count": 30,
     "metadata": {},
     "output_type": "execute_result"
    }
   ],
   "source": [
    "filenames[miny], filenames[maxy]"
   ]
  },
  {
   "cell_type": "code",
   "execution_count": 34,
   "metadata": {},
   "outputs": [
    {
     "data": {
      "text/plain": [
       "(array([3920, 3921, 3922, 3923, 3924, 3925, 3926, 3927, 3928, 3929, 3930,\n",
       "        3931, 3932, 3933, 3934, 3935, 3936, 3937, 8596, 8597, 8598, 8599,\n",
       "        8600, 8601, 8602, 8603, 8604, 8605, 8606, 8607, 8608, 8609, 8610,\n",
       "        8611, 8612, 8613, 8614, 8615, 8616, 8617, 8618, 8619, 8620, 8621,\n",
       "        8622, 8623, 8624, 8625, 8626, 8627, 8628, 8629, 8630, 8631, 8632,\n",
       "        8633, 8634, 8635, 8636, 8637, 8638, 8639, 8640, 8641, 8642, 8643,\n",
       "        8644, 8645, 8646, 8647, 8648, 8649, 8650, 8651, 8652, 8653, 8654,\n",
       "        8655, 8656, 8657, 8658, 8659, 8660, 8661, 8662, 8663, 8664, 8665,\n",
       "        8666, 8667, 8668, 8669, 8670, 8671, 8672, 8673, 8674, 8675, 8676,\n",
       "        8677, 8678, 8679, 8680, 8681, 8682, 8683, 8684, 8685, 8686, 8687,\n",
       "        8688, 8689, 8690, 8691, 8692, 8693, 8694, 8695, 8696, 8697, 8698,\n",
       "        8699, 8700, 8701, 8702, 8703, 8704, 8705, 8706, 8707, 8708, 8709,\n",
       "        8710, 8711, 8712, 8713, 8714, 8715, 8716, 8717, 8718, 8719, 8720,\n",
       "        8721, 8722, 8723, 8724, 8725, 8726, 8727, 8728, 8729, 8730, 8731,\n",
       "        8732, 8733, 8734, 8735, 8736, 8737, 8738, 8739, 8740, 8741, 8742,\n",
       "        8743, 8744, 8745, 8746, 8747, 8748, 8749, 8750, 8751, 8752, 8753]),)"
      ]
     },
     "execution_count": 34,
     "metadata": {},
     "output_type": "execute_result"
    }
   ],
   "source": [
    "np.where((stary < 5) & (stary > -5))"
   ]
  },
  {
   "cell_type": "code",
   "execution_count": 35,
   "metadata": {},
   "outputs": [
    {
     "data": {
      "text/plain": [
       "'/Volumes/LaCie 8TB/wfsdat/20200317/wfs_ff_cal_img_2020.0317.043649.fits'"
      ]
     },
     "execution_count": 35,
     "metadata": {},
     "output_type": "execute_result"
    }
   ],
   "source": [
    "filenames[8670]"
   ]
  },
  {
   "cell_type": "code",
   "execution_count": 41,
   "metadata": {},
   "outputs": [
    {
     "data": {
      "text/plain": [
       "('/Volumes/LaCie 8TB/wfsdat/20200127/wfs_ff_cal_img_2020.0127.015209.fits',\n",
       " '/Volumes/LaCie 8TB/wfsdat/20200124/wfs_ff_cal_img_2020.0124.075451.fits')"
      ]
     },
     "execution_count": 41,
     "metadata": {},
     "output_type": "execute_result"
    }
   ],
   "source": [
    "filenames[minx], filenames[maxx]"
   ]
  },
  {
   "cell_type": "code",
   "execution_count": null,
   "metadata": {},
   "outputs": [],
   "source": []
  }
 ],
 "metadata": {
  "kernelspec": {
   "display_name": "Python 3",
   "language": "python",
   "name": "python3"
  },
  "language_info": {
   "codemirror_mode": {
    "name": "ipython",
    "version": 3
   },
   "file_extension": ".py",
   "mimetype": "text/x-python",
   "name": "python",
   "nbconvert_exporter": "python",
   "pygments_lexer": "ipython3",
   "version": "3.7.7"
  }
 },
 "nbformat": 4,
 "nbformat_minor": 4
}
