{
 "cells": [
  {
   "cell_type": "code",
   "execution_count": 1,
   "metadata": {},
   "outputs": [],
   "source": [
    "from datetime import datetime\n",
    "\n",
    "import time\n",
    "import os\n",
    "import sys\n",
    "from pathlib import Path\n",
    "\n",
    "import numpy as np\n",
    "from scipy.stats import lognorm\n",
    "import pandas as pd\n",
    "\n",
    "from astropy import stats\n",
    "import astropy.units as u\n",
    "from astropy.io import fits\n",
    "\n",
    "import matplotlib\n",
    "#matplotlib.use('nbagg')\n",
    "\n",
    "from matplotlib import style\n",
    "style.use(\"seaborn\")\n",
    "style.use('ggplot')\n",
    "import matplotlib.pyplot as plt\n",
    "\n",
    "%load_ext autoreload\n",
    "%autoreload 2\n",
    "#%matplotlib widget"
   ]
  },
  {
   "cell_type": "code",
   "execution_count": 2,
   "metadata": {},
   "outputs": [],
   "source": [
    "rootdir = Path(\"/mnt/f/wfsdat\")\n",
    "# use find to make this csv list\n",
    "with open(rootdir / \"reanalyze_csvs_2021_q3.txt\") as f:\n",
    "    csvs = f.readlines()\n",
    "\n",
    "# loop through the csv files and read them with pandas\n",
    "frames = []\n",
    "for csv in csvs:\n",
    "    frames.append(pd.read_csv(rootdir / csv.rstrip()))\n",
    "\n",
    "# now concat each frame into one big frame containing all of the data\n",
    "data = pd.concat(frames)"
   ]
  },
  {
   "cell_type": "code",
   "execution_count": 3,
   "metadata": {},
   "outputs": [
    {
     "data": {
      "text/html": [
       "<div>\n",
       "<style scoped>\n",
       "    .dataframe tbody tr th:only-of-type {\n",
       "        vertical-align: middle;\n",
       "    }\n",
       "\n",
       "    .dataframe tbody tr th {\n",
       "        vertical-align: top;\n",
       "    }\n",
       "\n",
       "    .dataframe thead th {\n",
       "        text-align: right;\n",
       "    }\n",
       "</style>\n",
       "<table border=\"1\" class=\"dataframe\">\n",
       "  <thead>\n",
       "    <tr style=\"text-align: right;\">\n",
       "      <th></th>\n",
       "      <th>count</th>\n",
       "      <th>unique</th>\n",
       "      <th>top</th>\n",
       "      <th>freq</th>\n",
       "    </tr>\n",
       "    <tr>\n",
       "      <th>wfs</th>\n",
       "      <th></th>\n",
       "      <th></th>\n",
       "      <th></th>\n",
       "      <th></th>\n",
       "    </tr>\n",
       "  </thead>\n",
       "  <tbody>\n",
       "    <tr>\n",
       "      <th>binospec</th>\n",
       "      <td>5309</td>\n",
       "      <td>1</td>\n",
       "      <td>binospec</td>\n",
       "      <td>5309</td>\n",
       "    </tr>\n",
       "    <tr>\n",
       "      <th>f5</th>\n",
       "      <td>108</td>\n",
       "      <td>1</td>\n",
       "      <td>f5</td>\n",
       "      <td>108</td>\n",
       "    </tr>\n",
       "    <tr>\n",
       "      <th>mmirs</th>\n",
       "      <td>590</td>\n",
       "      <td>1</td>\n",
       "      <td>mmirs</td>\n",
       "      <td>590</td>\n",
       "    </tr>\n",
       "  </tbody>\n",
       "</table>\n",
       "</div>"
      ],
      "text/plain": [
       "         count unique       top  freq\n",
       "wfs                                  \n",
       "binospec  5309      1  binospec  5309\n",
       "f5         108      1        f5   108\n",
       "mmirs      590      1     mmirs   590"
      ]
     },
     "execution_count": 3,
     "metadata": {},
     "output_type": "execute_result"
    }
   ],
   "source": [
    "g = data.groupby('wfs')\n",
    "g.wfs.describe()"
   ]
  },
  {
   "cell_type": "code",
   "execution_count": 4,
   "metadata": {},
   "outputs": [],
   "source": [
    "# re-calculate the seeing using updated spot FWHM for binospec. filter out any NaN values...\n",
    "#fixed_list = []\n",
    "#for wfskey, group in g:\n",
    "#    wfs = wfs_systems[wfskey]\n",
    "#    group = g.get_group(wfskey)\n",
    "#    #group.apply(seeing, axis=1, args=(wfs,))\n",
    "#    group['fixed_raw_seeing'], group['fixed_seeing'] = seeing(group, wfs)\n",
    "#    fixed_list.append(group)\n",
    "#fixed = pd.concat(fixed_list)\n",
    "#fixed.rename(index=str, columns={\"seeing\": \"orig_seeing\", \"raw seeing\": \"orig_raw_seeing\"}, inplace=True)\n",
    "#fixed.rename(index=str, columns={\"fixed_seeing\": \"seeing\", \"fixed_raw_seeing\": \"raw seeing\"}, inplace=True)\n",
    "fixed = data[np.isfinite(data['seeing'])]\n",
    "fixed = fixed[fixed['fwhm'] > 0.]\n",
    "fixed = fixed[fixed['seeing'] > 0.]\n",
    "fixed = fixed[fixed['seeing'] < 4.]\n",
    "#fixed = fixed[fixed['time'] < \"2020-12-31\"]"
   ]
  },
  {
   "cell_type": "code",
   "execution_count": 5,
   "metadata": {},
   "outputs": [
    {
     "data": {
      "text/html": [
       "<div>\n",
       "<style scoped>\n",
       "    .dataframe tbody tr th:only-of-type {\n",
       "        vertical-align: middle;\n",
       "    }\n",
       "\n",
       "    .dataframe tbody tr th {\n",
       "        vertical-align: top;\n",
       "    }\n",
       "\n",
       "    .dataframe thead th {\n",
       "        text-align: right;\n",
       "    }\n",
       "</style>\n",
       "<table border=\"1\" class=\"dataframe\">\n",
       "  <thead>\n",
       "    <tr style=\"text-align: right;\">\n",
       "      <th></th>\n",
       "      <th>time</th>\n",
       "      <th>wfs</th>\n",
       "      <th>file</th>\n",
       "      <th>exptime</th>\n",
       "      <th>airmass</th>\n",
       "      <th>az</th>\n",
       "      <th>el</th>\n",
       "      <th>osst</th>\n",
       "      <th>outt</th>\n",
       "      <th>chamt</th>\n",
       "      <th>...</th>\n",
       "      <th>focerr</th>\n",
       "      <th>cc_x_err</th>\n",
       "      <th>cc_y_err</th>\n",
       "      <th>xcen</th>\n",
       "      <th>ycen</th>\n",
       "      <th>seeing</th>\n",
       "      <th>raw_seeing</th>\n",
       "      <th>fwhm</th>\n",
       "      <th>wavefront_rms</th>\n",
       "      <th>residual_rms</th>\n",
       "    </tr>\n",
       "  </thead>\n",
       "  <tbody>\n",
       "    <tr>\n",
       "      <th>0</th>\n",
       "      <td>2021-07-09T03:49:41.664000</td>\n",
       "      <td>f5</td>\n",
       "      <td>manual_wfs_0003.fits</td>\n",
       "      <td>30.0</td>\n",
       "      <td>1.3464</td>\n",
       "      <td>21.369856</td>\n",
       "      <td>47.964011</td>\n",
       "      <td>20.50</td>\n",
       "      <td>19.4</td>\n",
       "      <td>19.657</td>\n",
       "      <td>...</td>\n",
       "      <td>62.86</td>\n",
       "      <td>3.498</td>\n",
       "      <td>0.646</td>\n",
       "      <td>224.984245</td>\n",
       "      <td>229.020206</td>\n",
       "      <td>1.386129</td>\n",
       "      <td>1.656945</td>\n",
       "      <td>9.247442</td>\n",
       "      <td>1589.736972</td>\n",
       "      <td>1374.879344</td>\n",
       "    </tr>\n",
       "    <tr>\n",
       "      <th>1</th>\n",
       "      <td>2021-07-09T03:51:57.312000</td>\n",
       "      <td>f5</td>\n",
       "      <td>manual_wfs_0004.fits</td>\n",
       "      <td>30.0</td>\n",
       "      <td>1.3428</td>\n",
       "      <td>21.166652</td>\n",
       "      <td>48.136209</td>\n",
       "      <td>20.50</td>\n",
       "      <td>19.4</td>\n",
       "      <td>19.526</td>\n",
       "      <td>...</td>\n",
       "      <td>-2.82</td>\n",
       "      <td>3.258</td>\n",
       "      <td>0.000</td>\n",
       "      <td>224.005489</td>\n",
       "      <td>229.017578</td>\n",
       "      <td>1.306314</td>\n",
       "      <td>1.559030</td>\n",
       "      <td>8.812942</td>\n",
       "      <td>631.489522</td>\n",
       "      <td>1275.735917</td>\n",
       "    </tr>\n",
       "    <tr>\n",
       "      <th>2</th>\n",
       "      <td>2021-07-09T03:53:07.296000</td>\n",
       "      <td>f5</td>\n",
       "      <td>manual_wfs_0005.fits</td>\n",
       "      <td>30.0</td>\n",
       "      <td>1.3409</td>\n",
       "      <td>21.060715</td>\n",
       "      <td>48.224068</td>\n",
       "      <td>20.50</td>\n",
       "      <td>19.4</td>\n",
       "      <td>19.488</td>\n",
       "      <td>...</td>\n",
       "      <td>-5.41</td>\n",
       "      <td>0.079</td>\n",
       "      <td>0.000</td>\n",
       "      <td>224.991238</td>\n",
       "      <td>230.989590</td>\n",
       "      <td>1.400234</td>\n",
       "      <td>1.669700</td>\n",
       "      <td>9.303807</td>\n",
       "      <td>246.918167</td>\n",
       "      <td>1317.996774</td>\n",
       "    </tr>\n",
       "    <tr>\n",
       "      <th>3</th>\n",
       "      <td>2021-07-09T05:38:01.536000</td>\n",
       "      <td>f5</td>\n",
       "      <td>manual_wfs_0006.fits</td>\n",
       "      <td>30.0</td>\n",
       "      <td>1.3474</td>\n",
       "      <td>-52.870544</td>\n",
       "      <td>47.915517</td>\n",
       "      <td>18.75</td>\n",
       "      <td>19.1</td>\n",
       "      <td>19.004</td>\n",
       "      <td>...</td>\n",
       "      <td>-27.95</td>\n",
       "      <td>0.000</td>\n",
       "      <td>0.000</td>\n",
       "      <td>238.984719</td>\n",
       "      <td>260.999532</td>\n",
       "      <td>1.553921</td>\n",
       "      <td>1.858347</td>\n",
       "      <td>10.131208</td>\n",
       "      <td>860.297050</td>\n",
       "      <td>1442.421272</td>\n",
       "    </tr>\n",
       "    <tr>\n",
       "      <th>4</th>\n",
       "      <td>2021-07-09T05:39:07.200000</td>\n",
       "      <td>f5</td>\n",
       "      <td>manual_wfs_0007.fits</td>\n",
       "      <td>30.0</td>\n",
       "      <td>1.3514</td>\n",
       "      <td>-52.880576</td>\n",
       "      <td>47.730638</td>\n",
       "      <td>18.75</td>\n",
       "      <td>19.1</td>\n",
       "      <td>19.008</td>\n",
       "      <td>...</td>\n",
       "      <td>0.00</td>\n",
       "      <td>0.507</td>\n",
       "      <td>0.765</td>\n",
       "      <td>240.983258</td>\n",
       "      <td>263.010108</td>\n",
       "      <td>1.291741</td>\n",
       "      <td>1.547554</td>\n",
       "      <td>8.761802</td>\n",
       "      <td>417.836115</td>\n",
       "      <td>1434.407469</td>\n",
       "    </tr>\n",
       "    <tr>\n",
       "      <th>...</th>\n",
       "      <td>...</td>\n",
       "      <td>...</td>\n",
       "      <td>...</td>\n",
       "      <td>...</td>\n",
       "      <td>...</td>\n",
       "      <td>...</td>\n",
       "      <td>...</td>\n",
       "      <td>...</td>\n",
       "      <td>...</td>\n",
       "      <td>...</td>\n",
       "      <td>...</td>\n",
       "      <td>...</td>\n",
       "      <td>...</td>\n",
       "      <td>...</td>\n",
       "      <td>...</td>\n",
       "      <td>...</td>\n",
       "      <td>...</td>\n",
       "      <td>...</td>\n",
       "      <td>...</td>\n",
       "      <td>...</td>\n",
       "      <td>...</td>\n",
       "    </tr>\n",
       "    <tr>\n",
       "      <th>4</th>\n",
       "      <td>2021-09-24T05:14:25.440000</td>\n",
       "      <td>f5</td>\n",
       "      <td>manual_wfs_0005.fits</td>\n",
       "      <td>30.0</td>\n",
       "      <td>1.3539</td>\n",
       "      <td>190.335770</td>\n",
       "      <td>47.612642</td>\n",
       "      <td>13.50</td>\n",
       "      <td>10.2</td>\n",
       "      <td>11.589</td>\n",
       "      <td>...</td>\n",
       "      <td>12.60</td>\n",
       "      <td>0.000</td>\n",
       "      <td>-0.000</td>\n",
       "      <td>246.997494</td>\n",
       "      <td>267.012600</td>\n",
       "      <td>2.571806</td>\n",
       "      <td>3.084538</td>\n",
       "      <td>15.271685</td>\n",
       "      <td>419.587863</td>\n",
       "      <td>2501.880314</td>\n",
       "    </tr>\n",
       "    <tr>\n",
       "      <th>5</th>\n",
       "      <td>2021-09-24T06:54:01.728000</td>\n",
       "      <td>f5</td>\n",
       "      <td>manual_wfs_0006.fits</td>\n",
       "      <td>30.0</td>\n",
       "      <td>1.4862</td>\n",
       "      <td>161.864465</td>\n",
       "      <td>42.287717</td>\n",
       "      <td>11.75</td>\n",
       "      <td>10.2</td>\n",
       "      <td>10.971</td>\n",
       "      <td>...</td>\n",
       "      <td>-61.79</td>\n",
       "      <td>-3.080</td>\n",
       "      <td>2.390</td>\n",
       "      <td>283.003854</td>\n",
       "      <td>292.996150</td>\n",
       "      <td>1.883255</td>\n",
       "      <td>2.388666</td>\n",
       "      <td>12.400498</td>\n",
       "      <td>1607.680781</td>\n",
       "      <td>1881.524661</td>\n",
       "    </tr>\n",
       "    <tr>\n",
       "      <th>7</th>\n",
       "      <td>2021-09-24T06:56:41.568000</td>\n",
       "      <td>f5</td>\n",
       "      <td>manual_wfs_0008.fits</td>\n",
       "      <td>30.0</td>\n",
       "      <td>1.4812</td>\n",
       "      <td>162.711174</td>\n",
       "      <td>42.463198</td>\n",
       "      <td>11.75</td>\n",
       "      <td>10.2</td>\n",
       "      <td>10.556</td>\n",
       "      <td>...</td>\n",
       "      <td>-4.14</td>\n",
       "      <td>-0.000</td>\n",
       "      <td>-1.618</td>\n",
       "      <td>254.999786</td>\n",
       "      <td>270.982398</td>\n",
       "      <td>1.949167</td>\n",
       "      <td>2.467274</td>\n",
       "      <td>12.730443</td>\n",
       "      <td>385.273987</td>\n",
       "      <td>2126.754583</td>\n",
       "    </tr>\n",
       "    <tr>\n",
       "      <th>9</th>\n",
       "      <td>2021-09-24T08:05:11.616000</td>\n",
       "      <td>f5</td>\n",
       "      <td>manual_wfs_0010.fits</td>\n",
       "      <td>30.0</td>\n",
       "      <td>1.3290</td>\n",
       "      <td>197.387544</td>\n",
       "      <td>48.802803</td>\n",
       "      <td>10.50</td>\n",
       "      <td>10.1</td>\n",
       "      <td>10.384</td>\n",
       "      <td>...</td>\n",
       "      <td>-104.13</td>\n",
       "      <td>-1.030</td>\n",
       "      <td>-4.082</td>\n",
       "      <td>224.993728</td>\n",
       "      <td>278.997205</td>\n",
       "      <td>2.262932</td>\n",
       "      <td>2.684025</td>\n",
       "      <td>13.632484</td>\n",
       "      <td>2561.544667</td>\n",
       "      <td>2021.767687</td>\n",
       "    </tr>\n",
       "    <tr>\n",
       "      <th>10</th>\n",
       "      <td>2021-09-24T08:06:31.968000</td>\n",
       "      <td>f5</td>\n",
       "      <td>manual_wfs_0011.fits</td>\n",
       "      <td>30.0</td>\n",
       "      <td>1.3307</td>\n",
       "      <td>197.872283</td>\n",
       "      <td>48.718174</td>\n",
       "      <td>10.50</td>\n",
       "      <td>10.0</td>\n",
       "      <td>10.268</td>\n",
       "      <td>...</td>\n",
       "      <td>28.52</td>\n",
       "      <td>0.000</td>\n",
       "      <td>0.245</td>\n",
       "      <td>252.991586</td>\n",
       "      <td>267.013773</td>\n",
       "      <td>1.945403</td>\n",
       "      <td>2.309179</td>\n",
       "      <td>12.065270</td>\n",
       "      <td>863.995883</td>\n",
       "      <td>2145.809798</td>\n",
       "    </tr>\n",
       "  </tbody>\n",
       "</table>\n",
       "<p>6003 rows × 25 columns</p>\n",
       "</div>"
      ],
      "text/plain": [
       "                          time wfs                  file  exptime  airmass  \\\n",
       "0   2021-07-09T03:49:41.664000  f5  manual_wfs_0003.fits     30.0   1.3464   \n",
       "1   2021-07-09T03:51:57.312000  f5  manual_wfs_0004.fits     30.0   1.3428   \n",
       "2   2021-07-09T03:53:07.296000  f5  manual_wfs_0005.fits     30.0   1.3409   \n",
       "3   2021-07-09T05:38:01.536000  f5  manual_wfs_0006.fits     30.0   1.3474   \n",
       "4   2021-07-09T05:39:07.200000  f5  manual_wfs_0007.fits     30.0   1.3514   \n",
       "..                         ...  ..                   ...      ...      ...   \n",
       "4   2021-09-24T05:14:25.440000  f5  manual_wfs_0005.fits     30.0   1.3539   \n",
       "5   2021-09-24T06:54:01.728000  f5  manual_wfs_0006.fits     30.0   1.4862   \n",
       "7   2021-09-24T06:56:41.568000  f5  manual_wfs_0008.fits     30.0   1.4812   \n",
       "9   2021-09-24T08:05:11.616000  f5  manual_wfs_0010.fits     30.0   1.3290   \n",
       "10  2021-09-24T08:06:31.968000  f5  manual_wfs_0011.fits     30.0   1.3307   \n",
       "\n",
       "            az         el   osst  outt   chamt  ...  focerr  cc_x_err  \\\n",
       "0    21.369856  47.964011  20.50  19.4  19.657  ...   62.86     3.498   \n",
       "1    21.166652  48.136209  20.50  19.4  19.526  ...   -2.82     3.258   \n",
       "2    21.060715  48.224068  20.50  19.4  19.488  ...   -5.41     0.079   \n",
       "3   -52.870544  47.915517  18.75  19.1  19.004  ...  -27.95     0.000   \n",
       "4   -52.880576  47.730638  18.75  19.1  19.008  ...    0.00     0.507   \n",
       "..         ...        ...    ...   ...     ...  ...     ...       ...   \n",
       "4   190.335770  47.612642  13.50  10.2  11.589  ...   12.60     0.000   \n",
       "5   161.864465  42.287717  11.75  10.2  10.971  ...  -61.79    -3.080   \n",
       "7   162.711174  42.463198  11.75  10.2  10.556  ...   -4.14    -0.000   \n",
       "9   197.387544  48.802803  10.50  10.1  10.384  ... -104.13    -1.030   \n",
       "10  197.872283  48.718174  10.50  10.0  10.268  ...   28.52     0.000   \n",
       "\n",
       "    cc_y_err        xcen        ycen    seeing  raw_seeing       fwhm  \\\n",
       "0      0.646  224.984245  229.020206  1.386129    1.656945   9.247442   \n",
       "1      0.000  224.005489  229.017578  1.306314    1.559030   8.812942   \n",
       "2      0.000  224.991238  230.989590  1.400234    1.669700   9.303807   \n",
       "3      0.000  238.984719  260.999532  1.553921    1.858347  10.131208   \n",
       "4      0.765  240.983258  263.010108  1.291741    1.547554   8.761802   \n",
       "..       ...         ...         ...       ...         ...        ...   \n",
       "4     -0.000  246.997494  267.012600  2.571806    3.084538  15.271685   \n",
       "5      2.390  283.003854  292.996150  1.883255    2.388666  12.400498   \n",
       "7     -1.618  254.999786  270.982398  1.949167    2.467274  12.730443   \n",
       "9     -4.082  224.993728  278.997205  2.262932    2.684025  13.632484   \n",
       "10     0.245  252.991586  267.013773  1.945403    2.309179  12.065270   \n",
       "\n",
       "    wavefront_rms  residual_rms  \n",
       "0     1589.736972   1374.879344  \n",
       "1      631.489522   1275.735917  \n",
       "2      246.918167   1317.996774  \n",
       "3      860.297050   1442.421272  \n",
       "4      417.836115   1434.407469  \n",
       "..            ...           ...  \n",
       "4      419.587863   2501.880314  \n",
       "5     1607.680781   1881.524661  \n",
       "7      385.273987   2126.754583  \n",
       "9     2561.544667   2021.767687  \n",
       "10     863.995883   2145.809798  \n",
       "\n",
       "[6003 rows x 25 columns]"
      ]
     },
     "execution_count": 5,
     "metadata": {},
     "output_type": "execute_result"
    }
   ],
   "source": [
    "fixed.sort_values(by='time')"
   ]
  },
  {
   "cell_type": "code",
   "execution_count": 6,
   "metadata": {},
   "outputs": [],
   "source": [
    "# create a date-time index so we can group and analyze the data by timestamps\n",
    "fixed = fixed.set_index(pd.DatetimeIndex(fixed['time'], name='ut'))"
   ]
  },
  {
   "cell_type": "code",
   "execution_count": 7,
   "metadata": {},
   "outputs": [
    {
     "data": {
      "text/plain": [
       "<Figure size 576x360 with 0 Axes>"
      ]
     },
     "metadata": {},
     "output_type": "display_data"
    },
    {
     "data": {
      "image/png": "[encoded data removed]",
      "text/plain": [
       "<Figure size 432x288 with 1 Axes>"
      ]
     },
     "metadata": {
      "needs_background": "light"
     },
     "output_type": "display_data"
    }
   ],
   "source": [
    "# make raw histogram of the zenith-corrected seeing column\n",
    "fig = plt.figure(figsize=(8, 5))\n",
    "fixed.hist(column='seeing', bins=100, range=(0.0, 4.0), alpha=0.6)\n",
    "with plt.style.context('ggplot'):\n",
    "    plt.title(\"2021-07-01 through 2021-09-30\")\n",
    "    plt.xlabel(\"Seeing (arcsec)\")\n",
    "    plt.ylabel(\"N\")\n",
    "plt.show()"
   ]
  },
  {
   "cell_type": "code",
   "execution_count": 8,
   "metadata": {},
   "outputs": [
    {
     "name": "stdout",
     "output_type": "stream",
     "text": [
      "0.27031169500347496 0.06548221181977668 1.0279931772902229\n"
     ]
    }
   ],
   "source": [
    "# fit a log-normal distribution to the seeing data\n",
    "sigma, loc, exp_mu = lognorm.fit(fixed['seeing'])\n",
    "print(sigma, loc, exp_mu)\n",
    "x = np.arange(0.0, 4.0, 0.01)\n",
    "p = lognorm.pdf(x, sigma, loc=loc, scale=exp_mu)\n",
    "mu = np.log(exp_mu)\n",
    "mode = np.exp(mu - sigma**2) + loc\n",
    "median = np.nanmedian(fixed['seeing'])\n",
    "fit_median = exp_mu + loc"
   ]
  },
  {
   "cell_type": "code",
   "execution_count": 9,
   "metadata": {},
   "outputs": [
    {
     "data": {
      "image/png": "[encoded data removed]",
      "text/plain": [
       "<Figure size 576x360 with 1 Axes>"
      ]
     },
     "metadata": {
      "needs_background": "light"
     },
     "output_type": "display_data"
    }
   ],
   "source": [
    "# plot normalized histogram with the fit and the median/mode calculated from the fit.\n",
    "fig = plt.figure(figsize=(8, 5))\n",
    "with plt.style.context('ggplot'):\n",
    "    plt.hist(fixed['seeing'], density=True, bins=100, range=(0.0, 4.0), label=\"hist\", alpha=0.6)\n",
    "    logp = plt.plot(x, p, label=\"logp\")\n",
    "    plt.xlabel(\"Seeing (arcsec)\")\n",
    "    plt.ylabel(\"Number Density\")\n",
    "    plt.title(\"2021-07-01 through 2021-09-30\")\n",
    "    plt.legend([\"median=%.2f\\\", mode=%.2f\\\"\" % (fit_median, mode), \"median=%.2f\\\"\" % (\n",
    "        median\n",
    "    )])\n",
    "    plt.savefig(\"2021q3_hist.png\")\n",
    "plt.show()"
   ]
  },
  {
   "cell_type": "code",
   "execution_count": 17,
   "metadata": {},
   "outputs": [
    {
     "data": {
      "image/png": "[encoded data removed]",
      "text/plain": [
       "<Figure size 576x360 with 1 Axes>"
      ]
     },
     "metadata": {
      "needs_background": "light"
     },
     "output_type": "display_data"
    }
   ],
   "source": [
    "# panda time indexing makes it easy to group by month\n",
    "fig = plt.figure(figsize=(8, 5))\n",
    "months = {}\n",
    "legends = []\n",
    "months['July'] = fixed.loc['2021-07']\n",
    "#months['August'] = fixed.loc['2021-08']\n",
    "months['September'] = fixed.loc['2021-09']\n",
    "for m in months:\n",
    "    plt.hist(months[m]['seeing'], bins=100, range=(0.0, 4.0), label=m, alpha=0.6)\n",
    "    legend = \"%s: %.2f\\\"\" % (m, np.median(months[m]['seeing']))\n",
    "    legends.append(legend)\n",
    "plt.legend(legends)\n",
    "plt.xlabel(\"Seeing (arcsec)\")\n",
    "plt.ylabel(\"N\")\n",
    "#plt.title(\"Data and median seeing values grouped by month\")\n",
    "plt.savefig(\"2021q3_monthly.png\")\n",
    "plt.show()"
   ]
  },
  {
   "cell_type": "code",
   "execution_count": 18,
   "metadata": {},
   "outputs": [
    {
     "data": {
      "text/plain": [
       "(13, 5990)"
      ]
     },
     "execution_count": 18,
     "metadata": {},
     "output_type": "execute_result"
    }
   ],
   "source": [
    "len(months['July']), len(months['September'])"
   ]
  },
  {
   "cell_type": "code",
   "execution_count": 20,
   "metadata": {},
   "outputs": [],
   "source": [
    "# now use the between_time() method to split the data into first and second halves of the night.\n",
    "first_half = fixed.between_time(start_time='00:00', end_time='07:00')\n",
    "second_half = fixed.between_time(start_time='07:00', end_time='14:00')\n",
    "#first_half = months['December'].between_time(start_time='00:00', end_time='07:00')\n",
    "#second_half = months['December'].between_time(start_time='07:00', end_time='14:00')\n",
    "med_1st = np.median(first_half['seeing'])\n",
    "med_2nd = np.median(second_half['seeing'])"
   ]
  },
  {
   "cell_type": "code",
   "execution_count": 21,
   "metadata": {},
   "outputs": [
    {
     "data": {
      "image/png": "[encoded data removed]",
      "text/plain": [
       "<Figure size 576x360 with 1 Axes>"
      ]
     },
     "metadata": {
      "needs_background": "light"
     },
     "output_type": "display_data"
    }
   ],
   "source": [
    "# plot the results and show that the seeing is better later in the night...\n",
    "fig = plt.figure(figsize=(8, 5))\n",
    "plt.hist(first_half['seeing'], bins=100, range=(0.0, 4.0), label=\"1st\", alpha=0.6)\n",
    "plt.hist(second_half['seeing'], bins=100, range=(0.0, 4.0), label=\"2nd\", alpha=0.6)\n",
    "plt.legend([\"1st Half: %.2f\\\"\" % med_1st, \"2nd Half: %.2f\\\"\" % med_2nd])\n",
    "plt.xlabel(\"Seeing (arcsec)\")\n",
    "plt.ylabel(\"N\")\n",
    "#plt.title(\"Data and median seeing values grouped by half of the night\")\n",
    "plt.savefig(\"2021q3_1st2nd.png\")\n",
    "plt.show()"
   ]
  },
  {
   "cell_type": "code",
   "execution_count": 22,
   "metadata": {},
   "outputs": [
    {
     "data": {
      "image/png": "[encoded data removed]",
      "text/plain": [
       "<Figure size 432x288 with 1 Axes>"
      ]
     },
     "metadata": {
      "needs_background": "light"
     },
     "output_type": "display_data"
    }
   ],
   "source": [
    "import matplotlib.dates as mdates\n",
    "\n",
    "# make a new data frame that resamples the WFS data daily into the median, min, and max seeing for each day.\n",
    "#fixed = fixed[\"2018-06-30\":\"2018-10-01\"]\n",
    "fig, ax = plt.subplots()\n",
    "daily = pd.DataFrame()\n",
    "daily['seeing'] = fixed.seeing.resample('D').median()\n",
    "daily['max'] = fixed.seeing.resample('D').max()\n",
    "daily['min'] = fixed.seeing.resample('D').min()\n",
    "lowb = daily['seeing'] - daily['min']\n",
    "upb = daily['max'] - daily['seeing']\n",
    "plt.errorbar(daily.index, daily['seeing'], yerr=[lowb, upb], fmt='o')\n",
    "ax.xaxis.set_major_locator(mdates.MonthLocator())\n",
    "ax.xaxis.set_major_formatter(mdates.DateFormatter(\"%m-%d-%Y\"))\n",
    "fig.autofmt_xdate()\n",
    "plt.ylabel(\"Seeing (arcsec)\")\n",
    "#plt.title(\"Nightly median seeing\")\n",
    "plt.savefig(\"2021q3_nightly.png\")\n",
    "plt.show()"
   ]
  },
  {
   "cell_type": "code",
   "execution_count": 23,
   "metadata": {},
   "outputs": [],
   "source": [
    "date_list = list(daily.index.strftime('%Y-%m-%d'))\n",
    "data = [np.array(fixed.loc[date]['seeing']) for date in date_list]\n",
    "clean_data = {}\n",
    "for d, arr in zip(date_list, data):\n",
    "    if len(arr) > 0:\n",
    "        clean_data[d] = arr\n",
    "date_labels = [datetime.strptime(d, \"%Y-%m-%d\").date() for d in clean_data.keys()]"
   ]
  },
  {
   "cell_type": "code",
   "execution_count": 24,
   "metadata": {},
   "outputs": [
    {
     "data": {
      "image/png": "[encoded data removed]",
      "text/plain": [
       "<Figure size 1100x500 with 1 Axes>"
      ]
     },
     "metadata": {},
     "output_type": "display_data"
    }
   ],
   "source": [
    "with plt.style.context('ggplot', after_reset=True):\n",
    "    fig, ax = plt.subplots(figsize=(11,5))\n",
    "    plt.violinplot(clean_data.values(), mdates.date2num(date_labels), points=50, widths=1.5,\n",
    "                showextrema=False, showmedians=True, bw_method='silverman')\n",
    "\n",
    "    ax.xaxis.set_major_locator(mdates.MonthLocator())\n",
    "    ax.xaxis.set_major_formatter(mdates.DateFormatter(\"%m-%d-%Y\"))\n",
    "    fig.autofmt_xdate()\n",
    "    plt.ylabel(\"Seeing (arcsec)\")\n",
    "    plt.savefig(\"2021q3_violin.png\")\n",
    "    plt.show()"
   ]
  },
  {
   "cell_type": "code",
   "execution_count": 25,
   "metadata": {},
   "outputs": [
    {
     "data": {
      "image/png": "[encoded data removed]",
      "text/plain": [
       "<Figure size 576x360 with 1 Axes>"
      ]
     },
     "metadata": {},
     "output_type": "display_data"
    }
   ],
   "source": [
    "with plt.style.context('ggplot'):\n",
    "    fig = plt.figure(figsize=(8, 5))\n",
    "    medb = np.median(fixed['seeing'][fixed['wfs'] == 'binospec'])\n",
    "    medm = np.median(fixed['seeing'][fixed['wfs'] == 'mmirs'])\n",
    "    plt.hist(fixed['seeing'][fixed['wfs'] == 'binospec'], bins=100, range=(0.0, 4.), alpha=0.6, label=f\"Binospec: {medb: .2f}\\\"\")\n",
    "    plt.hist(fixed['seeing'][fixed['wfs'] == 'mmirs'], bins=100, range=(0.0, 4.), alpha=0.6, label=f\"MMIRS: {medm: .2f}\\\"\")\n",
    "    plt.legend()\n",
    "    plt.title(\"Binospec vs MMIRS\")\n",
    "    plt.xlabel(\"Spot FWHM (arcsec)\")\n",
    "    plt.ylabel(\"N\")\n",
    "plt.savefig(\"bino_vs_mmirs_2021q3.png\")\n",
    "plt.show()"
   ]
  }
 ],
 "metadata": {
  "interpreter": {
   "hash": "d082fdf18415857dde13136b85fe7867195382dc645e0a12b652d713cd401c47"
  },
  "kernelspec": {
   "display_name": "Python 3.8.11 64-bit ('py38': conda)",
   "name": "python3"
  },
  "language_info": {
   "codemirror_mode": {
    "name": "ipython",
    "version": 3
   },
   "file_extension": ".py",
   "mimetype": "text/x-python",
   "name": "python",
   "nbconvert_exporter": "python",
   "pygments_lexer": "ipython3",
   "version": "3.8.11"
  }
 },
 "nbformat": 4,
 "nbformat_minor": 4
}
