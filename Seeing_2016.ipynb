{
 "cells": [
  {
   "cell_type": "code",
   "execution_count": null,
   "metadata": {},
   "outputs": [],
   "source": [
    "from datetime import datetime\n",
    "\n",
    "from pathlib import Path\n",
    "\n",
    "import numpy as np\n",
    "from scipy.stats import lognorm\n",
    "import pandas as pd\n",
    "\n",
    "from astropy import stats\n",
    "import astropy.units as u\n",
    "from astropy.io import fits\n",
    "from astropy.visualization import hist\n",
    "\n",
    "from matplotlib import style\n",
    "style.use('ggplot')\n",
    "import matplotlib.pyplot as plt\n",
    "\n",
    "%load_ext autoreload\n",
    "%autoreload 2\n",
    "#%matplotlib widget"
   ]
  },
  {
   "cell_type": "code",
   "execution_count": null,
   "metadata": {},
   "outputs": [],
   "source": [
    "YEAR = 2016\n",
    "rootdir = Path(\"./data\")\n",
    "# use find to make this csv list\n",
    "with open(rootdir / f\"reanalyze_csvs_{YEAR}.txt\") as f:\n",
    "    csvs = f.readlines()\n",
    "\n",
    "# loop through the csv files and read them with pandas\n",
    "frames = []\n",
    "for csv in csvs:\n",
    "    frames.append(pd.read_csv(rootdir / csv.rstrip()))\n",
    "\n",
    "# now concat each frame into one big frame containing all of the data\n",
    "data = pd.concat(frames)"
   ]
  },
  {
   "cell_type": "code",
   "execution_count": null,
   "metadata": {},
   "outputs": [],
   "source": [
    "g = data.groupby('wfs')\n",
    "g.wfs.describe()"
   ]
  },
  {
   "cell_type": "code",
   "execution_count": null,
   "metadata": {},
   "outputs": [],
   "source": [
    "# re-calculate the seeing using updated spot FWHM for binospec. filter out any NaN values...\n",
    "#fixed_list = []\n",
    "#for wfskey, group in g:\n",
    "#    wfs = wfs_systems[wfskey]\n",
    "#    group = g.get_group(wfskey)\n",
    "#    #group.apply(seeing, axis=1, args=(wfs,))\n",
    "#    group['fixed_raw_seeing'], group['fixed_seeing'] = seeing(group, wfs)\n",
    "#    fixed_list.append(group)\n",
    "#fixed = pd.concat(fixed_list)\n",
    "#fixed.rename(index=str, columns={\"seeing\": \"orig_seeing\", \"raw seeing\": \"orig_raw_seeing\"}, inplace=True)\n",
    "#fixed.rename(index=str, columns={\"fixed_seeing\": \"seeing\", \"fixed_raw_seeing\": \"raw seeing\"}, inplace=True)\n",
    "fixed = data[np.isfinite(data['seeing'])]\n",
    "fixed = fixed[np.isfinite(data['vlt_seeing'])]\n",
    "fixed = fixed[fixed['fwhm'] > 0.]\n",
    "fixed = fixed[fixed['seeing'] > 0.]\n",
    "fixed = fixed[fixed['seeing'] < 4.]\n",
    "#fixed = fixed[fixed['time'] < \"2020-12-31\"]"
   ]
  },
  {
   "cell_type": "code",
   "execution_count": null,
   "metadata": {},
   "outputs": [],
   "source": [
    "fixed.sort_values(by='time')"
   ]
  },
  {
   "cell_type": "code",
   "execution_count": null,
   "metadata": {},
   "outputs": [],
   "source": [
    "# create a date-time index so we can group and analyze the data by timestamps\n",
    "fixed = fixed.set_index(pd.DatetimeIndex(fixed['time'], name='ut'))\n",
    "fixed = fixed[(fixed.index >= f\"{YEAR}-01-01\") & (fixed.index < f\"{YEAR+1}-01-01\")]"
   ]
  },
  {
   "cell_type": "code",
   "execution_count": null,
   "metadata": {},
   "outputs": [],
   "source": [
    "# make raw histogram of the zenith-corrected seeing column\n",
    "fig = plt.figure(figsize=(8, 5))\n",
    "fixed.hist(column='vlt_seeing', bins=100, range=(0.0, 4.0), alpha=0.6)\n",
    "with plt.style.context('ggplot'):\n",
    "    plt.title(f\"{YEAR}-01-01 through {YEAR}-12-31\")\n",
    "    plt.xlabel(\"Seeing (arcsec)\")\n",
    "    plt.ylabel(\"N\")\n",
    "plt.show()"
   ]
  },
  {
   "cell_type": "code",
   "execution_count": null,
   "metadata": {},
   "outputs": [],
   "source": [
    "# fit a log-normal distribution to the seeing data\n",
    "sigma, loc, exp_mu = lognorm.fit(fixed['vlt_seeing'])\n",
    "print(sigma, loc, exp_mu)\n",
    "x = np.arange(0.0, 4.0, 0.01)\n",
    "p = lognorm.pdf(x, sigma, loc=loc, scale=exp_mu)\n",
    "mu = np.log(exp_mu)\n",
    "mode = np.exp(mu - sigma**2) + loc\n",
    "median = np.nanmedian(fixed['vlt_seeing'])\n",
    "fit_median = exp_mu + loc"
   ]
  },
  {
   "cell_type": "code",
   "execution_count": null,
   "metadata": {},
   "outputs": [],
   "source": [
    "# plot normalized histogram with the fit and the median/mode calculated from the fit.\n",
    "fig = plt.figure(figsize=(8, 5))\n",
    "with plt.style.context('ggplot'):\n",
    "    plt.hist(fixed['vlt_seeing'], density=True, bins=100, range=(0.0, 4.0), label=\"hist\", alpha=0.6)\n",
    "    logp = plt.plot(x, p, label=\"logp\")\n",
    "    plt.xlabel(\"Seeing (arcsec)\")\n",
    "    plt.ylabel(\"Number Density\")\n",
    "    plt.title(f\"{YEAR}-01-01 through {YEAR}-12-31\")\n",
    "    plt.legend([\"median=%.2f\\\", mode=%.2f\\\"\" % (fit_median, mode), \"median=%.2f\\\"\" % (\n",
    "        median\n",
    "    )])\n",
    "    plt.savefig(f\"{YEAR}_allyear.png\")\n",
    "plt.show()"
   ]
  },
  {
   "cell_type": "code",
   "execution_count": null,
   "metadata": {},
   "outputs": [],
   "source": [
    "# panda time indexing makes it easy to group by month\n",
    "fig = plt.figure(figsize=(8, 5))\n",
    "months = {}\n",
    "legends = []\n",
    "months[\"January\"] = fixed.loc[f\"{YEAR}-01\"]\n",
    "months[\"February\"] = fixed.loc[f\"{YEAR}-02\"]\n",
    "months[\"March\"] = fixed.loc[f\"{YEAR}-03\"]\n",
    "months[\"April\"] = fixed.loc[f\"{YEAR}-04\"]\n",
    "months[\"May\"] = fixed.loc[f\"{YEAR}-05\"]\n",
    "months[\"June\"] = fixed.loc[f\"{YEAR}-06\"]\n",
    "months[\"July\"] = fixed.loc[f\"{YEAR}-07\"]\n",
    "months[\"August\"] = fixed.loc[f\"{YEAR}-08\"]\n",
    "months[\"September\"] = fixed.loc[f\"{YEAR}-09\"]\n",
    "months[\"October\"] = fixed.loc[f\"{YEAR}-10\"]\n",
    "months[\"November\"] = fixed.loc[f\"{YEAR}-11\"]\n",
    "months[\"December\"] = fixed.loc[f\"{YEAR}-12\"]\n",
    "for m in months:\n",
    "    plt.hist(months[m][\"vlt_seeing\"], bins=100, range=(0.0, 4.0), label=m, alpha=0.6)\n",
    "    legend = \"%s: %.2f\\\"\" % (m, np.median(months[m][\"vlt_seeing\"]))\n",
    "    legends.append(legend)\n",
    "plt.legend(legends)\n",
    "plt.xlabel(\"Seeing (arcsec)\")\n",
    "plt.ylabel(\"N\")\n",
    "#plt.title(\"Data and median seeing values grouped by month\")\n",
    "plt.savefig(f\"{YEAR}_monthly.png\")\n",
    "plt.show()"
   ]
  },
  {
   "cell_type": "code",
   "execution_count": null,
   "metadata": {},
   "outputs": [],
   "source": [
    "# now use the between_time() method to split the data into first and second halves of the night.\n",
    "first_half = fixed.between_time(start_time='00:00', end_time='07:00')\n",
    "second_half = fixed.between_time(start_time='07:00', end_time='14:00')\n",
    "#first_half = months['December'].between_time(start_time='00:00', end_time='07:00')\n",
    "#second_half = months['December'].between_time(start_time='07:00', end_time='14:00')\n",
    "med_1st = np.median(first_half['vlt_seeing'])\n",
    "med_2nd = np.median(second_half['vlt_seeing'])"
   ]
  },
  {
   "cell_type": "code",
   "execution_count": null,
   "metadata": {},
   "outputs": [],
   "source": [
    "# plot the results and show that the seeing is better later in the night...\n",
    "fig = plt.figure(figsize=(8, 5))\n",
    "plt.hist(first_half['vlt_seeing'], bins=100, range=(0.0, 4.0), label=\"1st\", alpha=0.6)\n",
    "plt.hist(second_half['vlt_seeing'], bins=100, range=(0.0, 4.0), label=\"2nd\", alpha=0.6)\n",
    "plt.legend([\"1st Half: %.2f\\\"\" % med_1st, \"2nd Half: %.2f\\\"\" % med_2nd])\n",
    "plt.xlabel(\"Seeing (arcsec)\")\n",
    "plt.ylabel(\"N\")\n",
    "#plt.title(\"Data and median seeing values grouped by half of the night\")\n",
    "plt.savefig(f\"{YEAR}_1st2nd.png\")\n",
    "plt.show()"
   ]
  },
  {
   "cell_type": "code",
   "execution_count": null,
   "metadata": {},
   "outputs": [],
   "source": [
    "import matplotlib.dates as mdates\n",
    "\n",
    "# make a new data frame that resamples the WFS data daily into the median, min, and max seeing for each day.\n",
    "fig, ax = plt.subplots()\n",
    "daily = pd.DataFrame()\n",
    "daily['seeing'] = fixed.vlt_seeing.resample('D').median()\n",
    "daily['max'] = fixed.vlt_seeing.resample('D').max()\n",
    "daily['min'] = fixed.vlt_seeing.resample('D').min()\n",
    "lowb = daily['seeing'] - daily['min']\n",
    "upb = daily['max'] - daily['seeing']\n",
    "plt.errorbar(daily.index, daily['seeing'], yerr=[lowb, upb], fmt='o')\n",
    "ax.xaxis.set_major_locator(mdates.MonthLocator())\n",
    "ax.xaxis.set_major_formatter(mdates.DateFormatter(\"%m-%d-%Y\"))\n",
    "ax.set_ylim(0.0, 3.5)\n",
    "fig.autofmt_xdate()\n",
    "plt.tight_layout()\n",
    "plt.ylabel(\"Seeing (arcsec)\")\n",
    "#plt.title(\"Nightly median seeing\")\n",
    "plt.savefig(f\"{YEAR}_nightly.png\")\n",
    "plt.show()"
   ]
  },
  {
   "cell_type": "code",
   "execution_count": null,
   "metadata": {},
   "outputs": [],
   "source": [
    "date_list = list(daily.index.strftime('%Y-%m-%d'))\n",
    "data = [np.array(fixed.loc[date]['vlt_seeing']) for date in date_list]\n",
    "ellipticity_data = [np.array(fixed.loc[date]['ellipticity']) for date in date_list]\n",
    "clean_data = {}\n",
    "clean_ellipticity = {}\n",
    "for d, arr in zip(date_list, data):\n",
    "    if len(arr) > 0:\n",
    "        clean_data[d] = arr\n",
    "for d, arr in zip(date_list, ellipticity_data):\n",
    "    if len(arr) > 0:\n",
    "        clean_ellipticity[d] = arr\n",
    "date_labels = [datetime.strptime(d, \"%Y-%m-%d\").date() for d in clean_data.keys()]"
   ]
  },
  {
   "cell_type": "code",
   "execution_count": null,
   "metadata": {},
   "outputs": [],
   "source": [
    "with plt.style.context('ggplot', after_reset=True):\n",
    "    fig, ax = plt.subplots(figsize=(11,5))\n",
    "    plt.violinplot(clean_data.values(), mdates.date2num(date_labels), points=50, widths=1.5,\n",
    "                showextrema=False, showmedians=True, bw_method='silverman')\n",
    "\n",
    "    ax.xaxis.set_major_locator(mdates.MonthLocator())\n",
    "    ax.xaxis.set_major_formatter(mdates.DateFormatter(\"%m-%d-%Y\"))\n",
    "    fig.autofmt_xdate()\n",
    "    ax.set_ylim(0.0, 2.5)\n",
    "    plt.ylabel(\"Seeing (arcsec)\")\n",
    "    plt.savefig(f\"{YEAR}_violin.png\")\n",
    "    plt.show()"
   ]
  },
  {
   "cell_type": "code",
   "execution_count": null,
   "metadata": {},
   "outputs": [],
   "source": [
    "with plt.style.context('ggplot', after_reset=True):\n",
    "    fig, ax = plt.subplots(figsize=(11,5))\n",
    "    plt.violinplot(clean_ellipticity.values(), mdates.date2num(date_labels), points=50, widths=1.5,\n",
    "                showextrema=False, showmedians=True, bw_method='silverman')\n",
    "\n",
    "    ax.xaxis.set_major_locator(mdates.MonthLocator())\n",
    "    ax.xaxis.set_major_formatter(mdates.DateFormatter(\"%m-%d-%Y\"))\n",
    "    fig.autofmt_xdate()\n",
    "    plt.ylabel(\"Ellipticity\")\n",
    "    plt.savefig(f\"{YEAR}_ellip_violin.png\")\n",
    "    plt.show()"
   ]
  },
  {
   "cell_type": "code",
   "execution_count": null,
   "metadata": {},
   "outputs": [],
   "source": [
    "months = sorted(list(set(daily.index.strftime('%Y-%m'))))\n",
    "mdata = [np.array(fixed.loc[month]['vlt_seeing']) for month in months]\n",
    "clean_data = {}\n",
    "for d, arr in zip(months, mdata):\n",
    "    if len(arr) > 0:\n",
    "        clean_data[d] = arr\n",
    "date_labels = [datetime.strptime(d, \"%Y-%m\").date() for d in clean_data.keys()]\n",
    "\n",
    "with plt.style.context('ggplot', after_reset=True):\n",
    "    fig, ax = plt.subplots(figsize=(11,5))\n",
    "    plt.violinplot(clean_data.values(), mdates.date2num(date_labels), points=100, widths=15,\n",
    "                showextrema=False, showmedians=True, bw_method='silverman')\n",
    "\n",
    "    ax.xaxis.set_major_locator(mdates.MonthLocator())\n",
    "    ax.xaxis.set_major_formatter(mdates.DateFormatter(\"%b\"))\n",
    "    ax.set_ylim(0.0, 3.5)\n",
    "    fig.autofmt_xdate()\n",
    "    plt.ylabel(\"Seeing (arcsec)\")\n",
    "    plt.savefig(f\"{YEAR}_violin_monthly.png\")\n",
    "    plt.title(f\"{YEAR} Monthly WFS Seeing Statistics\")\n",
    "    plt.show()"
   ]
  },
  {
   "cell_type": "code",
   "execution_count": null,
   "metadata": {},
   "outputs": [],
   "source": [
    "with plt.style.context('ggplot'):\n",
    "    fig = plt.figure(figsize=(8, 5))\n",
    "    medo9 = np.median(fixed['vlt_seeing'][fixed['wfs'] == 'oldf9'])\n",
    "    medf = np.median(fixed['vlt_seeing'][fixed['wfs'] == 'f5'])\n",
    "    medm = np.median(fixed['vlt_seeing'][fixed['wfs'] == 'mmirs'])\n",
    "    plt.hist(fixed['vlt_seeing'][fixed['wfs'] == 'oldf9'], density=True, bins=100, range=(0.0, 4.), alpha=0.6, label=f\"F/9: {medo9: .2f}\\\"\")\n",
    "    plt.hist(fixed['vlt_seeing'][fixed['wfs'] == 'f5'], density=True, bins=100, range=(0.0, 4.), alpha=0.6, label=f\"Hecto: {medf: .2f}\\\"\")\n",
    "    plt.hist(fixed['vlt_seeing'][fixed['wfs'] == 'mmirs'], density=True, bins=100, range=(0.0, 4.), alpha=0.6, label=f\"MMIRS: {medm: .2f}\\\"\")\n",
    "    plt.legend()\n",
    "    plt.title(\"Seeing by Instrument\")\n",
    "    plt.xlabel(\"Seeing (arcsec)\")\n",
    "    plt.ylabel(\"Probability Density\")\n",
    "plt.savefig(f\"per_instrument_{YEAR}.png\")\n",
    "plt.show()"
   ]
  },
  {
   "cell_type": "code",
   "execution_count": null,
   "metadata": {},
   "outputs": [],
   "source": [
    "oldf9 = fixed[fixed['wfs'] == 'oldf9']\n",
    "hecto = fixed[fixed['wfs'] == 'f5']\n",
    "mmirs = fixed[fixed['wfs'] == 'mmirs']"
   ]
  },
  {
   "cell_type": "code",
   "execution_count": null,
   "metadata": {},
   "outputs": [],
   "source": [
    "oldf9_dates = sorted(list(set(oldf9.index.strftime('%Y-%m-%d'))))\n",
    "hecto_dates = sorted(list(set(hecto.index.strftime('%Y-%m-%d'))))\n",
    "mmirs_dates = sorted(list(set(mmirs.index.strftime('%Y-%m-%d'))))\n",
    "hecto_dates, oldf9_dates, mmirs_dates"
   ]
  },
  {
   "cell_type": "code",
   "execution_count": null,
   "metadata": {},
   "outputs": [],
   "source": [
    "plt.hist(fixed['ellipticity'], bins=100, range=(0.0, 1.0), alpha=0.6, label=f\"Median: {np.median(fixed['ellipticity']):.2f}\")\n",
    "plt.xlabel(\"Ellipticity\")\n",
    "plt.ylabel(\"N\")\n",
    "plt.legend()\n",
    "plt.savefig(f\"ellipticity_{YEAR}.png\")\n",
    "plt.show()\n"
   ]
  },
  {
   "cell_type": "code",
   "execution_count": null,
   "metadata": {},
   "outputs": [],
   "source": [
    "with plt.style.context('ggplot', after_reset=False):\n",
    "    fig, ax = plt.subplots(3, 1, figsize=(8, 8), sharex=True, sharey=True)\n",
    "    ax = ax.flat\n",
    "    fig.subplots_adjust(hspace=0)\n",
    "\n",
    "    bin_type = \"knuth\"\n",
    "\n",
    "    hist(hecto['ellipticity'], bins=bin_type, ax=ax[0], histtype='stepfilled', alpha=0.6, density=True)\n",
    "    ax[0].legend([f\"Hecto: {np.median(hecto['ellipticity']):.2f}\"])\n",
    "    ax[0].set_xlim(0, 1)\n",
    "\n",
    "    hist(oldf9['ellipticity'], bins=bin_type, ax=ax[1], histtype='stepfilled', alpha=0.6, density=True, label=f\"F/9: {np.median(oldf9['ellipticity']):.2f}\")\n",
    "    ax[1].legend()\n",
    "    ax[1].set_xlim(0, 1)\n",
    "    ax[1].set_xlabel(\"Ellipticity\")\n",
    "    ax[1].set_ylabel(\"Probaility Density\")\n",
    "\n",
    "    hist(mmirs['ellipticity'], bins=bin_type, ax=ax[2], histtype='stepfilled', alpha=0.6, density=True)\n",
    "    ax[2].legend([f\"MMIRS: {np.median(mmirs['ellipticity']):.2f}\"])\n",
    "    ax[2].set_xlim(0, 1)\n",
    "    ax[2].set_xlabel(\"Ellipticity\")\n",
    "\n",
    "    plt.tight_layout()\n",
    "    plt.savefig(f\"{YEAR}_ellip_vs_inst.png\")\n",
    "    plt.show()"
   ]
  },
  {
   "cell_type": "code",
   "execution_count": null,
   "metadata": {},
   "outputs": [],
   "source": [
    "plt.hist(fixed['exptime'], bins=100, range=(0.0, 120.0), alpha=0.6)\n",
    "plt.xlabel(\"Exposure Time (s)\")\n",
    "plt.ylabel(\"N\")\n",
    "plt.savefig(f\"exptime_{YEAR}.png\")\n",
    "plt.show()"
   ]
  },
  {
   "cell_type": "code",
   "execution_count": null,
   "metadata": {},
   "outputs": [],
   "source": []
  }
 ],
 "metadata": {
  "kernelspec": {
   "display_name": "mmtwfs",
   "language": "python",
   "name": "python3"
  },
  "language_info": {
   "codemirror_mode": {
    "name": "ipython",
    "version": 3
   },
   "file_extension": ".py",
   "mimetype": "text/x-python",
   "name": "python",
   "nbconvert_exporter": "python",
   "pygments_lexer": "ipython3",
   "version": "3.13.5"
  }
 },
 "nbformat": 4,
 "nbformat_minor": 4
}
