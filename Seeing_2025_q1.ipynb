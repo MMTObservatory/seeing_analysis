{
 "cells": [
  {
   "cell_type": "code",
   "execution_count": null,
   "metadata": {},
   "outputs": [],
   "source": [
    "from datetime import datetime\n",
    "\n",
    "from pathlib import Path\n",
    "\n",
    "import numpy as np\n",
    "from scipy.stats import lognorm\n",
    "import pandas as pd\n",
    "\n",
    "from astropy import stats\n",
    "import astropy.units as u\n",
    "from astropy.io import fits\n",
    "from astropy.visualization import hist\n",
    "\n",
    "from matplotlib import style\n",
    "import matplotlib.colors as mcolors\n",
    "style.use('ggplot')\n",
    "import matplotlib.pyplot as plt\n",
    "\n",
    "%load_ext autoreload\n",
    "%autoreload 2\n",
    "#%matplotlib widget"
   ]
  },
  {
   "cell_type": "code",
   "execution_count": null,
   "metadata": {},
   "outputs": [],
   "source": [
    "rootdir = Path(\"./data\")\n",
    "# use find to make this csv list\n",
    "with open(rootdir / \"reanalyze_csvs_2025q1.txt\") as f:\n",
    "    csvs = f.readlines()\n",
    "\n",
    "# loop through the csv files and read them with pandas\n",
    "frames = []\n",
    "for csv in csvs:\n",
    "    frames.append(pd.read_csv(rootdir / csv.rstrip()))\n",
    "\n",
    "# now concat each frame into one big frame containing all of the data\n",
    "data = pd.concat(frames)"
   ]
  },
  {
   "cell_type": "code",
   "execution_count": null,
   "metadata": {},
   "outputs": [],
   "source": [
    "g = data.groupby('wfs')\n",
    "g.wfs.describe()"
   ]
  },
  {
   "cell_type": "code",
   "execution_count": null,
   "metadata": {},
   "outputs": [],
   "source": [
    "# re-calculate the seeing using updated spot FWHM for binospec. filter out any NaN values...\n",
    "#fixed_list = []\n",
    "#for wfskey, group in g:\n",
    "#    wfs = wfs_systems[wfskey]\n",
    "#    group = g.get_group(wfskey)\n",
    "#    #group.apply(seeing, axis=1, args=(wfs,))\n",
    "#    group['fixed_raw_seeing'], group['fixed_seeing'] = seeing(group, wfs)\n",
    "#    fixed_list.append(group)\n",
    "#fixed = pd.concat(fixed_list)\n",
    "#fixed.rename(index=str, columns={\"seeing\": \"orig_seeing\", \"raw seeing\": \"orig_raw_seeing\"}, inplace=True)\n",
    "#fixed.rename(index=str, columns={\"fixed_seeing\": \"seeing\", \"fixed_raw_seeing\": \"raw seeing\"}, inplace=True)\n",
    "fixed = data[np.isfinite(data['seeing'])]\n",
    "fixed = fixed[fixed['fwhm'] > 0.]\n",
    "fixed = fixed[fixed['seeing'] > 0.]\n",
    "fixed = fixed[fixed['seeing'] < 4.]\n",
    "#fixed = fixed[fixed['time'] < \"2020-12-31\"]"
   ]
  },
  {
   "cell_type": "code",
   "execution_count": null,
   "metadata": {},
   "outputs": [],
   "source": [
    "fixed.sort_values(by='time')"
   ]
  },
  {
   "cell_type": "code",
   "execution_count": null,
   "metadata": {},
   "outputs": [],
   "source": [
    "# create a date-time index so we can group and analyze the data by timestamps\n",
    "fixed = fixed.set_index(pd.DatetimeIndex(fixed['time'], name='ut'))"
   ]
  },
  {
   "cell_type": "code",
   "execution_count": null,
   "metadata": {},
   "outputs": [],
   "source": [
    "# make raw histogram of the zenith-corrected seeing column\n",
    "fig = plt.figure(figsize=(8, 5))\n",
    "plt.hist(fixed['vlt_seeing'], bins=100, range=(0.0, 4.0), alpha=0.6, label=\"New method\")\n",
    "plt.hist(fixed['seeing'], bins=100, range=(0.0, 4.0), alpha=0.6, label=\"Old method\")\n",
    "with plt.style.context('ggplot'):\n",
    "    plt.title(\"2025-01-01 through 2025-03-31\")\n",
    "    plt.xlabel(\"Seeing (arcsec)\")\n",
    "    plt.ylabel(\"N\")\n",
    "plt.legend()\n",
    "plt.show()"
   ]
  },
  {
   "cell_type": "code",
   "execution_count": null,
   "metadata": {},
   "outputs": [],
   "source": [
    "# fit a log-normal distribution to the seeing data\n",
    "sigma, loc, exp_mu = lognorm.fit(fixed['vlt_seeing'])\n",
    "print(sigma, loc, exp_mu)\n",
    "x = np.arange(0.0, 4.0, 0.01)\n",
    "p = lognorm.pdf(x, sigma, loc=loc, scale=exp_mu)\n",
    "mu = np.log(exp_mu)\n",
    "mode = np.exp(mu - sigma**2) + loc\n",
    "median = np.nanmedian(fixed['vlt_seeing'])\n",
    "fit_median = exp_mu + loc"
   ]
  },
  {
   "cell_type": "code",
   "execution_count": null,
   "metadata": {},
   "outputs": [],
   "source": [
    "# plot normalized histogram with the fit and the median/mode calculated from the fit.\n",
    "fig = plt.figure(figsize=(8, 5))\n",
    "with plt.style.context('ggplot'):\n",
    "    plt.hist(fixed['vlt_seeing'], density=True, bins=100, range=(0.0, 4.0), label=\"hist\", alpha=0.6)\n",
    "    logp = plt.plot(x, p, label=\"logp\")\n",
    "    plt.xlabel(\"Seeing (arcsec)\")\n",
    "    plt.ylabel(\"Number Density\")\n",
    "    plt.title(\"2025-01-01 through 2025-03-31\")\n",
    "    plt.legend([\"median=%.2f\\\", mode=%.2f\\\"\" % (fit_median, mode), \"median=%.2f\\\"\" % (\n",
    "        median\n",
    "    )])\n",
    "    plt.savefig(\"2025_q1.png\")\n",
    "plt.show()"
   ]
  },
  {
   "cell_type": "code",
   "execution_count": null,
   "metadata": {},
   "outputs": [],
   "source": [
    "# panda time indexing makes it easy to group by month\n",
    "fig = plt.figure(figsize=(8, 5))\n",
    "months = {}\n",
    "legends = []\n",
    "months['January'] = fixed.loc['2025-01']\n",
    "months['February'] = fixed.loc['2025-02']\n",
    "months['March'] = fixed.loc['2025-03']\n",
    "\n",
    "for m in months:\n",
    "    plt.hist(months[m]['vlt_seeing'], bins=100, range=(0.0, 4.0), label=m, alpha=0.6)\n",
    "    legend = \"%s: %.2f\\\"\" % (m, np.median(months[m]['vlt_seeing']))\n",
    "    legends.append(legend)\n",
    "plt.legend(legends)\n",
    "plt.xlabel(\"Seeing (arcsec)\")\n",
    "plt.ylabel(\"N\")\n",
    "#plt.title(\"Data and median seeing values grouped by month\")\n",
    "plt.savefig(\"2025_q1_monthly.png\")\n",
    "plt.show()"
   ]
  },
  {
   "cell_type": "code",
   "execution_count": null,
   "metadata": {},
   "outputs": [],
   "source": [
    "# now use the between_time() method to split the data into first and second halves of the night.\n",
    "first_half = fixed.between_time(start_time='00:00', end_time='07:00')\n",
    "second_half = fixed.between_time(start_time='07:00', end_time='14:00')\n",
    "med_1st = np.median(first_half['vlt_seeing'])\n",
    "med_2nd = np.median(second_half['vlt_seeing'])"
   ]
  },
  {
   "cell_type": "code",
   "execution_count": null,
   "metadata": {},
   "outputs": [],
   "source": [
    "# plot the results and show that the seeing is better later in the night...\n",
    "fig = plt.figure(figsize=(8, 5))\n",
    "plt.hist(first_half['vlt_seeing'], bins=100, range=(0.0, 4.0), label=\"1st\", alpha=0.6)\n",
    "plt.hist(second_half['vlt_seeing'], bins=100, range=(0.0, 4.0), label=\"2nd\", alpha=0.6)\n",
    "plt.legend([\"1st Half: %.2f\\\"\" % med_1st, \"2nd Half: %.2f\\\"\" % med_2nd])\n",
    "plt.xlabel(\"Seeing (arcsec)\")\n",
    "plt.ylabel(\"N\")\n",
    "#plt.title(\"Data and median seeing values grouped by half of the night\")\n",
    "plt.savefig(\"2025_q1_1st2nd.png\")\n",
    "plt.show()"
   ]
  },
  {
   "cell_type": "code",
   "execution_count": null,
   "metadata": {},
   "outputs": [],
   "source": [
    "import matplotlib.dates as mdates\n",
    "\n",
    "# make a new data frame that resamples the WFS data daily into the median, min, and max seeing for each day.\n",
    "#fixed = fixed[\"2018-06-30\":\"2018-10-01\"]\n",
    "fig, ax = plt.subplots()\n",
    "daily = pd.DataFrame()\n",
    "daily['seeing'] = fixed.vlt_seeing.resample('D').median()\n",
    "daily['max'] = fixed.vlt_seeing.resample('D').max()\n",
    "daily['min'] = fixed.vlt_seeing.resample('D').min()\n",
    "lowb = daily['seeing'] - daily['min']\n",
    "upb = daily['max'] - daily['seeing']\n",
    "plt.errorbar(daily.index, daily['seeing'], yerr=[lowb, upb], fmt='o')\n",
    "ax.xaxis.set_major_locator(mdates.MonthLocator())\n",
    "ax.xaxis.set_major_formatter(mdates.DateFormatter(\"%m-%d-%Y\"))\n",
    "ax.set_ylim(0.0, 3.5)\n",
    "fig.autofmt_xdate()\n",
    "plt.tight_layout()\n",
    "plt.ylabel(\"Seeing (arcsec)\")\n",
    "#plt.title(\"Nightly median seeing\")\n",
    "plt.savefig(\"2025_q1_nightly.png\")\n",
    "plt.show()"
   ]
  },
  {
   "cell_type": "code",
   "execution_count": null,
   "metadata": {},
   "outputs": [],
   "source": [
    "date_list = list(daily.index.strftime('%Y-%m-%d'))\n",
    "data = [np.array(fixed.loc[date]['vlt_seeing']) for date in date_list]\n",
    "ellipticity_data = [np.array(fixed.loc[date]['ellipticity']) for date in date_list]\n",
    "clean_data = {}\n",
    "clean_ellipticity = {}\n",
    "for d, arr in zip(date_list, data):\n",
    "    if len(arr) > 0:\n",
    "        clean_data[d] = arr\n",
    "for d, arr in zip(date_list, ellipticity_data):\n",
    "    if len(arr) > 0:\n",
    "        clean_ellipticity[d] = arr\n",
    "date_labels = [datetime.strptime(d, \"%Y-%m-%d\").date() for d in clean_data.keys()]"
   ]
  },
  {
   "cell_type": "code",
   "execution_count": null,
   "metadata": {},
   "outputs": [],
   "source": [
    "with plt.style.context('ggplot', after_reset=True):\n",
    "    fig, ax = plt.subplots(figsize=(11,5))\n",
    "    plt.violinplot(clean_data.values(), mdates.date2num(date_labels), points=50, widths=1.5,\n",
    "                showextrema=False, showmedians=True, bw_method='silverman')\n",
    "\n",
    "    ax.xaxis.set_major_locator(mdates.MonthLocator())\n",
    "    ax.xaxis.set_major_formatter(mdates.DateFormatter(\"%m-%d-%Y\"))\n",
    "    fig.autofmt_xdate()\n",
    "    plt.ylabel(\"Seeing (arcsec)\")\n",
    "    plt.savefig(\"2025_q1_violin.png\")\n",
    "    plt.show()"
   ]
  },
  {
   "cell_type": "code",
   "execution_count": null,
   "metadata": {},
   "outputs": [],
   "source": [
    "with plt.style.context('ggplot', after_reset=True):\n",
    "    fig, ax = plt.subplots(figsize=(11,5))\n",
    "    plt.violinplot(clean_ellipticity.values(), mdates.date2num(date_labels), points=50, widths=1.5,\n",
    "                showextrema=False, showmedians=True, bw_method='silverman')\n",
    "\n",
    "    ax.xaxis.set_major_locator(mdates.MonthLocator())\n",
    "\n",
    "    ax.xaxis.set_major_formatter(mdates.DateFormatter(\"%m-%d-%Y\"))\n",
    "    fig.autofmt_xdate()\n",
    "    plt.ylim(0, 0.5)\n",
    "    plt.ylabel(\"Ellipticity\")\n",
    "    plt.savefig(\"2025_q1_ellip_violin.png\")\n",
    "    plt.show()"
   ]
  },
  {
   "cell_type": "code",
   "execution_count": null,
   "metadata": {},
   "outputs": [],
   "source": [
    "months = sorted(list(set(daily.index.strftime('%Y-%m'))))\n",
    "mdata = [np.array(fixed.loc[month]['vlt_seeing']) for month in months]\n",
    "clean_data = {}\n",
    "for d, arr in zip(months, mdata):\n",
    "    if len(arr) > 0:\n",
    "        clean_data[d] = arr\n",
    "date_labels = [datetime.strptime(d, \"%Y-%m\").date() for d in clean_data.keys()]\n",
    "\n",
    "with plt.style.context('ggplot', after_reset=True):\n",
    "    fig, ax = plt.subplots(figsize=(11,5))\n",
    "    plt.violinplot(clean_data.values(), mdates.date2num(date_labels), points=100, widths=15,\n",
    "                showextrema=False, showmedians=True, bw_method='silverman')\n",
    "\n",
    "    ax.xaxis.set_major_locator(mdates.MonthLocator())\n",
    "    ax.xaxis.set_major_formatter(mdates.DateFormatter(\"%b\"))\n",
    "    ax.set_ylim(0.0, 3.5)\n",
    "    fig.autofmt_xdate()\n",
    "    plt.ylabel(\"Seeing (arcsec)\")\n",
    "    plt.savefig(\"2025_q1_violin_monthly.png\")\n",
    "    plt.title(\"2025 Q1 Monthly WFS Seeing Statistics\")\n",
    "    plt.show()"
   ]
  },
  {
   "cell_type": "code",
   "execution_count": null,
   "metadata": {},
   "outputs": [],
   "source": [
    "with plt.style.context('ggplot'):\n",
    "    fig = plt.figure(figsize=(8, 5))\n",
    "    medb = np.median(fixed['vlt_seeing'][fixed['wfs'] == 'binospec'])\n",
    "    medf = np.median(fixed['vlt_seeing'][fixed['wfs'] == 'newf9'])\n",
    "    medm = np.median(fixed['vlt_seeing'][fixed['wfs'] == 'mmirs'])\n",
    "    plt.hist(fixed['vlt_seeing'][fixed['wfs'] == 'binospec'], density=True, bins=100, range=(0.0, 4.), alpha=0.6, label=f\"Binospec: {medb: .2f}\\\"\")\n",
    "    plt.hist(fixed['vlt_seeing'][fixed['wfs'] == 'newf9'], density=True, bins=50, range=(0.0, 4.), alpha=0.6, label=f\"F/9: {medf: .2f}\\\"\")\n",
    "    plt.hist(fixed['vlt_seeing'][fixed['wfs'] == 'mmirs'], density=True, bins=100, range=(0.0, 4.), alpha=0.6, label=f\"MMIRS: {medm: .2f}\\\"\")\n",
    "    plt.legend()\n",
    "    plt.title(\"Seeing by Instrument\")\n",
    "    plt.xlabel(\"Seeing (arcsec)\")\n",
    "    plt.ylabel(\"Probability Density\")\n",
    "plt.savefig(\"per_instrument_2025_q1.png\")\n",
    "plt.show()"
   ]
  },
  {
   "cell_type": "code",
   "execution_count": null,
   "metadata": {},
   "outputs": [],
   "source": [
    "from minicyclop.io import read_seeing_data"
   ]
  },
  {
   "cell_type": "code",
   "execution_count": null,
   "metadata": {},
   "outputs": [],
   "source": [
    "cyclop = read_seeing_data(Path.home() / \"MMT/minicyclop/data/MiniCyclop/Data/Seeing_Data.txt\")"
   ]
  },
  {
   "cell_type": "code",
   "execution_count": null,
   "metadata": {},
   "outputs": [],
   "source": [
    "cyclop"
   ]
  },
  {
   "cell_type": "code",
   "execution_count": null,
   "metadata": {},
   "outputs": [],
   "source": [
    "cyclop_q1 = cyclop[(cyclop.index >= '2025-01-01') & (cyclop.index < '2025-04-01')]"
   ]
  },
  {
   "cell_type": "code",
   "execution_count": null,
   "metadata": {},
   "outputs": [],
   "source": [
    "# fit a log-normal distribution to the seeing data\n",
    "sigma, loc, exp_mu = lognorm.fit(cyclop_q1['seeing'])\n",
    "print(sigma, loc, exp_mu)\n",
    "x = np.arange(0.0, 4.0, 0.01)\n",
    "p = lognorm.pdf(x, sigma, loc=loc, scale=exp_mu)\n",
    "mu = np.log(exp_mu)\n",
    "mode = np.exp(mu - sigma**2) + loc\n",
    "median = np.nanmedian(cyclop_q1['seeing'])\n",
    "fit_median = exp_mu + loc\n",
    "\n",
    "# plot normalized histogram with the fit and the median/mode calculated from the fit.\n",
    "fig = plt.figure(figsize=(8, 5))\n",
    "with plt.style.context('ggplot'):\n",
    "    plt.hist(cyclop_q1['seeing'], density=True, bins=100, range=(0.0, 4.0), label=\"hist\", alpha=0.6)\n",
    "    logp = plt.plot(x, p, label=\"logp\")\n",
    "    plt.xlabel(\"Seeing (arcsec)\")\n",
    "    plt.ylabel(\"Number Density\")\n",
    "    plt.title(\"Seeing Monitor: 2025-01-01 through 2025-03-31\")\n",
    "    plt.legend([\"median=%.2f\\\", mode=%.2f\\\"\" % (fit_median, mode), \"median=%.2f\\\"\" % (\n",
    "        median\n",
    "    )])\n",
    "    plt.savefig(\"2025_q1_cyclop_hist.png\")\n",
    "plt.show()"
   ]
  },
  {
   "cell_type": "code",
   "execution_count": null,
   "metadata": {},
   "outputs": [],
   "source": [
    "# panda time indexing makes it easy to group by month\n",
    "fig = plt.figure(figsize=(8, 5))\n",
    "cyc_months = {}\n",
    "legends = []\n",
    "cyc_months['January'] = cyclop_q1.loc['2025-01']\n",
    "cyc_months['February'] = cyclop_q1.loc['2025-02']\n",
    "cyc_months['March'] = cyclop_q1.loc['2025-03']\n",
    "\n",
    "for m in cyc_months.keys():\n",
    "    plt.hist(cyc_months[m]['seeing'], bins=100, range=(0.0, 4.0), label=m, alpha=0.6)\n",
    "    legend = \"%s: %.2f\\\"\" % (m, np.median(cyc_months[m]['seeing']))\n",
    "    legends.append(legend)\n",
    "plt.legend(legends)\n",
    "plt.xlabel(\"Seeing (arcsec)\")\n",
    "plt.ylabel(\"N\")\n",
    "#plt.title(\"Data and median seeing values grouped by month\")\n",
    "plt.savefig(\"2025_q1_cyclop_monthly.png\")\n",
    "plt.show()"
   ]
  },
  {
   "cell_type": "code",
   "execution_count": null,
   "metadata": {},
   "outputs": [],
   "source": [
    "# now use the between_time() method to split the data into first and second halves of the night.\n",
    "first_half = cyclop_q1.between_time(start_time='00:00', end_time='07:00')\n",
    "second_half = cyclop_q1.between_time(start_time='07:00', end_time='14:00')\n",
    "med_1st = np.median(first_half['seeing'])\n",
    "med_2nd = np.median(second_half['seeing'])\n",
    "\n",
    "# plot the results and show that the seeing is better later in the night...\n",
    "fig = plt.figure(figsize=(8, 5))\n",
    "plt.hist(first_half['seeing'], bins=100, range=(0.0, 4.0), label=\"1st\", alpha=0.6)\n",
    "plt.hist(second_half['seeing'], bins=100, range=(0.0, 4.0), label=\"2nd\", alpha=0.6)\n",
    "plt.legend([\"1st Half: %.2f\\\"\" % med_1st, \"2nd Half: %.2f\\\"\" % med_2nd])\n",
    "plt.xlabel(\"Seeing (arcsec)\")\n",
    "plt.ylabel(\"N\")\n",
    "#plt.title(\"Data and median seeing values grouped by half of the night\")\n",
    "plt.savefig(\"2025_q1_cyclop_1st2nd.png\")\n",
    "plt.show()"
   ]
  },
  {
   "cell_type": "code",
   "execution_count": null,
   "metadata": {},
   "outputs": [],
   "source": [
    "# make a new data frame that resamples the WFS data daily into the median, min, and max seeing for each day.\n",
    "#fixed = fixed[\"2018-06-30\":\"2018-10-01\"]\n",
    "fig, ax = plt.subplots()\n",
    "daily = pd.DataFrame()\n",
    "daily['seeing'] = cyclop_q1.seeing.resample('D').median()\n",
    "daily['max'] = cyclop_q1.seeing.resample('D').max()\n",
    "daily['min'] = cyclop_q1.seeing.resample('D').min()\n",
    "lowb = daily['seeing'] - daily['min']\n",
    "upb = daily['max'] - daily['seeing']\n",
    "plt.errorbar(daily.index, daily['seeing'], yerr=[lowb, upb], fmt='o')\n",
    "ax.xaxis.set_major_locator(mdates.MonthLocator())\n",
    "ax.xaxis.set_major_formatter(mdates.DateFormatter(\"%m-%d-%Y\"))\n",
    "ax.set_ylim(0.0, 3.5)\n",
    "fig.autofmt_xdate()\n",
    "plt.tight_layout()\n",
    "plt.ylabel(\"Seeing (arcsec)\")\n",
    "#plt.title(\"Nightly median seeing\")\n",
    "plt.savefig(\"2025_q1_cyclop_plot_monthly.png\")\n",
    "plt.show()"
   ]
  },
  {
   "cell_type": "code",
   "execution_count": null,
   "metadata": {},
   "outputs": [],
   "source": [
    "date_list = list(daily.index.strftime('%Y-%m-%d'))\n",
    "data = [np.array(cyclop_q1.loc[date]['seeing']) for date in date_list]\n",
    "\n",
    "clean_data = {}\n",
    "for d, arr in zip(date_list, data):\n",
    "    if len(arr) > 0:\n",
    "        clean_data[d] = arr\n",
    "date_labels = [datetime.strptime(d, \"%Y-%m-%d\").date() for d in clean_data.keys()]\n",
    "\n",
    "with plt.style.context('ggplot', after_reset=True):\n",
    "    fig, ax = plt.subplots(figsize=(11,5))\n",
    "    plt.violinplot(clean_data.values(), mdates.date2num(date_labels), points=50, widths=1.5,\n",
    "                showextrema=False, showmedians=True, bw_method='silverman')\n",
    "\n",
    "    ax.xaxis.set_major_locator(mdates.MonthLocator())\n",
    "    ax.xaxis.set_major_formatter(mdates.DateFormatter(\"%m-%d-%Y\"))\n",
    "    ax.set_ylim(0.0, 3.5)\n",
    "    fig.autofmt_xdate()\n",
    "    plt.ylabel(\"Seeing (arcsec)\")\n",
    "    plt.savefig(\"2025_q1_cyclop_violin.png\")\n",
    "    plt.show()"
   ]
  },
  {
   "cell_type": "code",
   "execution_count": null,
   "metadata": {},
   "outputs": [],
   "source": [
    "months = sorted(list(set(daily.index.strftime('%Y-%m'))))\n",
    "mdata = [np.array(cyclop_q1.loc[month]['seeing']) for month in months]\n",
    "clean_data = {}\n",
    "for d, arr in zip(months, mdata):\n",
    "    if len(arr) > 0:\n",
    "        clean_data[d] = arr\n",
    "date_labels = [datetime.strptime(d, \"%Y-%m\").date() for d in clean_data.keys()]\n",
    "\n",
    "with plt.style.context('ggplot', after_reset=True):\n",
    "    fig, ax = plt.subplots(figsize=(11,5))\n",
    "    plt.violinplot(clean_data.values(), mdates.date2num(date_labels), points=100, widths=15,\n",
    "                showextrema=False, showmedians=True, bw_method='silverman')\n",
    "\n",
    "    ax.xaxis.set_major_locator(mdates.MonthLocator())\n",
    "    ax.xaxis.set_major_formatter(mdates.DateFormatter(\"%b\"))\n",
    "    ax.set_ylim(0.0, 3.5)\n",
    "    fig.autofmt_xdate()\n",
    "    plt.ylabel(\"Seeing (arcsec)\")\n",
    "    plt.savefig(\"2025_q1_cyclop_violin_monthly.png\")\n",
    "    plt.title(\"2025 Q1 Monthly Seeing Monitor Statistics\")\n",
    "    plt.show()"
   ]
  },
  {
   "cell_type": "code",
   "execution_count": null,
   "metadata": {},
   "outputs": [],
   "source": [
    "bino = fixed[fixed['wfs'] == 'binospec']\n",
    "f9 = fixed[fixed['wfs'] == 'newf9']\n",
    "mmirs = fixed[fixed['wfs'] == 'mmirs']"
   ]
  },
  {
   "cell_type": "code",
   "execution_count": null,
   "metadata": {},
   "outputs": [],
   "source": [
    "bino_dates = sorted(list(set(bino.index.strftime('%Y-%m-%d'))))\n",
    "f9_dates = sorted(list(set(f9.index.strftime('%Y-%m-%d'))))\n",
    "mmirs_dates = sorted(list(set(mmirs.index.strftime('%Y-%m-%d'))))\n",
    "bino_dates, mmirs_dates, f9_dates"
   ]
  },
  {
   "cell_type": "code",
   "execution_count": null,
   "metadata": {},
   "outputs": [],
   "source": [
    "cyc_bino = np.hstack([np.array(cyclop_q1.loc[date]['seeing']) for date in bino_dates])\n",
    "cyc_f9 = np.hstack([np.array(cyclop_q1.loc[date]['seeing']) for date in f9_dates])\n",
    "cyc_mmirs = np.hstack([np.array(cyclop_q1.loc[date]['seeing']) for date in mmirs_dates])"
   ]
  },
  {
   "cell_type": "code",
   "execution_count": null,
   "metadata": {},
   "outputs": [],
   "source": [
    "with plt.style.context('ggplot', after_reset=True):\n",
    "    fig, ax = plt.subplots(3, 1, figsize=(6, 12), sharex=True, sharey=True)\n",
    "    ax = ax.flat\n",
    "    fig.subplots_adjust(hspace=0)\n",
    "\n",
    "    hist(bino['vlt_seeing'], bins='scott', ax=ax[0], histtype='stepfilled', alpha=0.6, density=True)\n",
    "    hist(cyc_bino, bins='scott', ax=ax[0], histtype='stepfilled', alpha=0.6, density=True)\n",
    "    ax[0].legend([f\"Binospec: {np.median(bino['vlt_seeing']):.2f}\", f\"Cyclop: {np.median(cyc_bino):.2f}\"])\n",
    "    ax[0].set_ylabel(\"Probaility Density\")\n",
    "    ax[0].set_xlim(0, 5)\n",
    "\n",
    "    hist(f9['vlt_seeing'], bins='scott', ax=ax[1], histtype='stepfilled', alpha=0.6, density=True)\n",
    "    hist(cyc_f9, bins='scott', ax=ax[1], histtype='stepfilled', alpha=0.6, density=True)\n",
    "    ax[1].legend([f\"F/9: {np.median(f9['vlt_seeing']):.2f}\", f\"Cyclop: {np.median(cyc_f9):.2f}\"])\n",
    "    ax[1].set_ylabel(\"Probaility Density\")\n",
    "    ax[1].set_xlim(0, 5)\n",
    "\n",
    "    hist(mmirs['vlt_seeing'], bins='scott', ax=ax[2], histtype='stepfilled', alpha=0.6, density=True)\n",
    "    hist(cyc_mmirs, bins='scott', ax=ax[2], histtype='stepfilled', alpha=0.6, density=True)\n",
    "    ax[2].legend([f\"MMIRS: {np.median(mmirs['vlt_seeing']):.2f}\", f\"Cyclop: {np.median(cyc_mmirs):.2f}\"])\n",
    "    ax[2].set_xlim(0, 5)\n",
    "    ax[2].set_xlabel(\"Seeing (arcsec)\")\n",
    "    ax[2].set_ylabel(\"Probaility Density\")\n",
    "\n",
    "    plt.tight_layout()\n",
    "    plt.savefig(\"2025_q1_cyclop_vs_inst.png\")\n",
    "    plt.show()"
   ]
  },
  {
   "cell_type": "code",
   "execution_count": null,
   "metadata": {},
   "outputs": [],
   "source": [
    "date = '2025-01-14'\n",
    "night = cyclop_q1.loc[date]\n",
    "wfs_night = fixed.loc[date]\n",
    "fig, ax = plt.subplots(figsize=(11,5))\n",
    "ax.xaxis.set_major_locator(mdates.HourLocator())\n",
    "ax.xaxis.set_major_formatter(mdates.DateFormatter(\"%H:%M\"))\n",
    "fig.autofmt_xdate()\n",
    "plt.scatter(night.index, night['seeing'], label=\"Seeing Monitor\", alpha=0.6)\n",
    "plt.scatter(wfs_night.index, wfs_night['vlt_seeing'], label=\"WFS\", alpha=0.6)\n",
    "plt.ylabel(\"Seeing (arcsec)\")\n",
    "plt.title(date)\n",
    "plt.xlabel(\"UT\")\n",
    "plt.legend()\n",
    "plt.tight_layout()\n",
    "plt.savefig(\"20250114.png\")\n",
    "plt.show()"
   ]
  },
  {
   "cell_type": "code",
   "execution_count": null,
   "metadata": {},
   "outputs": [],
   "source": [
    "date = '2025-01-18'\n",
    "night = cyclop_q1.loc[date]\n",
    "wfs_night = fixed.loc[date]\n",
    "fig, ax = plt.subplots(figsize=(11,5))\n",
    "ax.xaxis.set_major_locator(mdates.HourLocator())\n",
    "ax.xaxis.set_major_formatter(mdates.DateFormatter(\"%H:%M\"))\n",
    "fig.autofmt_xdate()\n",
    "plt.scatter(night.index, night['seeing'], label=\"Seeing Monitor\", alpha=0.6)\n",
    "plt.scatter(wfs_night.index, wfs_night['vlt_seeing'], label=\"WFS\", alpha=0.6)\n",
    "plt.ylabel(\"Seeing (arcsec)\")\n",
    "plt.title(date)\n",
    "plt.xlabel(\"UT\")\n",
    "plt.legend()\n",
    "plt.tight_layout()\n",
    "plt.savefig(\"20250118.png\")\n",
    "plt.show()"
   ]
  },
  {
   "cell_type": "code",
   "execution_count": null,
   "metadata": {},
   "outputs": [],
   "source": [
    "plt.hist(fixed['ellipticity'], bins=100, range=(0.0, 0.5), alpha=0.6, label=f\"Median: {np.median(fixed['ellipticity']):.2f}\")\n",
    "plt.xlabel(\"Ellipticity\")\n",
    "plt.ylabel(\"N\")\n",
    "plt.legend()\n",
    "plt.savefig(\"ellipticity_2025_q1.png\")\n",
    "plt.show()"
   ]
  },
  {
   "cell_type": "code",
   "execution_count": null,
   "metadata": {},
   "outputs": [],
   "source": [
    "with plt.style.context('ggplot', after_reset=True):\n",
    "    fig, ax = plt.subplots(3, 1, figsize=(6, 12), sharex=True, sharey=True)\n",
    "    ax = ax.flat\n",
    "    fig.subplots_adjust(hspace=0)\n",
    "\n",
    "    hist(bino['ellipticity'], bins='scott', ax=ax[0], histtype='stepfilled', alpha=0.6, density=True)\n",
    "    ax[0].legend([f\"Binospec: {np.median(bino['ellipticity']):.2f}\"])\n",
    "    ax[0].set_ylabel(\"Probaility Density\")\n",
    "    ax[0].set_xlim(0, .5)\n",
    "\n",
    "    hist(f9['ellipticity'], bins='scott', ax=ax[1], histtype='stepfilled', alpha=0.6, density=True)\n",
    "    ax[1].legend([f\"F/9: {np.median(f9['ellipticity']):.2f}\"])\n",
    "    ax[1].set_ylabel(\"Probaility Density\")\n",
    "    ax[1].set_xlim(0, .5)\n",
    "\n",
    "    hist(mmirs['ellipticity'], bins='scott', ax=ax[2], histtype='stepfilled', alpha=0.6, density=True)\n",
    "    ax[2].legend([f\"MMIRS: {np.median(mmirs['ellipticity']):.2f}\"])\n",
    "    ax[2].set_xlim(0, .5)\n",
    "    ax[2].set_xlabel(\"Ellipticity\")\n",
    "    ax[2].set_ylabel(\"Probaility Density\")\n",
    "\n",
    "    plt.tight_layout()\n",
    "    plt.savefig(\"2025_q1_ellip_vs_inst.png\")\n",
    "    plt.show()"
   ]
  },
  {
   "cell_type": "code",
   "execution_count": null,
   "metadata": {},
   "outputs": [],
   "source": [
    "els = [30, 35, 40, 45, 50, 55, 60, 65, 70, 75, 80, 85]\n",
    "e_meds = []\n",
    "for el in els:\n",
    "    slice = bino[(bino['el'] >= el-2.5) & (bino['el'] <= el+2.5)]\n",
    "    e_meds.append(np.median(slice['ellipticity']))\n",
    "\n",
    "with plt.style.context('ggplot', after_reset=True):\n",
    "    plt.hist2d(bino['el'], bino['ellipticity'], bins=100, cmap='viridis', norm=mcolors.PowerNorm(0.3))\n",
    "    plt.scatter(els, e_meds, color='w')\n",
    "    plt.xlabel(\"Elevation (deg)\")\n",
    "    plt.ylabel(\"Ellipticity\")\n",
    "    plt.title(\"Binospec Ellipticity vs. Elevation\")\n",
    "    plt.savefig(\"2025q1_bino_ellip_vs_el.png\")\n",
    "    plt.show()"
   ]
  },
  {
   "cell_type": "code",
   "execution_count": null,
   "metadata": {},
   "outputs": [],
   "source": [
    "bino.describe()"
   ]
  },
  {
   "cell_type": "code",
   "execution_count": null,
   "metadata": {},
   "outputs": [],
   "source": []
  }
 ],
 "metadata": {
  "kernelspec": {
   "display_name": "mmtwfs",
   "language": "python",
   "name": "python3"
  },
  "language_info": {
   "codemirror_mode": {
    "name": "ipython",
    "version": 3
   },
   "file_extension": ".py",
   "mimetype": "text/x-python",
   "name": "python",
   "nbconvert_exporter": "python",
   "pygments_lexer": "ipython3",
   "version": "3.13.5"
  }
 },
 "nbformat": 4,
 "nbformat_minor": 4
}
