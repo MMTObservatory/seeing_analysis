{
 "cells": [
  {
   "cell_type": "code",
   "execution_count": 1,
   "metadata": {},
   "outputs": [],
   "source": [
    "from datetime import datetime\n",
    "import traceback\n",
    "import functools\n",
    "import multiprocessing\n",
    "from multiprocessing import Pool\n",
    "\n",
    "import time\n",
    "import os\n",
    "import sys\n",
    "from pathlib import Path\n",
    "\n",
    "import numpy as np\n",
    "import scipy\n",
    "import pandas as pd\n",
    "import ipympl\n",
    "import matplotlib\n",
    "#matplotlib.use('nbagg')\n",
    "from matplotlib import style\n",
    "style.use('ggplot')\n",
    "import matplotlib.pyplot as plt\n",
    "\n",
    "%load_ext autoreload\n",
    "%autoreload 2\n",
    "\n",
    "from astropy import stats\n",
    "\n",
    "import pandas as pd\n",
    "\n",
    "import astropy.units as u\n",
    "from astropy.io import fits\n",
    "from mmtwfs.wfs import WFSFactory"
   ]
  },
  {
   "cell_type": "code",
   "execution_count": 2,
   "metadata": {},
   "outputs": [],
   "source": [
    "# instantiate all of the WFS systems...\n",
    "wfs_keys = ['f9', 'newf9', 'f5', 'mmirs', 'binospec']\n",
    "wfs_systems = {}\n",
    "wfs_names = {}\n",
    "for w in wfs_keys:\n",
    "    wfs_systems[w] = WFSFactory(wfs=w)\n",
    "    wfs_names[w] = wfs_systems[w].name\n",
    "plt.close('all')\n",
    "\n",
    "# give mmirs a default\n",
    "wfs_systems['mmirs'].default_mode = 'mmirs1'\n",
    "\n",
    "# map f9 to oldf9\n",
    "wfs_systems['oldf9'] = wfs_systems['f9']"
   ]
  },
  {
   "cell_type": "code",
   "execution_count": 3,
   "metadata": {},
   "outputs": [],
   "source": [
    "def hist_compare(df1, df2, column, bins=100, mini=None, maxi=None):\n",
    "    f, (ax1, ax2) = plt.subplots(2, 1, sharex=True)\n",
    "    if mini is None:\n",
    "        mini = df1[column].min()\n",
    "    if maxi is None:\n",
    "        maxi = df1[column].max()\n",
    "    df1.hist(column=column, bins=bins, range=(mini, maxi), alpha=0.6, ax=ax1)\n",
    "    df2.hist(column=column, bins=bins, range=(mini, maxi), alpha=0.6, ax=ax2)\n",
    "    plt.xlabel(column)\n",
    "    plt.ylabel(\"N\")\n",
    "    f.show()"
   ]
  },
  {
   "cell_type": "code",
   "execution_count": 4,
   "metadata": {},
   "outputs": [],
   "source": [
    "def seeing(df, wfs):\n",
    "    \"\"\"\n",
    "    Given a sigma derived from a gaussian fit to a WFS spot, deconvolve the systematic width from the reference image\n",
    "    and relate the remainder to r_0 and thus a seeing FWHM.\n",
    "    \"\"\"\n",
    "    # the effective wavelength of the WFS imagers is about 600-650 nm. we use 650 nm to maintain consistency\n",
    "    # with the value used by the old SHWFS system.\n",
    "    wave = 650 * u.nm\n",
    "    wave = wave.to(u.m).value  # r_0 equation expects meters so convert\n",
    "\n",
    "    mode = wfs.default_mode\n",
    "    \n",
    "    # calculate the physical size of each aperture.\n",
    "    ref = wfs.modes[mode]['reference']\n",
    "    apsize_pix = np.max((ref.xspacing, ref.yspacing))\n",
    "    d = wfs.telescope.diameter * apsize_pix / wfs.pup_size\n",
    "    d = d.to(u.m).value  # r_0 equation expects meters so convert\n",
    "\n",
    "    # we need to deconvolve the instrumental spot width from the measured one to get the portion of the width that\n",
    "    # is due to spot motion\n",
    "    ref_sigma = stats.funcs.gaussian_fwhm_to_sigma * ref.fwhm\n",
    "    sigma = stats.funcs.gaussian_fwhm_to_sigma * df['gauss_fwhm']\n",
    "    \n",
    "    corr_sigma = np.sqrt(sigma**2 - ref_sigma**2)\n",
    "    corr_sigma *= wfs.pix_size.to(u.rad).value  # r_0 equation expects radians so convert\n",
    "\n",
    "    # this equation relates the motion within a single aperture to the characteristic scale size of the\n",
    "    # turbulence, r_0.\n",
    "    r_0 = ( 0.179 * (wave**2) * (d**(-1/3))/corr_sigma**2 )**0.6\n",
    "\n",
    "    # this equation relates the turbulence scale size to an expected image FWHM at the given wavelength.\n",
    "    raw_seeing = u.Quantity(u.rad * 0.98 * wave / r_0, u.arcsec)\n",
    "\n",
    "    # correct seeing to zenith\n",
    "    seeing = raw_seeing / df['AIRMASS']**0.6\n",
    "\n",
    "    return raw_seeing, seeing"
   ]
  },
  {
   "cell_type": "code",
   "execution_count": 5,
   "metadata": {},
   "outputs": [],
   "source": [
    "columns = ['filename', 'obstime', 'wfskey', 'AIRMASS', 'AZ', 'EL', 'ellipticity', 'gauss_rms', 'moffat_rms', 'gauss_fwhm', 'moffat_fwhm', 'gauss_amplitude',\n",
    "           'moffat_amplitude', 'moffat_alpha', 'moffat_gamma']\n",
    "rootdir = Path(\"/Volumes/Seagate2TB/spot_analysis\")\n",
    "dirs = sorted(list(rootdir.glob(\"20*\")))  # pathlib, where have you been all my life!\n",
    "dataframes = []\n",
    "for d in dirs:\n",
    "    if d.is_dir():\n",
    "        mean_df = pd.read_csv(d / \"spot_reduce_mean.csv\")\n",
    "        wfs_df = pd.read_csv(d / \"wfskeys.csv\")\n",
    "        df = pd.merge(mean_df, wfs_df, on='filename')\n",
    "        dataframes.append(df)\n",
    "data = pd.concat(dataframes, sort=True)"
   ]
  },
  {
   "cell_type": "code",
   "execution_count": 6,
   "metadata": {},
   "outputs": [
    {
     "data": {
      "text/html": [
       "<div>\n",
       "<style scoped>\n",
       "    .dataframe tbody tr th:only-of-type {\n",
       "        vertical-align: middle;\n",
       "    }\n",
       "\n",
       "    .dataframe tbody tr th {\n",
       "        vertical-align: top;\n",
       "    }\n",
       "\n",
       "    .dataframe thead th {\n",
       "        text-align: right;\n",
       "    }\n",
       "</style>\n",
       "<table border=\"1\" class=\"dataframe\">\n",
       "  <thead>\n",
       "    <tr style=\"text-align: right;\">\n",
       "      <th></th>\n",
       "      <th>count</th>\n",
       "      <th>unique</th>\n",
       "      <th>top</th>\n",
       "      <th>freq</th>\n",
       "    </tr>\n",
       "    <tr>\n",
       "      <th>wfskey</th>\n",
       "      <th></th>\n",
       "      <th></th>\n",
       "      <th></th>\n",
       "      <th></th>\n",
       "    </tr>\n",
       "  </thead>\n",
       "  <tbody>\n",
       "    <tr>\n",
       "      <th>binospec</th>\n",
       "      <td>16996</td>\n",
       "      <td>1</td>\n",
       "      <td>binospec</td>\n",
       "      <td>16996</td>\n",
       "    </tr>\n",
       "    <tr>\n",
       "      <th>f5</th>\n",
       "      <td>100654</td>\n",
       "      <td>1</td>\n",
       "      <td>f5</td>\n",
       "      <td>100654</td>\n",
       "    </tr>\n",
       "    <tr>\n",
       "      <th>mmirs</th>\n",
       "      <td>49707</td>\n",
       "      <td>1</td>\n",
       "      <td>mmirs</td>\n",
       "      <td>49707</td>\n",
       "    </tr>\n",
       "    <tr>\n",
       "      <th>newf9</th>\n",
       "      <td>1803</td>\n",
       "      <td>1</td>\n",
       "      <td>newf9</td>\n",
       "      <td>1803</td>\n",
       "    </tr>\n",
       "    <tr>\n",
       "      <th>oldf9</th>\n",
       "      <td>54128</td>\n",
       "      <td>1</td>\n",
       "      <td>oldf9</td>\n",
       "      <td>54128</td>\n",
       "    </tr>\n",
       "  </tbody>\n",
       "</table>\n",
       "</div>"
      ],
      "text/plain": [
       "           count unique       top    freq\n",
       "wfskey                                   \n",
       "binospec   16996      1  binospec   16996\n",
       "f5        100654      1        f5  100654\n",
       "mmirs      49707      1     mmirs   49707\n",
       "newf9       1803      1     newf9    1803\n",
       "oldf9      54128      1     oldf9   54128"
      ]
     },
     "execution_count": 6,
     "metadata": {},
     "output_type": "execute_result"
    }
   ],
   "source": [
    "g = data.groupby('wfskey')\n",
    "g.wfskey.describe()"
   ]
  },
  {
   "cell_type": "code",
   "execution_count": 7,
   "metadata": {},
   "outputs": [
    {
     "name": "stderr",
     "output_type": "stream",
     "text": [
      "/Users/tim/conda/envs/py36/lib/python3.6/site-packages/ipykernel_launcher.py:24: RuntimeWarning: invalid value encountered in sqrt\n",
      "/Users/tim/conda/envs/py36/lib/python3.6/site-packages/ipykernel_launcher.py:7: SettingWithCopyWarning: \n",
      "A value is trying to be set on a copy of a slice from a DataFrame.\n",
      "Try using .loc[row_indexer,col_indexer] = value instead\n",
      "\n",
      "See the caveats in the documentation: http://pandas.pydata.org/pandas-docs/stable/indexing.html#indexing-view-versus-copy\n",
      "  import sys\n"
     ]
    }
   ],
   "source": [
    "# re-calculate the seeing using updated spot FWHM for binospec. filter out any NaN values...\n",
    "fixed_list = []\n",
    "for wfskey, group in g:\n",
    "    wfs = wfs_systems[wfskey]\n",
    "    group = g.get_group(wfskey)\n",
    "    #group.apply(seeing, axis=1, args=(wfs,))\n",
    "    group['raw_seeing'], group['seeing'] = seeing(group, wfs)\n",
    "    fixed_list.append(group)\n",
    "fixed = pd.concat(fixed_list)\n",
    "fixed = fixed[np.isfinite(fixed['seeing'])]\n",
    "fixed = fixed[fixed['gauss_amplitude'] > 10.]\n",
    "#fixed = fixed[fixed['ellipticity'] < 0.2]\n",
    "fixed = fixed[~fixed['filename'].str.contains(\"Ref\")]\n",
    "fixed = fixed[~fixed['filename'].str.contains(\"ref\")]\n",
    "fixed = fixed[~fixed['filename'].str.contains(\"back.fits\")]\n",
    "fixed = fixed[~fixed['filename'].str.contains(\"tmp.fits\")]\n",
    "fixed = fixed[fixed['seeing'] > 0.2]  # trim out reference or bogus images\n",
    "fixed = fixed[fixed['seeing'] < 5.]  # spot finding doesn't work for bad seeing where motion fills the aperture\n",
    "\n",
    "fixed = fixed[fixed['peak'] > 2500.]  # use only bright spots\n",
    "\n",
    "# create a date-time index so we can group and analyze the data by timestamps\n",
    "fixed = fixed.set_index(pd.DatetimeIndex(fixed['obstime'], name='ut'))"
   ]
  },
  {
   "cell_type": "code",
   "execution_count": 8,
   "metadata": {},
   "outputs": [
    {
     "data": {
      "application/vnd.jupyter.widget-view+json": {
       "model_id": "a575cd6900144f04a3f01a71b5bca312",
       "version_major": 2,
       "version_minor": 0
      },
      "text/plain": [
       "FigureCanvasNbAgg()"
      ]
     },
     "metadata": {},
     "output_type": "display_data"
    }
   ],
   "source": [
    "fixed.hist(column='ellipticity', bins=100, range=(0.0, 1.0), alpha=0.6)\n",
    "plt.title(\"Ellipticity\")\n",
    "plt.xlabel(\"e\")\n",
    "plt.ylabel(\"N\")\n",
    "plt.show()"
   ]
  },
  {
   "cell_type": "code",
   "execution_count": 9,
   "metadata": {},
   "outputs": [
    {
     "data": {
      "application/vnd.jupyter.widget-view+json": {
       "model_id": "75cd5e58ded34d08872e03b017838767",
       "version_major": 2,
       "version_minor": 0
      },
      "text/plain": [
       "FigureCanvasNbAgg()"
      ]
     },
     "metadata": {},
     "output_type": "display_data"
    }
   ],
   "source": [
    "# make raw histogram of the zenith-corrected seeing column\n",
    "fixed.hist(column='seeing', bins=100, range=(0.0, 5.0), alpha=0.6)\n",
    "plt.title(\"March 2003 through May 2018\")\n",
    "plt.xlabel(\"Seeing (arcsec)\")\n",
    "plt.ylabel(\"N\")\n",
    "plt.show()"
   ]
  },
  {
   "cell_type": "code",
   "execution_count": 109,
   "metadata": {},
   "outputs": [],
   "source": [
    "toogood = fixed[fixed['seeing'] < 0.25]"
   ]
  },
  {
   "cell_type": "code",
   "execution_count": 98,
   "metadata": {},
   "outputs": [
    {
     "data": {
      "text/plain": [
       "Index(['ABS_HUM', 'ACTUALX', 'ACTUALY', 'ADCBUSYE', 'ADCBUSYW', 'ADCCPRME',\n",
       "       'ADCCPRMW', 'ADCELEV', 'ADCEPRSE', 'ADCEPRSW',\n",
       "       ...\n",
       "       'xcentroid_1', 'xcentroid_2', 'xmax', 'xmin', 'ycentroid_1',\n",
       "       'ycentroid_2', 'ymax', 'ymin', 'raw_seeing', 'seeing'],\n",
       "      dtype='object', length=355)"
      ]
     },
     "execution_count": 98,
     "metadata": {},
     "output_type": "execute_result"
    }
   ],
   "source": [
    "toogood.columns"
   ]
  },
  {
   "cell_type": "code",
   "execution_count": 102,
   "metadata": {},
   "outputs": [
    {
     "data": {
      "application/vnd.jupyter.widget-view+json": {
       "model_id": "",
       "version_major": 2,
       "version_minor": 0
      },
      "text/plain": [
       "FigureCanvasNbAgg()"
      ]
     },
     "metadata": {},
     "output_type": "display_data"
    }
   ],
   "source": [
    "hist_compare(fixed, toogood, 'sharpness')"
   ]
  },
  {
   "cell_type": "code",
   "execution_count": 110,
   "metadata": {},
   "outputs": [
    {
     "data": {
      "text/plain": [
       "121483"
      ]
     },
     "execution_count": 110,
     "metadata": {},
     "output_type": "execute_result"
    }
   ],
   "source": [
    "len(fixed)"
   ]
  },
  {
   "cell_type": "code",
   "execution_count": 128,
   "metadata": {},
   "outputs": [],
   "source": [
    "plt.close('all')"
   ]
  },
  {
   "cell_type": "code",
   "execution_count": 11,
   "metadata": {},
   "outputs": [
    {
     "name": "stdout",
     "output_type": "stream",
     "text": [
      "0.452597022072 0.128774229134 0.801117555299\n"
     ]
    }
   ],
   "source": [
    "# fit a log-normal distribution to the seeing data\n",
    "sigma, loc, exp_mu = scipy.stats.lognorm.fit(fixed['seeing'])\n",
    "print(sigma, loc, exp_mu)\n",
    "x = np.arange(0.0, 4.0, 0.01)\n",
    "p = scipy.stats.lognorm.pdf(x, sigma, loc=loc, scale=exp_mu)\n",
    "mu = np.log(exp_mu)\n",
    "mode = np.exp(mu - sigma**2) + loc\n",
    "median = np.nanmedian(fixed['seeing'])\n",
    "fit_median = exp_mu + loc"
   ]
  },
  {
   "cell_type": "code",
   "execution_count": 13,
   "metadata": {},
   "outputs": [
    {
     "data": {
      "application/vnd.jupyter.widget-view+json": {
       "model_id": "82cba3424a89401bb84724460e4eaffc",
       "version_major": 2,
       "version_minor": 0
      },
      "text/plain": [
       "FigureCanvasNbAgg()"
      ]
     },
     "metadata": {},
     "output_type": "display_data"
    }
   ],
   "source": [
    "# plot normalized histogram with the fit and the median/mode calculated from the fit.\n",
    "plt.hist(fixed['seeing'], density=True, bins=100, range=(0.0, 4.0), label=\"hist\", alpha=0.6)\n",
    "logp = plt.plot(x, p, label=\"logp\")\n",
    "plt.xlabel(\"Seeing (arcsec)\")\n",
    "plt.ylabel(\"Number Density\")\n",
    "plt.title(\"March 2003 through May 2018\")\n",
    "plt.legend([\"median=%.2f\\\", mode=%.2f\\\"\" % (fit_median, mode), \"median=%.2f\\\"\" % (\n",
    "    median\n",
    ")])\n",
    "plt.savefig(\"all_seeing.pdf\")\n",
    "plt.show()"
   ]
  },
  {
   "cell_type": "code",
   "execution_count": 118,
   "metadata": {},
   "outputs": [
    {
     "data": {
      "application/vnd.jupyter.widget-view+json": {
       "model_id": "",
       "version_major": 2,
       "version_minor": 0
      },
      "text/plain": [
       "FigureCanvasNbAgg()"
      ]
     },
     "metadata": {},
     "output_type": "display_data"
    }
   ],
   "source": [
    "# panda time indexing makes it easy to group by month\n",
    "months = {}\n",
    "legends = []\n",
    "months['January'] = fixed['2015']\n",
    "months['February'] = fixed['2016']\n",
    "months['March'] = fixed['2017']\n",
    "for m in months:\n",
    "    plt.hist(months[m]['seeing'], bins=100, range=(0.0, 4.0), label=m, alpha=0.6)\n",
    "    legend = \"%s: %.2f\\\"\" % (m, np.median(months[m]['seeing']))\n",
    "    legends.append(legend)\n",
    "plt.legend(legends)\n",
    "plt.xlabel(\"Seeing (arcsec)\")\n",
    "plt.ylabel(\"N\")\n",
    "#plt.title(\"Data and median seeing values grouped by month\")\n",
    "plt.show()"
   ]
  },
  {
   "cell_type": "code",
   "execution_count": 14,
   "metadata": {},
   "outputs": [
    {
     "name": "stdout",
     "output_type": "stream",
     "text": [
      "Median seeing for 2003 is 0.7568061254333635\n",
      "Median seeing for 2004 is 0.9728764760515064\n",
      "Median seeing for 2005 is 0.9226822041832713\n",
      "Median seeing for 2006 is 0.9027455009634998\n",
      "Median seeing for 2007 is 1.001953018834358\n",
      "Median seeing for 2008 is 0.9263999222372663\n",
      "Median seeing for 2009 is 0.8746192925405927\n",
      "Median seeing for 2010 is 0.9820726135335525\n",
      "Median seeing for 2011 is 0.9325165225074862\n",
      "Median seeing for 2012 is 0.9089754251139952\n",
      "Median seeing for 2013 is 0.9361045079194369\n",
      "Median seeing for 2014 is 0.902367266143806\n",
      "Median seeing for 2015 is 0.9149721663862299\n",
      "Median seeing for 2016 is 0.9411731761554689\n",
      "Median seeing for 2017 is 0.8656835580917264\n",
      "Median seeing for 2018 is 1.0703111104464562\n"
     ]
    }
   ],
   "source": [
    "yearly_median = []\n",
    "for i in range(2003, 2019):\n",
    "    year = str(i)\n",
    "    med = fixed[year]['seeing'].median()\n",
    "    print(f\"Median seeing for {year} is {med}\")\n",
    "    yearly_median.append(med)"
   ]
  },
  {
   "cell_type": "code",
   "execution_count": 15,
   "metadata": {},
   "outputs": [
    {
     "data": {
      "application/vnd.jupyter.widget-view+json": {
       "model_id": "8b5ac608462d485398beefffe2579c75",
       "version_major": 2,
       "version_minor": 0
      },
      "text/plain": [
       "FigureCanvasNbAgg()"
      ]
     },
     "metadata": {},
     "output_type": "display_data"
    }
   ],
   "source": [
    "plt.scatter(range(2003, 2019), yearly_median)\n",
    "plt.title(\"Median Seeing by Year\")\n",
    "plt.xlabel(\"Year\")\n",
    "plt.ylabel(\"Seeing (arcsec)\")\n",
    "plt.savefig(\"yearly_median.pdf\")\n",
    "plt.show()"
   ]
  },
  {
   "cell_type": "code",
   "execution_count": 16,
   "metadata": {},
   "outputs": [],
   "source": [
    "# now use the between_time() method to split the data into first and second halves of the night.\n",
    "first_half = fixed.between_time(start_time='00:00', end_time='07:00')\n",
    "second_half = fixed.between_time(start_time='07:00', end_time='14:00')\n",
    "#first_half = months['December'].between_time(start_time='00:00', end_time='07:00')\n",
    "#second_half = months['December'].between_time(start_time='07:00', end_time='14:00')\n",
    "med_1st = np.median(first_half['seeing'])\n",
    "med_2nd = np.median(second_half['seeing'])"
   ]
  },
  {
   "cell_type": "code",
   "execution_count": 17,
   "metadata": {},
   "outputs": [
    {
     "data": {
      "application/vnd.jupyter.widget-view+json": {
       "model_id": "4d9eb44ea0f547f19214718fe6a66c62",
       "version_major": 2,
       "version_minor": 0
      },
      "text/plain": [
       "FigureCanvasNbAgg()"
      ]
     },
     "metadata": {},
     "output_type": "display_data"
    }
   ],
   "source": [
    "# plot the results and show that the seeing is better later in the night...\n",
    "plt.hist(first_half['seeing'], bins=100, range=(0.0, 4.0), label=\"1st\", alpha=0.6)\n",
    "plt.hist(second_half['seeing'], bins=100, range=(0.0, 4.0), label=\"2nd\", alpha=0.6)\n",
    "plt.legend([\"1st Half: %.2f\\\"\" % med_1st, \"2nd Half: %.2f\\\"\" % med_2nd])\n",
    "plt.xlabel(\"Seeing (arcsec)\")\n",
    "plt.ylabel(\"N\")\n",
    "#plt.title(\"Data and median seeing values grouped by half of the night\")\n",
    "plt.savefig(\"half_nights.pdf\")\n",
    "plt.show()"
   ]
  },
  {
   "cell_type": "code",
   "execution_count": 18,
   "metadata": {},
   "outputs": [
    {
     "data": {
      "text/plain": [
       "(['01', '02', '03', '04', '05', '06', '07', '08', '09', '10', '11', '12'],\n",
       " ['2003',\n",
       "  '2004',\n",
       "  '2005',\n",
       "  '2006',\n",
       "  '2007',\n",
       "  '2008',\n",
       "  '2009',\n",
       "  '2010',\n",
       "  '2011',\n",
       "  '2012',\n",
       "  '2013',\n",
       "  '2014',\n",
       "  '2015',\n",
       "  '2016',\n",
       "  '2017',\n",
       "  '2018'])"
      ]
     },
     "execution_count": 18,
     "metadata": {},
     "output_type": "execute_result"
    }
   ],
   "source": [
    "months = [\"{:02d}\".format(m) for m in range(1, 13)]\n",
    "years = [\"{:d}\".format(y) for y in range(2003, 2019)]\n",
    "months, years"
   ]
  },
  {
   "cell_type": "code",
   "execution_count": 42,
   "metadata": {},
   "outputs": [],
   "source": [
    "by_month = fixed.groupby([fixed.index.month]).median()"
   ]
  },
  {
   "cell_type": "code",
   "execution_count": 43,
   "metadata": {},
   "outputs": [
    {
     "data": {
      "text/plain": [
       "ut\n",
       "1     0.964212\n",
       "2     1.016021\n",
       "3     0.917360\n",
       "4     1.024068\n",
       "5     0.919977\n",
       "6     0.946994\n",
       "7     0.879885\n",
       "8     0.812653\n",
       "9     0.852961\n",
       "10    0.893412\n",
       "11    0.867227\n",
       "12    0.873610\n",
       "Name: seeing, dtype: float64"
      ]
     },
     "execution_count": 43,
     "metadata": {},
     "output_type": "execute_result"
    }
   ],
   "source": [
    "by_month['seeing']"
   ]
  },
  {
   "cell_type": "code",
   "execution_count": 53,
   "metadata": {},
   "outputs": [],
   "source": [
    "month_sizes = [len(g[1]) for g in fixed.groupby([fixed.index.month]).groups.items()]"
   ]
  },
  {
   "cell_type": "code",
   "execution_count": 21,
   "metadata": {},
   "outputs": [
    {
     "data": {
      "application/vnd.jupyter.widget-view+json": {
       "model_id": "6ed75905839e4739a69e6880b737935f",
       "version_major": 2,
       "version_minor": 0
      },
      "text/plain": [
       "FigureCanvasNbAgg()"
      ]
     },
     "metadata": {},
     "output_type": "display_data"
    }
   ],
   "source": [
    "mnames = ['Jan', 'Feb', 'Mar', 'Apr', 'May', 'Jun', 'Jul', 'Aug', 'Sep', 'Oct', 'Nov', 'Dec']\n",
    "fig, ax = plt.subplots()\n",
    "x = range(12)\n",
    "ax.scatter(x, by_month['seeing'])\n",
    "ax.set_xticks(x)\n",
    "ax.set_xticklabels(mnames, rotation=45)\n",
    "ax.set_ylabel(\"Median Seeing (arcsec)\")\n",
    "plt.savefig(\"monthly_median.pdf\")\n",
    "plt.show()"
   ]
  },
  {
   "cell_type": "code",
   "execution_count": 57,
   "metadata": {},
   "outputs": [
    {
     "data": {
      "application/vnd.jupyter.widget-view+json": {
       "model_id": "82be82edc0ca460d848fd647087360ad",
       "version_major": 2,
       "version_minor": 0
      },
      "text/plain": [
       "FigureCanvasNbAgg()"
      ]
     },
     "metadata": {},
     "output_type": "display_data"
    }
   ],
   "source": [
    "fig, ax = plt.subplots()\n",
    "x = range(12)\n",
    "plt.bar(x, month_sizes)\n",
    "ax.set_xticks(x)\n",
    "ax.set_xticklabels(mnames, rotation=45)\n",
    "ax.set_ylabel(\"Samples per Month\")\n",
    "plt.savefig(\"monthly_samples.pdf\")\n",
    "plt.show()"
   ]
  },
  {
   "cell_type": "code",
   "execution_count": 22,
   "metadata": {},
   "outputs": [],
   "source": [
    "bino1_dir = Path(\"/Users/tim/MMT/bino/GDR1\")\n",
    "bino2_dir = Path(\"/Users/tim/MMT/bino/GDR2\")\n",
    "dfs = []\n",
    "for c in bino1_dir.glob(\"*.csv.gz\"):\n",
    "    df = pd.read_csv(c)\n",
    "    dfs.append(df)\n",
    "bino1 = pd.concat(dfs)\n",
    "\n",
    "dfs = []\n",
    "for c in bino2_dir.glob(\"*.csv.gz\"):\n",
    "    df = pd.read_csv(c)\n",
    "    dfs.append(df)\n",
    "bino2 = pd.concat(dfs)"
   ]
  },
  {
   "cell_type": "code",
   "execution_count": 23,
   "metadata": {},
   "outputs": [
    {
     "name": "stderr",
     "output_type": "stream",
     "text": [
      "/Users/tim/conda/envs/py36/lib/python3.6/site-packages/ipykernel_launcher.py:1: FutureWarning: Series.data is deprecated and will be removed in a future version\n",
      "  \"\"\"Entry point for launching an IPython kernel.\n",
      "/Users/tim/conda/envs/py36/lib/python3.6/site-packages/ipykernel_launcher.py:2: FutureWarning: Series.data is deprecated and will be removed in a future version\n",
      "  \n"
     ]
    }
   ],
   "source": [
    "bino1['airmass'] = 1.0 / np.cos((90. - bino1['EL']).data*u.deg)\n",
    "bino2['airmass'] = 1.0 / np.cos((90. - bino2['EL']).data*u.deg)\n",
    "bino1['seeing'] = bino1['gauss_fwhm'] / bino1['airmass']**0.6\n",
    "bino2['seeing'] = bino2['gauss_fwhm'] / bino2['airmass']**0.6\n",
    "bino1['mseeing'] = bino1['moffat_fwhm'] / bino1['airmass']**0.6\n",
    "bino2['mseeing'] = bino2['moffat_fwhm'] / bino2['airmass']**0.6"
   ]
  },
  {
   "cell_type": "code",
   "execution_count": 24,
   "metadata": {},
   "outputs": [],
   "source": [
    "#fixed = fixed.set_index(pd.DatetimeIndex(fixed['obstime'], name='ut'))\n",
    "bino1_t = bino1.set_index(pd.DatetimeIndex(bino1['DATE-OBS'], name='ut'))\n",
    "bino2_t = bino2.set_index(pd.DatetimeIndex(bino2['DATE-OBS'], name='ut'))"
   ]
  },
  {
   "cell_type": "code",
   "execution_count": 177,
   "metadata": {},
   "outputs": [],
   "source": [
    "#bino1 = bino1[bino1['flux'] > 100.]\n",
    "#bino2 = bino2[bino2['flux'] > 100.]"
   ]
  },
  {
   "cell_type": "code",
   "execution_count": 25,
   "metadata": {},
   "outputs": [
    {
     "name": "stderr",
     "output_type": "stream",
     "text": [
      "/Users/tim/conda/envs/py36/lib/python3.6/site-packages/numpy/lib/function_base.py:748: RuntimeWarning: invalid value encountered in greater_equal\n",
      "  keep = (tmp_a >= mn)\n",
      "/Users/tim/conda/envs/py36/lib/python3.6/site-packages/numpy/lib/function_base.py:749: RuntimeWarning: invalid value encountered in less_equal\n",
      "  keep &= (tmp_a <= mx)\n"
     ]
    },
    {
     "data": {
      "application/vnd.jupyter.widget-view+json": {
       "model_id": "63c210b2f2bc4679a6f26378fe3f749d",
       "version_major": 2,
       "version_minor": 0
      },
      "text/plain": [
       "FigureCanvasNbAgg()"
      ]
     },
     "metadata": {},
     "output_type": "display_data"
    }
   ],
   "source": [
    "plt.hist(bino1_t['seeing'], bins=100, range=(0.0, 4.0), label=\"Gaussian\", alpha=0.6)\n",
    "plt.hist(bino1_t['mseeing'], bins=100, range=(0.0, 4.0), label=\"Moffat\", alpha=0.6)\n",
    "plt.legend([\"Gaussian: %.2f\\\"\" % np.nanmedian(bino1_t['seeing']), \"Moffat: %.2f\\\"\" % np.nanmedian(bino1_t['mseeing'])])\n",
    "plt.xlabel(\"Seeing (arcsec)\")\n",
    "plt.ylabel(\"N\")\n",
    "#plt.title(\"Data and median seeing values grouped by half of the night\")\n",
    "plt.savefig(\"gauss_v_moffat.pdf\")\n",
    "plt.show()"
   ]
  },
  {
   "cell_type": "code",
   "execution_count": 26,
   "metadata": {},
   "outputs": [
    {
     "name": "stderr",
     "output_type": "stream",
     "text": [
      "/Users/tim/conda/envs/py36/lib/python3.6/site-packages/numpy/lib/function_base.py:748: RuntimeWarning: invalid value encountered in greater_equal\n",
      "  keep = (tmp_a >= mn)\n",
      "/Users/tim/conda/envs/py36/lib/python3.6/site-packages/numpy/lib/function_base.py:749: RuntimeWarning: invalid value encountered in less_equal\n",
      "  keep &= (tmp_a <= mx)\n"
     ]
    },
    {
     "data": {
      "application/vnd.jupyter.widget-view+json": {
       "model_id": "438c197184674855b436f6cef1f36f6d",
       "version_major": 2,
       "version_minor": 0
      },
      "text/plain": [
       "FigureCanvasNbAgg()"
      ]
     },
     "metadata": {},
     "output_type": "display_data"
    }
   ],
   "source": [
    "plt.hist(bino1_t['mseeing'], bins=100, range=(0.0, 4.0), label=\"Camera #1\", alpha=0.6)\n",
    "plt.hist(bino2_t['mseeing'], bins=100, range=(0.0, 4.0), label=\"Camera #2\", alpha=0.6)\n",
    "plt.legend([\"Camera #1: %.2f\\\"\" % np.nanmedian(bino1_t['mseeing']), \"Camera #2: %.2f\\\"\" % np.nanmedian(bino2_t['mseeing'])])\n",
    "#plt.legend()\n",
    "plt.xlabel(\"Seeing (arcsec)\")\n",
    "plt.ylabel(\"N\")\n",
    "#plt.title(\"Data and median seeing values grouped by half of the night\")\n",
    "plt.savefig(\"gdr1_v_gdr2.pdf\")\n",
    "plt.show()"
   ]
  },
  {
   "cell_type": "code",
   "execution_count": 27,
   "metadata": {},
   "outputs": [],
   "source": [
    "bino_wfs = fixed[fixed['wfskey'].str.contains('binospec')]\n",
    "bino2018 = bino_wfs['2018']"
   ]
  },
  {
   "cell_type": "code",
   "execution_count": 28,
   "metadata": {},
   "outputs": [
    {
     "name": "stderr",
     "output_type": "stream",
     "text": [
      "/Users/tim/conda/envs/py36/lib/python3.6/site-packages/numpy/lib/function_base.py:748: RuntimeWarning: invalid value encountered in greater_equal\n",
      "  keep = (tmp_a >= mn)\n",
      "/Users/tim/conda/envs/py36/lib/python3.6/site-packages/numpy/lib/function_base.py:749: RuntimeWarning: invalid value encountered in less_equal\n",
      "  keep &= (tmp_a <= mx)\n"
     ]
    },
    {
     "data": {
      "application/vnd.jupyter.widget-view+json": {
       "model_id": "a14fa3b7b6864c4798f15af9808fc010",
       "version_major": 2,
       "version_minor": 0
      },
      "text/plain": [
       "FigureCanvasNbAgg()"
      ]
     },
     "metadata": {},
     "output_type": "display_data"
    }
   ],
   "source": [
    "plt.hist(bino2018['seeing'], bins=100, range=(0.0, 4.0), density=True, label=\"WFS\", alpha=0.6)\n",
    "plt.hist(bino2_t['mseeing'], bins=100, range=(0.0, 4.0), density=True, label=\"Guider\", alpha=0.6)\n",
    "plt.legend([\"WFS: %.2f\\\"\" % np.nanmedian(bino2018['seeing']), \"Guider: %.2f\\\"\" % np.nanmedian(bino2_t['mseeing'])])\n",
    "#plt.legend()\n",
    "plt.xlabel(\"Seeing (arcsec)\")\n",
    "plt.ylabel(\"Number Density\")\n",
    "#plt.title(\"Data and median seeing values grouped by half of the night\")\n",
    "plt.savefig(\"wfs_v_gdr.pdf\")\n",
    "plt.show()"
   ]
  },
  {
   "cell_type": "code",
   "execution_count": 29,
   "metadata": {},
   "outputs": [
    {
     "data": {
      "text/plain": [
       "(38.892494205740775, 1.5120392333396819)"
      ]
     },
     "execution_count": 29,
     "metadata": {},
     "output_type": "execute_result"
    }
   ],
   "source": [
    "bino2018['EXPTIME'].mean(), bino2_t['EXPTIME'].mean()"
   ]
  },
  {
   "cell_type": "code",
   "execution_count": 35,
   "metadata": {},
   "outputs": [
    {
     "data": {
      "application/vnd.jupyter.widget-view+json": {
       "model_id": "f13e48fcf80f4d8eb44fa53f169e88a9",
       "version_major": 2,
       "version_minor": 0
      },
      "text/plain": [
       "FigureCanvasNbAgg()"
      ]
     },
     "metadata": {},
     "output_type": "display_data"
    }
   ],
   "source": [
    "# make a new data frame that resamples the WFS data daily into the median, min, and max seeing for each month.\n",
    "fig, ax = plt.subplots()\n",
    "daily = pd.DataFrame()\n",
    "daily['seeing'] = fixed.seeing.resample('M').median()\n",
    "daily['max'] = fixed.seeing.resample('M').max()\n",
    "daily['min'] = fixed.seeing.resample('M').min()\n",
    "lowb = daily['seeing'] - daily['min']\n",
    "upb = daily['max'] - daily['seeing']\n",
    "#plt.errorbar(daily.index, daily['seeing'], yerr=[lowb, upb], fmt='o')\n",
    "plt.scatter(daily.index, daily['seeing'])\n",
    "labels = ax.get_xticklabels()\n",
    "plt.setp(labels, rotation=20, fontsize=8, ha='right')\n",
    "plt.ylabel(\"Seeing (arcsec)\")\n",
    "plt.title(\"Monthly median seeing\")\n",
    "plt.savefig(\"monthly_median.pdf\")\n",
    "plt.show()"
   ]
  },
  {
   "cell_type": "code",
   "execution_count": 76,
   "metadata": {},
   "outputs": [],
   "source": [
    "hourly_medians = []\n",
    "times = []\n",
    "hourly_sizes = []\n",
    "for h in range(1, 13):\n",
    "    stime = \"{:02d}:00\".format(h)\n",
    "    mtime = \"{:02d}:30\".format(h)\n",
    "    etime = \"{:02d}:00\".format(h+1)\n",
    "    tslice = fixed.between_time(start_time=stime, end_time=etime)\n",
    "    med = np.median(tslice['seeing'])\n",
    "    hourly_medians.append(med)\n",
    "    hourly_sizes.append(len(tslice))\n",
    "    times.append(mtime)"
   ]
  },
  {
   "cell_type": "code",
   "execution_count": 77,
   "metadata": {},
   "outputs": [
    {
     "data": {
      "text/plain": [
       "([0.93909991575243523,\n",
       "  0.96894566659421411,\n",
       "  0.93584462012493286,\n",
       "  0.97538610412180982,\n",
       "  0.94192780707025137,\n",
       "  0.90825577335575924,\n",
       "  0.91099219898087158,\n",
       "  0.91116620071644372,\n",
       "  0.90229965986625493,\n",
       "  0.89923105494991185,\n",
       "  0.88155961992149767,\n",
       "  0.86716906170902464],\n",
       " [7665,\n",
       "  11481,\n",
       "  13754,\n",
       "  11453,\n",
       "  12736,\n",
       "  12690,\n",
       "  11525,\n",
       "  11129,\n",
       "  10511,\n",
       "  9074,\n",
       "  6191,\n",
       "  2572])"
      ]
     },
     "execution_count": 77,
     "metadata": {},
     "output_type": "execute_result"
    }
   ],
   "source": [
    "hourly_medians, hourly_sizes"
   ]
  },
  {
   "cell_type": "code",
   "execution_count": 78,
   "metadata": {},
   "outputs": [
    {
     "name": "stderr",
     "output_type": "stream",
     "text": [
      "/Users/tim/conda/envs/py36/lib/python3.6/site-packages/matplotlib/pyplot.py:537: RuntimeWarning: More than 20 figures have been opened. Figures created through the pyplot interface (`matplotlib.pyplot.figure`) are retained until explicitly closed and may consume too much memory. (To control this warning, see the rcParam `figure.max_open_warning`).\n",
      "  max_open_warning, RuntimeWarning)\n"
     ]
    },
    {
     "data": {
      "application/vnd.jupyter.widget-view+json": {
       "model_id": "8410800393f84a9ca0141cad6cec1661",
       "version_major": 2,
       "version_minor": 0
      },
      "text/plain": [
       "FigureCanvasNbAgg()"
      ]
     },
     "metadata": {},
     "output_type": "display_data"
    }
   ],
   "source": [
    "fig, ax = plt.subplots()\n",
    "x = range(12)\n",
    "ax.scatter(x, hourly_medians)\n",
    "ax.set_xticks(x)\n",
    "ax.set_xticklabels(times, rotation=45)\n",
    "ax.set_ylabel(\"Median Seeing (arcsec)\")\n",
    "ax.set_title(\"Median Seeing vs. UT\")\n",
    "plt.savefig(\"hourly_median.pdf\")\n",
    "plt.show()"
   ]
  },
  {
   "cell_type": "code",
   "execution_count": 79,
   "metadata": {},
   "outputs": [
    {
     "name": "stderr",
     "output_type": "stream",
     "text": [
      "/Users/tim/conda/envs/py36/lib/python3.6/site-packages/matplotlib/pyplot.py:537: RuntimeWarning: More than 20 figures have been opened. Figures created through the pyplot interface (`matplotlib.pyplot.figure`) are retained until explicitly closed and may consume too much memory. (To control this warning, see the rcParam `figure.max_open_warning`).\n",
      "  max_open_warning, RuntimeWarning)\n"
     ]
    },
    {
     "data": {
      "application/vnd.jupyter.widget-view+json": {
       "model_id": "3af5074a06fd48c9874b0aaeaaaee1a7",
       "version_major": 2,
       "version_minor": 0
      },
      "text/plain": [
       "FigureCanvasNbAgg()"
      ]
     },
     "metadata": {},
     "output_type": "display_data"
    }
   ],
   "source": [
    "fig, ax = plt.subplots()\n",
    "x = range(12)\n",
    "plt.bar(x, hourly_sizes)\n",
    "ax.set_xticks(x)\n",
    "ax.set_xticklabels(times, rotation=45)\n",
    "ax.set_ylabel(\"Samples per Hour\")\n",
    "plt.savefig(\"hourly_samples.pdf\")\n",
    "plt.show()"
   ]
  },
  {
   "cell_type": "code",
   "execution_count": 80,
   "metadata": {},
   "outputs": [
    {
     "data": {
      "text/plain": [
       "(223288, 121483)"
      ]
     },
     "execution_count": 80,
     "metadata": {},
     "output_type": "execute_result"
    }
   ],
   "source": [
    "len(data), len(fixed)"
   ]
  },
  {
   "cell_type": "code",
   "execution_count": null,
   "metadata": {},
   "outputs": [],
   "source": []
  }
 ],
 "metadata": {
  "kernelspec": {
   "display_name": "Python 3",
   "language": "python",
   "name": "python3"
  },
  "language_info": {
   "codemirror_mode": {
    "name": "ipython",
    "version": 3
   },
   "file_extension": ".py",
   "mimetype": "text/x-python",
   "name": "python",
   "nbconvert_exporter": "python",
   "pygments_lexer": "ipython3",
   "version": "3.6.5"
  }
 },
 "nbformat": 4,
 "nbformat_minor": 2
}
