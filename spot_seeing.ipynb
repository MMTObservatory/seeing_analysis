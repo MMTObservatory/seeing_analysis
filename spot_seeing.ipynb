{
 "cells": [
  {
   "cell_type": "code",
   "execution_count": 1,
   "metadata": {},
   "outputs": [],
   "source": [
    "from datetime import datetime\n",
    "import traceback\n",
    "import functools\n",
    "import multiprocessing\n",
    "from multiprocessing import Pool\n",
    "\n",
    "import time\n",
    "import os\n",
    "import sys\n",
    "from pathlib import Path\n",
    "\n",
    "import numpy as np\n",
    "import scipy\n",
    "import pandas as pd\n",
    "import ipympl\n",
    "import matplotlib\n",
    "#matplotlib.use('nbagg')\n",
    "from matplotlib import style\n",
    "style.use('ggplot')\n",
    "import matplotlib.pyplot as plt\n",
    "\n",
    "%load_ext autoreload\n",
    "%autoreload 2\n",
    "\n",
    "from astropy import stats\n",
    "\n",
    "import pandas as pd\n",
    "\n",
    "import astropy.units as u\n",
    "from astropy.io import fits\n",
    "from astropy.coordinates import Angle\n",
    "from mmtwfs.wfs import WFSFactory"
   ]
  },
  {
   "cell_type": "code",
   "execution_count": 2,
   "metadata": {},
   "outputs": [],
   "source": [
    "# instantiate all of the WFS systems...\n",
    "wfs_keys = ['f9', 'newf9', 'f5', 'mmirs', 'binospec']\n",
    "wfs_systems = {}\n",
    "wfs_names = {}\n",
    "for w in wfs_keys:\n",
    "    wfs_systems[w] = WFSFactory(wfs=w)\n",
    "    wfs_names[w] = wfs_systems[w].name\n",
    "plt.close('all')\n",
    "\n",
    "# give mmirs a default\n",
    "wfs_systems['mmirs'].default_mode = 'mmirs1'\n",
    "\n",
    "# map f9 to oldf9\n",
    "wfs_systems['oldf9'] = wfs_systems['f9']"
   ]
  },
  {
   "cell_type": "code",
   "execution_count": 3,
   "metadata": {},
   "outputs": [],
   "source": [
    "def hist_compare(df1, df2, column, bins=100, mini=None, maxi=None):\n",
    "    f, (ax1, ax2) = plt.subplots(2, 1, sharex=True)\n",
    "    if mini is None:\n",
    "        mini = df1[column].min()\n",
    "    if maxi is None:\n",
    "        maxi = df1[column].max()\n",
    "    df1.hist(column=column, bins=bins, range=(mini, maxi), alpha=0.6, ax=ax1)\n",
    "    df2.hist(column=column, bins=bins, range=(mini, maxi), alpha=0.6, ax=ax2)\n",
    "    plt.xlabel(column)\n",
    "    plt.ylabel(\"N\")\n",
    "    f.show()"
   ]
  },
  {
   "cell_type": "code",
   "execution_count": 19,
   "metadata": {},
   "outputs": [],
   "source": [
    "def seeing(df, wfs):\n",
    "    \"\"\"\n",
    "    Given a sigma derived from a gaussian fit to a WFS spot, deconvolve the systematic width from the reference image\n",
    "    and relate the remainder to r_0 and thus a seeing FWHM.\n",
    "    \"\"\"\n",
    "    # the effective wavelength of the WFS imagers is about 600-650 nm. we use 650 nm to maintain consistency\n",
    "    # with the value used by the old SHWFS system.\n",
    "    wave = 550 * u.nm\n",
    "    wave = wave.to(u.m).value  # r_0 equation expects meters so convert\n",
    "    owave = 500 * u.nm\n",
    "    owave = owave.to(u.m).value\n",
    "    \n",
    "    mode = wfs.default_mode\n",
    "    \n",
    "    # calculate the physical size of each aperture.\n",
    "    ref = wfs.modes[mode]['reference']\n",
    "    apsize_pix = np.max((ref.xspacing, ref.yspacing))\n",
    "    d = wfs.telescope.diameter * apsize_pix / wfs.pup_size\n",
    "    d = d.to(u.m).value  # r_0 equation expects meters so convert\n",
    "\n",
    "    # we need to deconvolve the instrumental spot width from the measured one to get the portion of the width that\n",
    "    # is due to spot motion\n",
    "    ref_sigma = stats.funcs.gaussian_fwhm_to_sigma * ref.fwhm\n",
    "    sigma = stats.funcs.gaussian_fwhm_to_sigma * df['gauss_fwhm']\n",
    "    \n",
    "    corr_sigma = np.sqrt(sigma**2 - ref_sigma**2)\n",
    "    corr_sigma *= wfs.pix_size.to(u.rad).value  # r_0 equation expects radians so convert\n",
    "\n",
    "    # this equation relates the motion within a single aperture to the characteristic scale size of the\n",
    "    # turbulence, r_0.\n",
    "    r_0 = ( 0.179 * (wave**2) * (d**(-1/3))/corr_sigma**2 )**0.6\n",
    "\n",
    "    # this equation relates the turbulence scale size to an expected image FWHM at the given wavelength.\n",
    "    raw_seeing = u.Quantity(u.rad * 0.98 * owave / r_0, u.arcsec)\n",
    "\n",
    "    # correct seeing to zenith\n",
    "    seeing = raw_seeing / df['AIRMASS']**0.6\n",
    "\n",
    "    return raw_seeing, seeing"
   ]
  },
  {
   "cell_type": "code",
   "execution_count": 20,
   "metadata": {},
   "outputs": [],
   "source": [
    "columns = ['filename', 'obstime', 'wfskey', 'AIRMASS', 'AZ', 'EL', 'ellipticity', 'gauss_rms', 'moffat_rms', 'gauss_fwhm', 'moffat_fwhm', 'gauss_amplitude',\n",
    "           'moffat_amplitude', 'moffat_alpha', 'moffat_gamma']\n",
    "rootdir = Path(\"/Volumes/Seagate2TB/spot_analysis\")\n",
    "dirs = sorted(list(rootdir.glob(\"20*\")))  # pathlib, where have you been all my life!\n",
    "dataframes = []\n",
    "for d in dirs:\n",
    "    if d.is_dir():\n",
    "        mean_df = pd.read_csv(d / \"spot_reduce_mean.csv\")\n",
    "        wfs_df = pd.read_csv(d / \"wfskeys.csv\")\n",
    "        df = pd.merge(mean_df, wfs_df, on='filename')\n",
    "        dataframes.append(df)\n",
    "data = pd.concat(dataframes, sort=True)\n",
    "data['moment_fwhm'] = data['moment_fwhm'] * stats.gaussian_fwhm_to_sigma  # this looks like a photuils bug where sigma is actually fwhm and i applied correction i shouldn't have"
   ]
  },
  {
   "cell_type": "code",
   "execution_count": 21,
   "metadata": {},
   "outputs": [
    {
     "data": {
      "text/html": [
       "<div>\n",
       "<style scoped>\n",
       "    .dataframe tbody tr th:only-of-type {\n",
       "        vertical-align: middle;\n",
       "    }\n",
       "\n",
       "    .dataframe tbody tr th {\n",
       "        vertical-align: top;\n",
       "    }\n",
       "\n",
       "    .dataframe thead th {\n",
       "        text-align: right;\n",
       "    }\n",
       "</style>\n",
       "<table border=\"1\" class=\"dataframe\">\n",
       "  <thead>\n",
       "    <tr style=\"text-align: right;\">\n",
       "      <th></th>\n",
       "      <th>count</th>\n",
       "      <th>unique</th>\n",
       "      <th>top</th>\n",
       "      <th>freq</th>\n",
       "    </tr>\n",
       "    <tr>\n",
       "      <th>wfskey</th>\n",
       "      <th></th>\n",
       "      <th></th>\n",
       "      <th></th>\n",
       "      <th></th>\n",
       "    </tr>\n",
       "  </thead>\n",
       "  <tbody>\n",
       "    <tr>\n",
       "      <th>binospec</th>\n",
       "      <td>16996</td>\n",
       "      <td>1</td>\n",
       "      <td>binospec</td>\n",
       "      <td>16996</td>\n",
       "    </tr>\n",
       "    <tr>\n",
       "      <th>f5</th>\n",
       "      <td>100654</td>\n",
       "      <td>1</td>\n",
       "      <td>f5</td>\n",
       "      <td>100654</td>\n",
       "    </tr>\n",
       "    <tr>\n",
       "      <th>mmirs</th>\n",
       "      <td>49707</td>\n",
       "      <td>1</td>\n",
       "      <td>mmirs</td>\n",
       "      <td>49707</td>\n",
       "    </tr>\n",
       "    <tr>\n",
       "      <th>newf9</th>\n",
       "      <td>1803</td>\n",
       "      <td>1</td>\n",
       "      <td>newf9</td>\n",
       "      <td>1803</td>\n",
       "    </tr>\n",
       "    <tr>\n",
       "      <th>oldf9</th>\n",
       "      <td>54128</td>\n",
       "      <td>1</td>\n",
       "      <td>oldf9</td>\n",
       "      <td>54128</td>\n",
       "    </tr>\n",
       "  </tbody>\n",
       "</table>\n",
       "</div>"
      ],
      "text/plain": [
       "           count unique       top    freq\n",
       "wfskey                                   \n",
       "binospec   16996      1  binospec   16996\n",
       "f5        100654      1        f5  100654\n",
       "mmirs      49707      1     mmirs   49707\n",
       "newf9       1803      1     newf9    1803\n",
       "oldf9      54128      1     oldf9   54128"
      ]
     },
     "execution_count": 21,
     "metadata": {},
     "output_type": "execute_result"
    }
   ],
   "source": [
    "g = data.groupby('wfskey')\n",
    "g.wfskey.describe()"
   ]
  },
  {
   "cell_type": "code",
   "execution_count": 29,
   "metadata": {},
   "outputs": [
    {
     "name": "stderr",
     "output_type": "stream",
     "text": [
      "/Users/tim/conda/envs/py36/lib/python3.6/site-packages/ipykernel_launcher.py:26: RuntimeWarning: invalid value encountered in sqrt\n",
      "/Users/tim/conda/envs/py36/lib/python3.6/site-packages/ipykernel_launcher.py:7: SettingWithCopyWarning: \n",
      "A value is trying to be set on a copy of a slice from a DataFrame.\n",
      "Try using .loc[row_indexer,col_indexer] = value instead\n",
      "\n",
      "See the caveats in the documentation: http://pandas.pydata.org/pandas-docs/stable/indexing.html#indexing-view-versus-copy\n",
      "  import sys\n"
     ]
    }
   ],
   "source": [
    "# re-calculate the seeing using updated spot FWHM for binospec. filter out any NaN values...\n",
    "fixed_list = []\n",
    "for wfskey, group in g:\n",
    "    wfs = wfs_systems[wfskey]\n",
    "    group = g.get_group(wfskey)\n",
    "    #group.apply(seeing, axis=1, args=(wfs,))\n",
    "    group['raw_seeing'], group['seeing'] = seeing(group, wfs)\n",
    "    fixed_list.append(group)\n",
    "fixed = pd.concat(fixed_list)\n",
    "fixed = fixed[np.isfinite(fixed['seeing'])]\n",
    "fixed = fixed[fixed['gauss_amplitude'] > 10.]\n",
    "\n",
    "fixed = fixed[~fixed['filename'].str.contains(\"Ref\")]\n",
    "fixed = fixed[~fixed['filename'].str.contains(\"ref\")]\n",
    "fixed = fixed[~fixed['filename'].str.contains(\"back.fits\")]\n",
    "fixed = fixed[~fixed['filename'].str.contains(\"tmp.fits\")]\n",
    "fixed = fixed[fixed['seeing'] > 0.2]  # trim out reference or bogus images\n",
    "fixed = fixed[fixed['seeing'] < 5.]  # spot finding doesn't work for bad seeing where motion fills the aperture\n",
    "\n",
    "fixed = fixed[fixed['peak'] > 2500.]  # use only bright spots\n",
    "\n",
    "# create a date-time index so we can group and analyze the data by timestamps\n",
    "fixed = fixed.set_index(pd.DatetimeIndex(fixed['obstime'], name='ut'))"
   ]
  },
  {
   "cell_type": "code",
   "execution_count": 30,
   "metadata": {},
   "outputs": [
    {
     "data": {
      "application/vnd.jupyter.widget-view+json": {
       "model_id": "",
       "version_major": 2,
       "version_minor": 0
      },
      "text/plain": [
       "FigureCanvasNbAgg()"
      ]
     },
     "metadata": {},
     "output_type": "display_data"
    }
   ],
   "source": [
    "fixed.hist(column='ellipticity', bins=100, range=(0.0, 1.0), alpha=0.6)\n",
    "plt.title(\"Ellipticity\")\n",
    "plt.xlabel(\"e\")\n",
    "plt.ylabel(\"N\")\n",
    "plt.show()"
   ]
  },
  {
   "cell_type": "code",
   "execution_count": 31,
   "metadata": {},
   "outputs": [
    {
     "data": {
      "application/vnd.jupyter.widget-view+json": {
       "model_id": "",
       "version_major": 2,
       "version_minor": 0
      },
      "text/plain": [
       "FigureCanvasNbAgg()"
      ]
     },
     "metadata": {},
     "output_type": "display_data"
    }
   ],
   "source": [
    "# make raw histogram of the zenith-corrected seeing column\n",
    "fixed.hist(column='seeing', bins=100, range=(0.0, 5.0), alpha=0.6)\n",
    "plt.title(\"March 2003 through May 2018\")\n",
    "plt.xlabel(\"Seeing (arcsec)\")\n",
    "plt.ylabel(\"N\")\n",
    "plt.show()"
   ]
  },
  {
   "cell_type": "code",
   "execution_count": 32,
   "metadata": {},
   "outputs": [
    {
     "data": {
      "text/plain": [
       "121526"
      ]
     },
     "execution_count": 32,
     "metadata": {},
     "output_type": "execute_result"
    }
   ],
   "source": [
    "len(fixed)"
   ]
  },
  {
   "cell_type": "code",
   "execution_count": 33,
   "metadata": {},
   "outputs": [],
   "source": [
    "plt.close('all')"
   ]
  },
  {
   "cell_type": "code",
   "execution_count": 34,
   "metadata": {},
   "outputs": [
    {
     "name": "stdout",
     "output_type": "stream",
     "text": [
      "0.464922345053 0.13788246283 0.735357321241\n"
     ]
    }
   ],
   "source": [
    "# fit a log-normal distribution to the seeing data\n",
    "sigma, loc, exp_mu = scipy.stats.lognorm.fit(fixed['seeing'])\n",
    "print(sigma, loc, exp_mu)\n",
    "x = np.arange(0.0, 4.0, 0.01)\n",
    "p = scipy.stats.lognorm.pdf(x, sigma, loc=loc, scale=exp_mu)\n",
    "mu = np.log(exp_mu)\n",
    "mode = np.exp(mu - sigma**2) + loc\n",
    "median = np.nanmedian(fixed['seeing'])\n",
    "fit_median = exp_mu + loc"
   ]
  },
  {
   "cell_type": "code",
   "execution_count": 35,
   "metadata": {},
   "outputs": [
    {
     "data": {
      "application/vnd.jupyter.widget-view+json": {
       "model_id": "b5c02416c17842ec9a0f0975fbec5c00",
       "version_major": 2,
       "version_minor": 0
      },
      "text/plain": [
       "FigureCanvasNbAgg()"
      ]
     },
     "metadata": {},
     "output_type": "display_data"
    }
   ],
   "source": [
    "# plot normalized histogram with the fit and the median/mode calculated from the fit.\n",
    "plt.hist(fixed['seeing'], density=True, bins=100, range=(0.0, 4.0), label=\"hist\", alpha=0.6)\n",
    "logp = plt.plot(x, p, label=\"logp\")\n",
    "plt.xlabel(\"Seeing (arcsec)\")\n",
    "plt.ylabel(\"Number Density\")\n",
    "plt.title(\"March 2003 through May 2018\")\n",
    "plt.legend([\"median=%.2f\\\", mode=%.2f\\\"\" % (fit_median, mode), \"median=%.2f\\\"\" % (\n",
    "    median\n",
    ")])\n",
    "plt.savefig(\"all_seeing.pdf\")\n",
    "plt.show()"
   ]
  },
  {
   "cell_type": "code",
   "execution_count": 15,
   "metadata": {},
   "outputs": [
    {
     "name": "stdout",
     "output_type": "stream",
     "text": [
      "Median seeing for 2004 is 0.9147829424423\n",
      "Median seeing for 2005 is 0.8673004918976338\n",
      "Median seeing for 2006 is 0.8485604398722123\n",
      "Median seeing for 2007 is 0.9420881703619992\n",
      "Median seeing for 2008 is 0.8707950631404169\n",
      "Median seeing for 2009 is 0.8221425913378688\n",
      "Median seeing for 2010 is 0.9232630038098257\n",
      "Median seeing for 2011 is 0.8765445296404224\n",
      "Median seeing for 2012 is 0.8548792557440318\n",
      "Median seeing for 2013 is 0.8799431311418863\n",
      "Median seeing for 2014 is 0.8482458930693173\n",
      "Median seeing for 2015 is 0.8600815832798809\n",
      "Median seeing for 2016 is 0.8854704658997801\n",
      "Median seeing for 2017 is 0.8146719971515832\n"
     ]
    }
   ],
   "source": [
    "yearly_median = []\n",
    "for i in range(2004, 2018):\n",
    "    year = str(i)\n",
    "    med = fixed[year]['seeing'].median()\n",
    "    print(f\"Median seeing for {year} is {med}\")\n",
    "    yearly_median.append(med)"
   ]
  },
  {
   "cell_type": "code",
   "execution_count": 19,
   "metadata": {},
   "outputs": [
    {
     "data": {
      "application/vnd.jupyter.widget-view+json": {
       "model_id": "",
       "version_major": 2,
       "version_minor": 0
      },
      "text/plain": [
       "FigureCanvasNbAgg()"
      ]
     },
     "metadata": {},
     "output_type": "display_data"
    }
   ],
   "source": [
    "plt.scatter(range(2004, 2018), yearly_median)\n",
    "plt.title(\"Median Seeing by Year\")\n",
    "plt.xlabel(\"Year\")\n",
    "plt.ylabel(\"Seeing (arcsec)\")\n",
    "plt.ylim(0.5, 1.5)\n",
    "plt.savefig(\"yearly_median.pdf\")\n",
    "plt.show()"
   ]
  },
  {
   "cell_type": "code",
   "execution_count": 20,
   "metadata": {},
   "outputs": [],
   "source": [
    "# now use the between_time() method to split the data into first and second halves of the night.\n",
    "first_half = fixed.between_time(start_time='00:00', end_time='07:00')\n",
    "second_half = fixed.between_time(start_time='07:00', end_time='14:00')\n",
    "#first_half = months['December'].between_time(start_time='00:00', end_time='07:00')\n",
    "#second_half = months['December'].between_time(start_time='07:00', end_time='14:00')\n",
    "med_1st = np.median(first_half['seeing'])\n",
    "med_2nd = np.median(second_half['seeing'])"
   ]
  },
  {
   "cell_type": "code",
   "execution_count": 21,
   "metadata": {},
   "outputs": [
    {
     "data": {
      "application/vnd.jupyter.widget-view+json": {
       "model_id": "",
       "version_major": 2,
       "version_minor": 0
      },
      "text/plain": [
       "FigureCanvasNbAgg()"
      ]
     },
     "metadata": {},
     "output_type": "display_data"
    }
   ],
   "source": [
    "# plot the results and show that the seeing is better later in the night...\n",
    "plt.hist(first_half['seeing'], bins=100, range=(0.0, 4.0), label=\"1st\", alpha=0.6)\n",
    "plt.hist(second_half['seeing'], bins=100, range=(0.0, 4.0), label=\"2nd\", alpha=0.6)\n",
    "plt.legend([\"1st Half: %.2f\\\"\" % med_1st, \"2nd Half: %.2f\\\"\" % med_2nd])\n",
    "plt.xlabel(\"Seeing (arcsec)\")\n",
    "plt.ylabel(\"N\")\n",
    "#plt.title(\"Data and median seeing values grouped by half of the night\")\n",
    "plt.savefig(\"half_nights.pdf\")\n",
    "plt.show()"
   ]
  },
  {
   "cell_type": "code",
   "execution_count": 22,
   "metadata": {},
   "outputs": [
    {
     "data": {
      "text/plain": [
       "(['01', '02', '03', '04', '05', '06', '07', '08', '09', '10', '11', '12'],\n",
       " ['2003',\n",
       "  '2004',\n",
       "  '2005',\n",
       "  '2006',\n",
       "  '2007',\n",
       "  '2008',\n",
       "  '2009',\n",
       "  '2010',\n",
       "  '2011',\n",
       "  '2012',\n",
       "  '2013',\n",
       "  '2014',\n",
       "  '2015',\n",
       "  '2016',\n",
       "  '2017',\n",
       "  '2018'])"
      ]
     },
     "execution_count": 22,
     "metadata": {},
     "output_type": "execute_result"
    }
   ],
   "source": [
    "months = [\"{:02d}\".format(m) for m in range(1, 13)]\n",
    "years = [\"{:d}\".format(y) for y in range(2003, 2019)]\n",
    "months, years"
   ]
  },
  {
   "cell_type": "code",
   "execution_count": 23,
   "metadata": {},
   "outputs": [],
   "source": [
    "by_month = fixed.groupby([fixed.index.month]).median()"
   ]
  },
  {
   "cell_type": "code",
   "execution_count": 24,
   "metadata": {},
   "outputs": [
    {
     "data": {
      "text/plain": [
       "ut\n",
       "1     0.906379\n",
       "2     0.955259\n",
       "3     0.862584\n",
       "4     0.962720\n",
       "5     0.864881\n",
       "6     0.890816\n",
       "7     0.827072\n",
       "8     0.763875\n",
       "9     0.801844\n",
       "10    0.839930\n",
       "11    0.815623\n",
       "12    0.821637\n",
       "Name: seeing, dtype: float64"
      ]
     },
     "execution_count": 24,
     "metadata": {},
     "output_type": "execute_result"
    }
   ],
   "source": [
    "by_month['seeing']"
   ]
  },
  {
   "cell_type": "code",
   "execution_count": 25,
   "metadata": {},
   "outputs": [],
   "source": [
    "month_sizes = [len(g[1]) for g in fixed.groupby([fixed.index.month]).groups.items()]"
   ]
  },
  {
   "cell_type": "code",
   "execution_count": 67,
   "metadata": {},
   "outputs": [
    {
     "name": "stderr",
     "output_type": "stream",
     "text": [
      "/Users/tim/conda/envs/py36/lib/python3.6/site-packages/matplotlib/pyplot.py:537: RuntimeWarning: More than 20 figures have been opened. Figures created through the pyplot interface (`matplotlib.pyplot.figure`) are retained until explicitly closed and may consume too much memory. (To control this warning, see the rcParam `figure.max_open_warning`).\n",
      "  max_open_warning, RuntimeWarning)\n"
     ]
    },
    {
     "data": {
      "application/vnd.jupyter.widget-view+json": {
       "model_id": "",
       "version_major": 2,
       "version_minor": 0
      },
      "text/plain": [
       "FigureCanvasNbAgg()"
      ]
     },
     "metadata": {},
     "output_type": "display_data"
    }
   ],
   "source": [
    "mnames = ['Jan', 'Feb', 'Mar', 'Apr', 'May', 'Jun', 'Jul', 'Aug', 'Sep', 'Oct', 'Nov', 'Dec']\n",
    "fig, ax = plt.subplots()\n",
    "x = range(12)\n",
    "ax.scatter(x, by_month['seeing'])\n",
    "ax.set_xticks(x)\n",
    "ax.set_xticklabels(mnames, rotation=45)\n",
    "ax.set_ylabel(\"Median Seeing (arcsec)\")\n",
    "ax.set_ylim(0.5, 1.5)\n",
    "plt.savefig(\"monthly_median.pdf\")\n",
    "plt.show()"
   ]
  },
  {
   "cell_type": "code",
   "execution_count": 28,
   "metadata": {},
   "outputs": [
    {
     "data": {
      "application/vnd.jupyter.widget-view+json": {
       "model_id": "",
       "version_major": 2,
       "version_minor": 0
      },
      "text/plain": [
       "FigureCanvasNbAgg()"
      ]
     },
     "metadata": {},
     "output_type": "display_data"
    }
   ],
   "source": [
    "fig, ax = plt.subplots()\n",
    "x = range(12)\n",
    "plt.bar(x, month_sizes)\n",
    "ax.set_xticks(x)\n",
    "ax.set_xticklabels(mnames, rotation=45)\n",
    "ax.set_ylabel(\"Samples per Month\")\n",
    "plt.savefig(\"monthly_samples.pdf\")\n",
    "plt.show()"
   ]
  },
  {
   "cell_type": "code",
   "execution_count": 29,
   "metadata": {},
   "outputs": [],
   "source": [
    "bino1_dir = Path(\"/Users/tim/MMT/bino/GDR1\")\n",
    "bino2_dir = Path(\"/Users/tim/MMT/bino/GDR2\")\n",
    "dfs = []\n",
    "for c in bino1_dir.glob(\"*.csv.gz\"):\n",
    "    df = pd.read_csv(c)\n",
    "    dfs.append(df)\n",
    "bino1 = pd.concat(dfs)\n",
    "\n",
    "dfs = []\n",
    "for c in bino2_dir.glob(\"*.csv.gz\"):\n",
    "    df = pd.read_csv(c)\n",
    "    dfs.append(df)\n",
    "bino2 = pd.concat(dfs)"
   ]
  },
  {
   "cell_type": "code",
   "execution_count": 30,
   "metadata": {},
   "outputs": [
    {
     "name": "stderr",
     "output_type": "stream",
     "text": [
      "/Users/tim/conda/envs/py36/lib/python3.6/site-packages/ipykernel_launcher.py:1: FutureWarning: Series.data is deprecated and will be removed in a future version\n",
      "  \"\"\"Entry point for launching an IPython kernel.\n",
      "/Users/tim/conda/envs/py36/lib/python3.6/site-packages/ipykernel_launcher.py:2: FutureWarning: Series.data is deprecated and will be removed in a future version\n",
      "  \n"
     ]
    }
   ],
   "source": [
    "bino1['airmass'] = 1.0 / np.cos((90. - bino1['EL']).data*u.deg)\n",
    "bino2['airmass'] = 1.0 / np.cos((90. - bino2['EL']).data*u.deg)\n",
    "bino1['seeing'] = bino1['gauss_fwhm'] / bino1['airmass']**0.6\n",
    "bino2['seeing'] = bino2['gauss_fwhm'] / bino2['airmass']**0.6\n",
    "bino1['mseeing'] = bino1['moffat_fwhm'] / bino1['airmass']**0.6\n",
    "bino2['mseeing'] = bino2['moffat_fwhm'] / bino2['airmass']**0.6"
   ]
  },
  {
   "cell_type": "code",
   "execution_count": 31,
   "metadata": {},
   "outputs": [],
   "source": [
    "#fixed = fixed.set_index(pd.DatetimeIndex(fixed['obstime'], name='ut'))\n",
    "bino1_t = bino1.set_index(pd.DatetimeIndex(bino1['DATE-OBS'], name='ut'))\n",
    "bino2_t = bino2.set_index(pd.DatetimeIndex(bino2['DATE-OBS'], name='ut'))"
   ]
  },
  {
   "cell_type": "code",
   "execution_count": 32,
   "metadata": {},
   "outputs": [
    {
     "name": "stderr",
     "output_type": "stream",
     "text": [
      "/Users/tim/conda/envs/py36/lib/python3.6/site-packages/numpy/lib/function_base.py:748: RuntimeWarning: invalid value encountered in greater_equal\n",
      "  keep = (tmp_a >= mn)\n",
      "/Users/tim/conda/envs/py36/lib/python3.6/site-packages/numpy/lib/function_base.py:749: RuntimeWarning: invalid value encountered in less_equal\n",
      "  keep &= (tmp_a <= mx)\n"
     ]
    },
    {
     "data": {
      "application/vnd.jupyter.widget-view+json": {
       "model_id": "",
       "version_major": 2,
       "version_minor": 0
      },
      "text/plain": [
       "FigureCanvasNbAgg()"
      ]
     },
     "metadata": {},
     "output_type": "display_data"
    }
   ],
   "source": [
    "plt.hist(bino1_t['seeing'], bins=100, range=(0.0, 4.0), label=\"Gaussian\", alpha=0.6)\n",
    "plt.hist(bino1_t['mseeing'], bins=100, range=(0.0, 4.0), label=\"Moffat\", alpha=0.6)\n",
    "plt.legend([\"Gaussian: %.2f\\\"\" % np.nanmedian(bino1_t['seeing']), \"Moffat: %.2f\\\"\" % np.nanmedian(bino1_t['mseeing'])])\n",
    "plt.xlabel(\"Seeing (arcsec)\")\n",
    "plt.ylabel(\"N\")\n",
    "#plt.title(\"Data and median seeing values grouped by half of the night\")\n",
    "plt.savefig(\"gauss_v_moffat.pdf\")\n",
    "plt.show()"
   ]
  },
  {
   "cell_type": "code",
   "execution_count": 33,
   "metadata": {},
   "outputs": [
    {
     "name": "stderr",
     "output_type": "stream",
     "text": [
      "/Users/tim/conda/envs/py36/lib/python3.6/site-packages/numpy/lib/function_base.py:748: RuntimeWarning: invalid value encountered in greater_equal\n",
      "  keep = (tmp_a >= mn)\n",
      "/Users/tim/conda/envs/py36/lib/python3.6/site-packages/numpy/lib/function_base.py:749: RuntimeWarning: invalid value encountered in less_equal\n",
      "  keep &= (tmp_a <= mx)\n"
     ]
    },
    {
     "data": {
      "application/vnd.jupyter.widget-view+json": {
       "model_id": "",
       "version_major": 2,
       "version_minor": 0
      },
      "text/plain": [
       "FigureCanvasNbAgg()"
      ]
     },
     "metadata": {},
     "output_type": "display_data"
    }
   ],
   "source": [
    "plt.hist(bino1_t['mseeing'], bins=100, range=(0.0, 4.0), label=\"Camera #1\", alpha=0.6)\n",
    "plt.hist(bino2_t['mseeing'], bins=100, range=(0.0, 4.0), label=\"Camera #2\", alpha=0.6)\n",
    "plt.legend([\"Camera #1: %.2f\\\"\" % np.nanmedian(bino1_t['mseeing']), \"Camera #2: %.2f\\\"\" % np.nanmedian(bino2_t['mseeing'])])\n",
    "#plt.legend()\n",
    "plt.xlabel(\"Seeing (arcsec)\")\n",
    "plt.ylabel(\"N\")\n",
    "#plt.title(\"Data and median seeing values grouped by half of the night\")\n",
    "plt.savefig(\"gdr1_v_gdr2.pdf\")\n",
    "plt.show()"
   ]
  },
  {
   "cell_type": "code",
   "execution_count": 34,
   "metadata": {},
   "outputs": [],
   "source": [
    "bino_wfs = fixed[fixed['wfskey'].str.contains('binospec')]\n",
    "bino2018 = bino_wfs['2018']"
   ]
  },
  {
   "cell_type": "code",
   "execution_count": 36,
   "metadata": {},
   "outputs": [
    {
     "data": {
      "application/vnd.jupyter.widget-view+json": {
       "model_id": "",
       "version_major": 2,
       "version_minor": 0
      },
      "text/plain": [
       "FigureCanvasNbAgg()"
      ]
     },
     "metadata": {},
     "output_type": "display_data"
    }
   ],
   "source": [
    "plt.hist(bino2018['seeing'], bins=100, range=(0.0, 4.0), density=True, label=\"WFS\", alpha=0.6)\n",
    "plt.hist(bino2_t['seeing'], bins=100, range=(0.0, 4.0), density=True, label=\"Guider\", alpha=0.6)\n",
    "plt.legend([\"WFS: %.2f\\\"\" % np.nanmedian(bino2018['seeing']), \"Guider: %.2f\\\"\" % np.nanmedian(bino2_t['seeing'])])\n",
    "#plt.legend()\n",
    "plt.xlabel(\"Seeing (arcsec)\")\n",
    "plt.ylabel(\"Number Density\")\n",
    "#plt.title(\"Data and median seeing values grouped by half of the night\")\n",
    "plt.savefig(\"wfs_v_gdr.pdf\")\n",
    "plt.show()"
   ]
  },
  {
   "cell_type": "code",
   "execution_count": 37,
   "metadata": {},
   "outputs": [
    {
     "data": {
      "text/plain": [
       "(38.892494205740775, 1.5120392333396819)"
      ]
     },
     "execution_count": 37,
     "metadata": {},
     "output_type": "execute_result"
    }
   ],
   "source": [
    "bino2018['EXPTIME'].mean(), bino2_t['EXPTIME'].mean()"
   ]
  },
  {
   "cell_type": "code",
   "execution_count": 39,
   "metadata": {},
   "outputs": [
    {
     "data": {
      "application/vnd.jupyter.widget-view+json": {
       "model_id": "",
       "version_major": 2,
       "version_minor": 0
      },
      "text/plain": [
       "FigureCanvasNbAgg()"
      ]
     },
     "metadata": {},
     "output_type": "display_data"
    }
   ],
   "source": [
    "# make a new data frame that resamples the WFS data daily into the median, min, and max seeing for each month.\n",
    "fig, ax = plt.subplots()\n",
    "daily = pd.DataFrame()\n",
    "daily['seeing'] = fixed.seeing.resample('M').median()\n",
    "daily['max'] = fixed.seeing.resample('M').max()\n",
    "daily['min'] = fixed.seeing.resample('M').min()\n",
    "lowb = daily['seeing'] - daily['min']\n",
    "upb = daily['max'] - daily['seeing']\n",
    "#plt.errorbar(daily.index, daily['seeing'], yerr=[lowb, upb], fmt='o')\n",
    "plt.scatter(daily.index, daily['seeing'])\n",
    "labels = ax.get_xticklabels()\n",
    "plt.setp(labels, rotation=20, fontsize=8, ha='right')\n",
    "plt.ylabel(\"Seeing (arcsec)\")\n",
    "plt.title(\"Median Seeing by Month\")\n",
    "plt.savefig(\"monthly_median.pdf\")\n",
    "plt.show()"
   ]
  },
  {
   "cell_type": "code",
   "execution_count": 40,
   "metadata": {},
   "outputs": [],
   "source": [
    "hourly_medians = []\n",
    "times = []\n",
    "hourly_sizes = []\n",
    "for h in range(1, 13):\n",
    "    stime = \"{:02d}:00\".format(h)\n",
    "    mtime = \"{:02d}:30\".format(h)\n",
    "    etime = \"{:02d}:00\".format(h+1)\n",
    "    tslice = fixed.between_time(start_time=stime, end_time=etime)\n",
    "    med = np.median(tslice['seeing'])\n",
    "    hourly_medians.append(med)\n",
    "    hourly_sizes.append(len(tslice))\n",
    "    times.append(mtime)"
   ]
  },
  {
   "cell_type": "code",
   "execution_count": 41,
   "metadata": {},
   "outputs": [
    {
     "data": {
      "text/plain": [
       "([0.88295897782304011,\n",
       "  0.9116116830832488,\n",
       "  0.88039964017880268,\n",
       "  0.91714198756608578,\n",
       "  0.88559538180614439,\n",
       "  0.85404149514943295,\n",
       "  0.85646935724899143,\n",
       "  0.85672448039685167,\n",
       "  0.84823477982966822,\n",
       "  0.84525693976945426,\n",
       "  0.82864618882704588,\n",
       "  0.81592869290404924],\n",
       " [7665,\n",
       "  11487,\n",
       "  13763,\n",
       "  11462,\n",
       "  12739,\n",
       "  12697,\n",
       "  11535,\n",
       "  11129,\n",
       "  10512,\n",
       "  9074,\n",
       "  6191,\n",
       "  2570])"
      ]
     },
     "execution_count": 41,
     "metadata": {},
     "output_type": "execute_result"
    }
   ],
   "source": [
    "hourly_medians, hourly_sizes"
   ]
  },
  {
   "cell_type": "code",
   "execution_count": 42,
   "metadata": {},
   "outputs": [
    {
     "data": {
      "application/vnd.jupyter.widget-view+json": {
       "model_id": "",
       "version_major": 2,
       "version_minor": 0
      },
      "text/plain": [
       "FigureCanvasNbAgg()"
      ]
     },
     "metadata": {},
     "output_type": "display_data"
    }
   ],
   "source": [
    "fig, ax = plt.subplots()\n",
    "x = range(12)\n",
    "ax.scatter(x, hourly_medians)\n",
    "ax.set_xticks(x)\n",
    "ax.set_xticklabels(times, rotation=45)\n",
    "ax.set_ylabel(\"Median Seeing (arcsec)\")\n",
    "ax.set_title(\"Median Seeing vs. UT\")\n",
    "plt.savefig(\"hourly_median.pdf\")\n",
    "plt.show()"
   ]
  },
  {
   "cell_type": "code",
   "execution_count": 43,
   "metadata": {},
   "outputs": [
    {
     "data": {
      "application/vnd.jupyter.widget-view+json": {
       "model_id": "",
       "version_major": 2,
       "version_minor": 0
      },
      "text/plain": [
       "FigureCanvasNbAgg()"
      ]
     },
     "metadata": {},
     "output_type": "display_data"
    }
   ],
   "source": [
    "fig, ax = plt.subplots()\n",
    "x = range(12)\n",
    "plt.bar(x, hourly_sizes)\n",
    "ax.set_xticks(x)\n",
    "ax.set_xticklabels(times, rotation=45)\n",
    "ax.set_ylabel(\"Samples per Hour\")\n",
    "plt.savefig(\"hourly_samples.pdf\")\n",
    "plt.show()"
   ]
  },
  {
   "cell_type": "code",
   "execution_count": 44,
   "metadata": {},
   "outputs": [
    {
     "data": {
      "text/plain": [
       "(223288, 121526)"
      ]
     },
     "execution_count": 44,
     "metadata": {},
     "output_type": "execute_result"
    }
   ],
   "source": [
    "len(data), len(fixed)"
   ]
  },
  {
   "cell_type": "code",
   "execution_count": 45,
   "metadata": {},
   "outputs": [
    {
     "name": "stdout",
     "output_type": "stream",
     "text": [
      "WDIR_E\n",
      "WDIR_W\n",
      "WIND\n",
      "WINDDIR\n",
      "WIND_E\n",
      "WIND_W\n"
     ]
    }
   ],
   "source": [
    "for c in fixed.columns:\n",
    "    if 'wdir' in c.lower():\n",
    "        print(c)\n",
    "    if 'wind' in c.lower():\n",
    "        print(c)"
   ]
  },
  {
   "cell_type": "code",
   "execution_count": 46,
   "metadata": {},
   "outputs": [],
   "source": [
    "fixed['wind_speed'] = fixed['WIND']\n",
    "fixed['wind_speed'] = fixed['wind_speed'].fillna(fixed['WIND_W'])\n",
    "fixed['wind_dir'] = fixed['WINDDIR']\n",
    "fixed['wind_dir'] = fixed['wind_dir'].fillna(fixed['WDIR_W'])\n",
    "wfixed = fixed[fixed['wind_speed'] > 0.0]"
   ]
  },
  {
   "cell_type": "code",
   "execution_count": 47,
   "metadata": {},
   "outputs": [
    {
     "data": {
      "text/plain": [
       "213.0"
      ]
     },
     "execution_count": 47,
     "metadata": {},
     "output_type": "execute_result"
    }
   ],
   "source": [
    "wfixed['wind_dir'].median()"
   ]
  },
  {
   "cell_type": "code",
   "execution_count": 48,
   "metadata": {},
   "outputs": [
    {
     "data": {
      "application/vnd.jupyter.widget-view+json": {
       "model_id": "",
       "version_major": 2,
       "version_minor": 0
      },
      "text/plain": [
       "FigureCanvasNbAgg()"
      ]
     },
     "metadata": {},
     "output_type": "display_data"
    }
   ],
   "source": [
    "wfixed.hist(column='wind_speed', bins=50, range=(0.0, 50.0), alpha=0.6)\n",
    "plt.title(\"\")\n",
    "plt.xlabel(\"Wind Speed (mph)\")\n",
    "plt.ylabel(\"N\")\n",
    "plt.savefig(\"wind_hist.pdf\")\n",
    "plt.show()"
   ]
  },
  {
   "cell_type": "code",
   "execution_count": 49,
   "metadata": {},
   "outputs": [
    {
     "name": "stderr",
     "output_type": "stream",
     "text": [
      "/Users/tim/conda/envs/py36/lib/python3.6/site-packages/matplotlib/pyplot.py:537: RuntimeWarning: More than 20 figures have been opened. Figures created through the pyplot interface (`matplotlib.pyplot.figure`) are retained until explicitly closed and may consume too much memory. (To control this warning, see the rcParam `figure.max_open_warning`).\n",
      "  max_open_warning, RuntimeWarning)\n"
     ]
    },
    {
     "data": {
      "application/vnd.jupyter.widget-view+json": {
       "model_id": "",
       "version_major": 2,
       "version_minor": 0
      },
      "text/plain": [
       "FigureCanvasNbAgg()"
      ]
     },
     "metadata": {},
     "output_type": "display_data"
    }
   ],
   "source": [
    "wfixed.hist(column='wind_dir', bins=180, range=(0.0, 360.0), alpha=0.6)\n",
    "plt.title(\"\")\n",
    "plt.xlabel(\"Wind Direction (deg)\")\n",
    "plt.ylabel(\"N\")\n",
    "plt.savefig(\"winddir_hist.pdf\")\n",
    "plt.show()"
   ]
  },
  {
   "cell_type": "code",
   "execution_count": 50,
   "metadata": {},
   "outputs": [
    {
     "data": {
      "text/plain": [
       "[2, 6, 10, 14, 18, 22, 26, 30, 34, 38]"
      ]
     },
     "execution_count": 50,
     "metadata": {},
     "output_type": "execute_result"
    }
   ],
   "source": [
    "winds = np.arange(2, 42, 4)\n",
    "list(winds)"
   ]
  },
  {
   "cell_type": "code",
   "execution_count": 51,
   "metadata": {},
   "outputs": [
    {
     "data": {
      "text/plain": [
       "[0.86291280060177189,\n",
       " 0.78127101981416369,\n",
       " 0.78112972824842353,\n",
       " 0.82227261555283437,\n",
       " 0.87131455066429764,\n",
       " 0.97621667146931612,\n",
       " 0.99992366662732923,\n",
       " 1.115754877790625,\n",
       " 1.1235364514850368,\n",
       " 1.0962254375964573]"
      ]
     },
     "execution_count": 51,
     "metadata": {},
     "output_type": "execute_result"
    }
   ],
   "source": [
    "wmeds = []\n",
    "for w in winds:\n",
    "    wl = w - 2\n",
    "    wu = w + 2\n",
    "    dslice = wfixed[(wfixed['wind_speed'] >= wl) & (wfixed['wind_speed'] < wu)]\n",
    "    med = dslice['seeing'].median()\n",
    "    wmeds.append(med)\n",
    "wmeds"
   ]
  },
  {
   "cell_type": "code",
   "execution_count": 52,
   "metadata": {},
   "outputs": [
    {
     "name": "stderr",
     "output_type": "stream",
     "text": [
      "/Users/tim/conda/envs/py36/lib/python3.6/site-packages/matplotlib/pyplot.py:537: RuntimeWarning: More than 20 figures have been opened. Figures created through the pyplot interface (`matplotlib.pyplot.figure`) are retained until explicitly closed and may consume too much memory. (To control this warning, see the rcParam `figure.max_open_warning`).\n",
      "  max_open_warning, RuntimeWarning)\n"
     ]
    },
    {
     "data": {
      "application/vnd.jupyter.widget-view+json": {
       "model_id": "",
       "version_major": 2,
       "version_minor": 0
      },
      "text/plain": [
       "FigureCanvasNbAgg()"
      ]
     },
     "metadata": {},
     "output_type": "display_data"
    }
   ],
   "source": [
    "fig, ax = plt.subplots()\n",
    "ax.scatter(winds, wmeds)\n",
    "ax.set_ylim(0.5, 1.5)\n",
    "ax.set_xticks(winds)\n",
    "ax.set_ylabel(\"Median Seeing (arcsec)\")\n",
    "ax.set_xlabel(\"Wind Speed (mph)\")\n",
    "plt.savefig(\"seeing_v_wind.pdf\")\n",
    "plt.show()"
   ]
  },
  {
   "cell_type": "code",
   "execution_count": 53,
   "metadata": {},
   "outputs": [],
   "source": [
    "az = np.arange(22.5, 360, 22.5)\n",
    "az\n",
    "aznames = ['NNE', 'NE', \"ENE\", 'E', 'ESE', 'SE', 'SSE', 'S', 'SSW', 'SW', 'WSW', 'W', 'WNW', 'NW', 'NNW']"
   ]
  },
  {
   "cell_type": "code",
   "execution_count": 54,
   "metadata": {},
   "outputs": [
    {
     "data": {
      "text/plain": [
       "[0.98410274342373261,\n",
       " 0.98125217262352471,\n",
       " 0.97871142393699495,\n",
       " 0.93284688660782811,\n",
       " 0.87822829748479192,\n",
       " 0.8699651708709959,\n",
       " 0.85659593696825975,\n",
       " 0.84399175362143608,\n",
       " 0.85651247507085615,\n",
       " 0.84782164642830171,\n",
       " 0.81193275339672477,\n",
       " 0.81158646399684753,\n",
       " 0.8636604486785433,\n",
       " 0.85931807243677893,\n",
       " 0.89209353155351423]"
      ]
     },
     "execution_count": 54,
     "metadata": {},
     "output_type": "execute_result"
    }
   ],
   "source": [
    "ameds = []\n",
    "for a in az:\n",
    "    al = a - 22.5\n",
    "    au = a + 22.5\n",
    "    dslice = wfixed[(wfixed['wind_dir'] >= al) & (wfixed['wind_dir'] < au)]\n",
    "    med = dslice['seeing'].median()\n",
    "    ameds.append(med)\n",
    "ameds"
   ]
  },
  {
   "cell_type": "code",
   "execution_count": 55,
   "metadata": {},
   "outputs": [
    {
     "name": "stderr",
     "output_type": "stream",
     "text": [
      "/Users/tim/conda/envs/py36/lib/python3.6/site-packages/matplotlib/pyplot.py:537: RuntimeWarning: More than 20 figures have been opened. Figures created through the pyplot interface (`matplotlib.pyplot.figure`) are retained until explicitly closed and may consume too much memory. (To control this warning, see the rcParam `figure.max_open_warning`).\n",
      "  max_open_warning, RuntimeWarning)\n"
     ]
    },
    {
     "data": {
      "application/vnd.jupyter.widget-view+json": {
       "model_id": "",
       "version_major": 2,
       "version_minor": 0
      },
      "text/plain": [
       "FigureCanvasNbAgg()"
      ]
     },
     "metadata": {},
     "output_type": "display_data"
    }
   ],
   "source": [
    "fig, ax = plt.subplots()\n",
    "ax.scatter(az, ameds)\n",
    "ax.set_ylim(0.5, 1.5)\n",
    "ax.set_xticks(az)\n",
    "ax.set_xticklabels(aznames, rotation=45, size='x-small')\n",
    "ax.set_ylabel(\"Median Seeing (arcsec)\")\n",
    "ax.set_xlabel(\"Wind Direction\")\n",
    "ax.xaxis.set_label_position('top')\n",
    "plt.savefig(\"seeing_v_winddir.pdf\")\n",
    "plt.show()"
   ]
  },
  {
   "cell_type": "code",
   "execution_count": 56,
   "metadata": {},
   "outputs": [
    {
     "name": "stderr",
     "output_type": "stream",
     "text": [
      "/Users/tim/conda/envs/py36/lib/python3.6/site-packages/ipykernel_launcher.py:2: FutureWarning: Series.data is deprecated and will be removed in a future version\n",
      "  \n",
      "/Users/tim/conda/envs/py36/lib/python3.6/site-packages/ipykernel_launcher.py:4: SettingWithCopyWarning: \n",
      "A value is trying to be set on a copy of a slice from a DataFrame.\n",
      "Try using .loc[row_indexer,col_indexer] = value instead\n",
      "\n",
      "See the caveats in the documentation: http://pandas.pydata.org/pandas-docs/stable/indexing.html#indexing-view-versus-copy\n",
      "  after removing the cwd from sys.path.\n"
     ]
    }
   ],
   "source": [
    "tel_wind_offset = wfixed['AZ'] - wfixed['wind_dir']\n",
    "tel_wind_angle = Angle(tel_wind_offset.data * u.deg)\n",
    "tel_wind_angle.wrap_at('180d', inplace=True)\n",
    "wfixed['tel_wind_angle'] = np.abs(tel_wind_angle)"
   ]
  },
  {
   "cell_type": "code",
   "execution_count": 57,
   "metadata": {},
   "outputs": [
    {
     "data": {
      "text/plain": [
       "92.553891859999908"
      ]
     },
     "execution_count": 57,
     "metadata": {},
     "output_type": "execute_result"
    }
   ],
   "source": [
    "wfixed['tel_wind_angle'].median()"
   ]
  },
  {
   "cell_type": "code",
   "execution_count": 58,
   "metadata": {},
   "outputs": [
    {
     "data": {
      "text/plain": [
       "[0.8039245932493011,\n",
       " 0.80047555886688759,\n",
       " 0.81660233827547057,\n",
       " 0.84099318413087132,\n",
       " 0.84372433510238021,\n",
       " 0.83551916310524232,\n",
       " 0.82963685400563669,\n",
       " 0.8193780743569411,\n",
       " 0.82435782041830397,\n",
       " 0.86453101892897188,\n",
       " 0.90930677810162119,\n",
       " 0.9142893110400947,\n",
       " 0.92872247207684011,\n",
       " 0.93793408677524703,\n",
       " 0.93948166777576558,\n",
       " 0.94748482880671803,\n",
       " 0.93148205421833608]"
      ]
     },
     "execution_count": 58,
     "metadata": {},
     "output_type": "execute_result"
    }
   ],
   "source": [
    "angles = range(10, 180, 10)\n",
    "tameds = []\n",
    "for a in angles:\n",
    "    al = a - 10\n",
    "    au = a + 10\n",
    "    dslice = wfixed[(wfixed['tel_wind_angle'] >= al) & (wfixed['tel_wind_angle'] < au)]\n",
    "    med = dslice['seeing'].median()\n",
    "    tameds.append(med)\n",
    "tameds"
   ]
  },
  {
   "cell_type": "code",
   "execution_count": 59,
   "metadata": {},
   "outputs": [
    {
     "name": "stderr",
     "output_type": "stream",
     "text": [
      "/Users/tim/conda/envs/py36/lib/python3.6/site-packages/matplotlib/pyplot.py:537: RuntimeWarning: More than 20 figures have been opened. Figures created through the pyplot interface (`matplotlib.pyplot.figure`) are retained until explicitly closed and may consume too much memory. (To control this warning, see the rcParam `figure.max_open_warning`).\n",
      "  max_open_warning, RuntimeWarning)\n"
     ]
    },
    {
     "data": {
      "application/vnd.jupyter.widget-view+json": {
       "model_id": "",
       "version_major": 2,
       "version_minor": 0
      },
      "text/plain": [
       "FigureCanvasNbAgg()"
      ]
     },
     "metadata": {},
     "output_type": "display_data"
    }
   ],
   "source": [
    "fig, ax = plt.subplots()\n",
    "ax.scatter(angles, tameds)\n",
    "ax.set_ylim(0.5, 1.5)\n",
    "ax.set_xticks(angles)\n",
    "ax.set_ylabel(\"Median Seeing (arcsec)\")\n",
    "ax.set_xlabel(\"Azimuth/Wind Direction Offset (deg)\")\n",
    "ax.xaxis.set_label_position('top')\n",
    "ax.set_xticklabels(angles, rotation=45, size='small')\n",
    "plt.savefig(\"seeing_v_telaz.pdf\")\n",
    "plt.show()"
   ]
  },
  {
   "cell_type": "code",
   "execution_count": 60,
   "metadata": {},
   "outputs": [
    {
     "name": "stderr",
     "output_type": "stream",
     "text": [
      "/Users/tim/conda/envs/py36/lib/python3.6/site-packages/matplotlib/pyplot.py:537: RuntimeWarning: More than 20 figures have been opened. Figures created through the pyplot interface (`matplotlib.pyplot.figure`) are retained until explicitly closed and may consume too much memory. (To control this warning, see the rcParam `figure.max_open_warning`).\n",
      "  max_open_warning, RuntimeWarning)\n"
     ]
    },
    {
     "data": {
      "application/vnd.jupyter.widget-view+json": {
       "model_id": "",
       "version_major": 2,
       "version_minor": 0
      },
      "text/plain": [
       "FigureCanvasNbAgg()"
      ]
     },
     "metadata": {},
     "output_type": "display_data"
    }
   ],
   "source": [
    "short = fixed[fixed['EXPTIME'] <= 5.0]\n",
    "medium = fixed[(fixed['EXPTIME'] > 5.0) & (fixed['EXPTIME'] < 20.0)]\n",
    "long = fixed[fixed['EXPTIME'] >= 20.0]\n",
    "\n",
    "fixed.hist(column='EXPTIME', bins=100, range=(0, 60), alpha=0.6)\n",
    "plt.title(\"WFS Exposure Times\")\n",
    "plt.ylabel(\"N\")\n",
    "plt.xlabel(\"Exposure Time (sec)\")\n",
    "plt.text(60, 31500, \"<= 5 sec -> {:0.2f}\\\"\".format(short['seeing'].median()), horizontalalignment='right')\n",
    "plt.text(60, 28500, \"5-20 sec -> {:0.2f}\\\"\".format(medium['seeing'].median()), horizontalalignment='right')\n",
    "plt.text(60, 25500, \">= 20 sec -> {:0.2f}\\\"\".format(long['seeing'].median()), horizontalalignment='right')\n",
    "plt.savefig(\"exptime_v_seeing.pdf\")\n",
    "plt.show()"
   ]
  },
  {
   "cell_type": "code",
   "execution_count": 61,
   "metadata": {},
   "outputs": [
    {
     "data": {
      "text/plain": [
       "(0.82026377924795824, 0.93482981669916676, 1.0114399793479858)"
      ]
     },
     "execution_count": 61,
     "metadata": {},
     "output_type": "execute_result"
    }
   ],
   "source": [
    "short = fixed[fixed['EXPTIME'] <= 5.0]\n",
    "medium = fixed[(fixed['EXPTIME'] > 5.0) & (fixed['EXPTIME'] < 20.0)]\n",
    "long = fixed[fixed['EXPTIME'] >= 20.0]\n",
    "short['seeing'].median(), medium['seeing'].median(), long['seeing'].median()"
   ]
  },
  {
   "cell_type": "code",
   "execution_count": 62,
   "metadata": {},
   "outputs": [
    {
     "name": "stdout",
     "output_type": "stream",
     "text": [
      "EXPTIME\n"
     ]
    }
   ],
   "source": [
    "for c in fixed.columns:\n",
    "    if 'exp' in c.lower():\n",
    "        print(c)"
   ]
  },
  {
   "cell_type": "code",
   "execution_count": 65,
   "metadata": {},
   "outputs": [
    {
     "name": "stdout",
     "output_type": "stream",
     "text": [
      "0.452678414843 0.148376889725 0.691541136619\n"
     ]
    }
   ],
   "source": [
    "expfixed = fixed[fixed['EXPTIME'] <= 7.]\n",
    "\n",
    "# fit a log-normal distribution to the seeing data\n",
    "sigma, loc, exp_mu = scipy.stats.lognorm.fit(expfixed['seeing'])\n",
    "print(sigma, loc, exp_mu)\n",
    "x = np.arange(0.0, 4.0, 0.01)\n",
    "p = scipy.stats.lognorm.pdf(x, sigma, loc=loc, scale=exp_mu)\n",
    "mu = np.log(exp_mu)\n",
    "mode = np.exp(mu - sigma**2) + loc\n",
    "median = np.nanmedian(expfixed['seeing'])\n",
    "fit_median = exp_mu + loc"
   ]
  },
  {
   "cell_type": "code",
   "execution_count": 66,
   "metadata": {},
   "outputs": [
    {
     "name": "stderr",
     "output_type": "stream",
     "text": [
      "/Users/tim/conda/envs/py36/lib/python3.6/site-packages/matplotlib/pyplot.py:537: RuntimeWarning: More than 20 figures have been opened. Figures created through the pyplot interface (`matplotlib.pyplot.figure`) are retained until explicitly closed and may consume too much memory. (To control this warning, see the rcParam `figure.max_open_warning`).\n",
      "  max_open_warning, RuntimeWarning)\n"
     ]
    },
    {
     "data": {
      "application/vnd.jupyter.widget-view+json": {
       "model_id": "",
       "version_major": 2,
       "version_minor": 0
      },
      "text/plain": [
       "FigureCanvasNbAgg()"
      ]
     },
     "metadata": {},
     "output_type": "display_data"
    }
   ],
   "source": [
    "# plot normalized histogram with the fit and the median/mode calculated from the fit.\n",
    "plt.hist(expfixed['seeing'], density=True, bins=100, range=(0.0, 4.0), label=\"hist\", alpha=0.6)\n",
    "logp = plt.plot(x, p, label=\"logp\")\n",
    "plt.xlabel(\"Seeing (arcsec)\")\n",
    "plt.ylabel(\"Number Density\")\n",
    "plt.title(\"Exposure Time < 7 sec\")\n",
    "plt.legend([\"median=%.2f\\\", mode=%.2f\\\"\" % (fit_median, mode), \"median=%.2f\\\"\" % (\n",
    "    median\n",
    ")])\n",
    "plt.savefig(\"short_exp_seeing.pdf\")\n",
    "plt.show()"
   ]
  },
  {
   "cell_type": "code",
   "execution_count": 77,
   "metadata": {},
   "outputs": [],
   "source": [
    "pixsize = wfs_systems['binospec'].pix_size.value\n",
    "reffwhm = wfs_systems['binospec'].modes['binospec']['reference'].fwhm\n",
    "simple = np.sqrt(bino2018['gauss_fwhm']**2 - reffwhm**2)"
   ]
  },
  {
   "cell_type": "code",
   "execution_count": 78,
   "metadata": {},
   "outputs": [
    {
     "name": "stderr",
     "output_type": "stream",
     "text": [
      "/Users/tim/conda/envs/py36/lib/python3.6/site-packages/matplotlib/pyplot.py:537: RuntimeWarning: More than 20 figures have been opened. Figures created through the pyplot interface (`matplotlib.pyplot.figure`) are retained until explicitly closed and may consume too much memory. (To control this warning, see the rcParam `figure.max_open_warning`).\n",
      "  max_open_warning, RuntimeWarning)\n"
     ]
    },
    {
     "data": {
      "application/vnd.jupyter.widget-view+json": {
       "model_id": "",
       "version_major": 2,
       "version_minor": 0
      },
      "text/plain": [
       "FigureCanvasNbAgg()"
      ]
     },
     "metadata": {},
     "output_type": "display_data"
    }
   ],
   "source": [
    "plt.hist(simple*pixsize, density=True, bins=100, range=(0.0, 4.0), label=\"hist\", alpha=0.6)\n",
    "plt.hist(bino2018['seeing'], bins=100, range=(0.0, 4.0), density=True, label=\"WFS\", alpha=0.6)\n",
    "plt.show()"
   ]
  },
  {
   "cell_type": "code",
   "execution_count": 95,
   "metadata": {},
   "outputs": [
    {
     "data": {
      "application/vnd.jupyter.widget-view+json": {
       "model_id": "7223bb90bc1b4b82a15db746962b79c3",
       "version_major": 2,
       "version_minor": 0
      },
      "text/plain": [
       "FigureCanvasNbAgg()"
      ]
     },
     "metadata": {},
     "output_type": "display_data"
    }
   ],
   "source": [
    "plt.hist(bino2018['moment_fwhm']*gaussian_fwhm_to_sigma, bins=100, range=(0.0, 30.0),  alpha=0.6)\n",
    "plt.hist(bino2018['gauss_fwhm'], bins=100, range=(0.0, 10.0),  alpha=0.6)\n",
    "plt.hist(bino2018['semiminor_axis_sigma'], bins=100, range=(0.0, 10.0), alpha=0.6)\n",
    "plt.show()"
   ]
  },
  {
   "cell_type": "code",
   "execution_count": 88,
   "metadata": {},
   "outputs": [
    {
     "name": "stdout",
     "output_type": "stream",
     "text": [
      "ABS_HUM\n",
      "ACTUALX\n",
      "ACTUALY\n",
      "ADCBUSYE\n",
      "ADCBUSYW\n",
      "ADCCPRME\n",
      "ADCCPRMW\n",
      "ADCELEV\n",
      "ADCEPRSE\n",
      "ADCEPRSW\n",
      "ADCPARTY\n",
      "ADCPRES\n",
      "ADCPRSME\n",
      "ADCPRSMW\n",
      "ADCTEMP\n",
      "ADCTRACK\n",
      "ADCWAVE1\n",
      "ADCWAVE2\n",
      "AEROFF\n",
      "AIRMASS\n",
      "AMB_TEMP\n",
      "AZ\n",
      "AZOFF\n",
      "AZ_INST\n",
      "AZ_OFF\n",
      "BITPIX\n",
      "BSCALE\n",
      "BZERO\n",
      "CA\n",
      "CAMERA\n",
      "CAMTEMP\n",
      "CATCOORD\n",
      "CATDEC\n",
      "CATDEC2K\n",
      "CATDECPM\n",
      "CATEPOCH\n",
      "CATID\n",
      "CATPA\n",
      "CATRA\n",
      "CATRA2K\n",
      "CATRAPM\n",
      "CAT_ID\n",
      "CCD-TEMP\n",
      "CCDTEMP\n",
      "CCDXBIN\n",
      "CCDYBIN\n",
      "CD1_1\n",
      "CD1_2\n",
      "CD2_1\n",
      "CD2_2\n",
      "CDELT1\n",
      "CDELT2\n",
      "CHAM_DPT\n",
      "CHAM_RH\n",
      "CHAM_T\n",
      "CROTA2\n",
      "CRPIX1\n",
      "CRPIX2\n",
      "CRVAL1\n",
      "CRVAL2\n",
      "CURRDEC\n",
      "CURREPCH\n",
      "CURRPA\n",
      "CURRRA\n",
      "CURRTEMP\n",
      "DARKTIME\n",
      "DATAMAX\n",
      "DATAMIN\n",
      "DEC\n",
      "DECOFF\n",
      "DEC_2000\n",
      "DEC_OFF\n",
      "DEWPOINT\n",
      "EL\n",
      "ELOFF\n",
      "EL_INST\n",
      "EL_OFF\n",
      "ENDTIME\n",
      "EPOCH\n",
      "EQUINOX\n",
      "EXPTIME\n",
      "EXTEND\n",
      "EXTVER\n",
      "FILTER\n",
      "FOCUS\n",
      "FOOTIME\n",
      "GAIN\n",
      "GAZOFF\n",
      "GCOUNT\n",
      "GELOFF\n",
      "GRTOFF\n",
      "GSEEING\n",
      "GUIDERX\n",
      "GUIDERY\n",
      "IAZOFF\n",
      "IELOFF\n",
      "INHERIT\n",
      "INPOS\n",
      "IROTOFF\n",
      "IXOFF\n",
      "IYOFF\n",
      "JD\n",
      "LINEARX\n",
      "LINEARY\n",
      "LTM1_1\n",
      "LTM1_2\n",
      "LTM2_1\n",
      "LTM2_2\n",
      "LTV1\n",
      "LTV2\n",
      "MASK\n",
      "MIX_RAT\n",
      "MJD\n",
      "MJD-OBS\n",
      "NAXIS\n",
      "NAXIS1\n",
      "NAXIS2\n",
      "NCOMBINE\n",
      "OBJECT\n",
      "OFFSET1\n",
      "OFFSET2\n",
      "OSSTEMP\n",
      "OUT_DPT\n",
      "OUT_RH\n",
      "OUT_T\n",
      "PA\n",
      "PCOUNT\n",
      "PIXSIZE1\n",
      "PIXSIZE2\n",
      "POSANG\n",
      "PRESSURE\n",
      "P_BARO\n",
      "RA\n",
      "RAOFF\n",
      "RA_2000\n",
      "RA_OFF\n",
      "RDROFF\n",
      "REL_HUM\n",
      "RH_CHAM\n",
      "RH_OUT\n",
      "RLINEARX\n",
      "RLINEARY\n",
      "ROT\n",
      "ROTATOR\n",
      "ROTATORN\n",
      "ROTOFF\n",
      "SECZ\n",
      "SIMPLE\n",
      "STARXMM\n",
      "STARYMM\n",
      "TC_000\n",
      "TC_001\n",
      "TC_002\n",
      "TC_003\n",
      "TC_004\n",
      "TC_005\n",
      "TC_006\n",
      "TC_007\n",
      "TC_008\n",
      "TC_009\n",
      "TC_010\n",
      "TC_011\n",
      "TC_012\n",
      "TC_013\n",
      "TC_014\n",
      "TC_015\n",
      "TC_016\n",
      "TC_017\n",
      "TC_018\n",
      "TC_019\n",
      "TC_020\n",
      "TC_021\n",
      "TC_022\n",
      "TC_023\n",
      "TC_024\n",
      "TC_025\n",
      "TC_026\n",
      "TC_027\n",
      "TC_028\n",
      "TC_029\n",
      "TC_030\n",
      "TC_031\n",
      "TC_032\n",
      "TC_033\n",
      "TC_034\n",
      "TC_035\n",
      "TC_036\n",
      "TC_037\n",
      "TC_038\n",
      "TC_039\n",
      "TC_040\n",
      "TC_041\n",
      "TC_042\n",
      "TC_043\n",
      "TC_044\n",
      "TC_045\n",
      "TC_046\n",
      "TC_047\n",
      "TC_048\n",
      "TC_049\n",
      "TC_050\n",
      "TC_051\n",
      "TC_052\n",
      "TC_053\n",
      "TC_054\n",
      "TC_055\n",
      "TC_056\n",
      "TC_057\n",
      "TC_058\n",
      "TC_059\n",
      "TC_060\n",
      "TC_061\n",
      "TC_062\n",
      "TC_063\n",
      "TC_064\n",
      "TC_065\n",
      "TC_066\n",
      "TC_067\n",
      "TC_068\n",
      "TC_069\n",
      "TC_070\n",
      "TC_071\n",
      "TC_072\n",
      "TC_073\n",
      "TC_074\n",
      "TC_075\n",
      "TC_076\n",
      "TC_077\n",
      "TC_078\n",
      "TC_079\n",
      "TC_080\n",
      "TC_081\n",
      "TC_082\n",
      "TC_083\n",
      "TC_084\n",
      "TC_085\n",
      "TC_086\n",
      "TC_087\n",
      "TC_088\n",
      "TC_089\n",
      "TC_090\n",
      "TC_091\n",
      "TC_092\n",
      "TC_093\n",
      "TC_094\n",
      "TC_095\n",
      "TC_096\n",
      "TC_097\n",
      "TC_098\n",
      "TC_099\n",
      "TC_100\n",
      "TC_101\n",
      "TC_102\n",
      "TC_103\n",
      "TC_104\n",
      "TC_105\n",
      "TC_106\n",
      "TC_107\n",
      "TC_108\n",
      "TC_109\n",
      "TC_110\n",
      "TC_111\n",
      "TEMP\n",
      "TILTX\n",
      "TILTY\n",
      "TMPRAW\n",
      "TRANSX\n",
      "TRANSY\n",
      "TRANSZ\n",
      "T_CHAM\n",
      "T_OUT\n",
      "WCSDIM\n",
      "WDIR_E\n",
      "WDIR_W\n",
      "WETBULB\n",
      "WFSFOCUS\n",
      "WIND\n",
      "WINDDIR\n",
      "WIND_E\n",
      "WIND_W\n",
      "WSEEING\n",
      "XBINNING\n",
      "XFACTOR\n",
      "XYROFF\n",
      "YBINNING\n",
      "YFACTOR\n",
      "area\n",
      "background_at_centroid\n",
      "background_mean\n",
      "background_sum\n",
      "covar_sigx2\n",
      "covar_sigxy\n",
      "covar_sigy2\n",
      "cxx\n",
      "cxy\n",
      "cyy\n",
      "eccentricity\n",
      "ellipticity\n",
      "elongation\n",
      "equivalent_radius\n",
      "filename\n",
      "flux\n",
      "gauss_amplitude\n",
      "gauss_background\n",
      "gauss_fwhm\n",
      "gauss_rms\n",
      "gauss_sigx\n",
      "gauss_sigy\n",
      "gauss_theta\n",
      "gauss_x\n",
      "gauss_y\n",
      "id_1\n",
      "id_2\n",
      "mag\n",
      "max_value\n",
      "maxval_xpos\n",
      "maxval_ypos\n",
      "min_value\n",
      "minval_xpos\n",
      "minval_ypos\n",
      "moffat_alpha\n",
      "moffat_amplitude\n",
      "moffat_background\n",
      "moffat_fwhm\n",
      "moffat_gamma\n",
      "moffat_rms\n",
      "moffat_x\n",
      "moffat_y\n",
      "moment_fwhm\n",
      "npix\n",
      "obstime\n",
      "orientation\n",
      "peak\n",
      "perimeter\n",
      "roundness1\n",
      "roundness2\n",
      "semimajor_axis_sigma\n",
      "semiminor_axis_sigma\n",
      "sharpness\n",
      "sky\n",
      "sky_centroid\n",
      "sky_centroid_icrs\n",
      "source_sum\n",
      "source_sum_err\n",
      "wfskey\n",
      "xcentroid_1\n",
      "xcentroid_2\n",
      "xmax\n",
      "xmin\n",
      "ycentroid_1\n",
      "ycentroid_2\n",
      "ymax\n",
      "ymin\n",
      "raw_seeing\n",
      "seeing\n"
     ]
    }
   ],
   "source": [
    "for c in bino2018.columns:\n",
    "    print(c)"
   ]
  },
  {
   "cell_type": "code",
   "execution_count": 90,
   "metadata": {},
   "outputs": [],
   "source": [
    "from astropy.stats import gaussian_fwhm_to_sigma, gaussian_sigma_to_fwhm"
   ]
  },
  {
   "cell_type": "code",
   "execution_count": 92,
   "metadata": {},
   "outputs": [
    {
     "data": {
      "text/plain": [
       "2.3548200450309493"
      ]
     },
     "execution_count": 92,
     "metadata": {},
     "output_type": "execute_result"
    }
   ],
   "source": [
    "gaussian_sigma_to_fwhm"
   ]
  },
  {
   "cell_type": "code",
   "execution_count": null,
   "metadata": {},
   "outputs": [],
   "source": []
  }
 ],
 "metadata": {
  "kernelspec": {
   "display_name": "Python 3",
   "language": "python",
   "name": "python3"
  },
  "language_info": {
   "codemirror_mode": {
    "name": "ipython",
    "version": 3
   },
   "file_extension": ".py",
   "mimetype": "text/x-python",
   "name": "python",
   "nbconvert_exporter": "python",
   "pygments_lexer": "ipython3",
   "version": "3.7.0"
  }
 },
 "nbformat": 4,
 "nbformat_minor": 2
}
